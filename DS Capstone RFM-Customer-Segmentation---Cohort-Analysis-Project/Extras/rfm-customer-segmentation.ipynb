{
 "cells": [
  {
   "cell_type": "code",
   "execution_count": 1,
   "id": "ceramic-edgar",
   "metadata": {
    "_cell_guid": "b1076dfc-b9ad-4769-8c92-a6c4dae69d19",
    "_uuid": "8f2839f25d086af736a60e9eeb907d3b93b6e0e5",
    "execution": {
     "iopub.execute_input": "2021-04-22T20:02:10.693425Z",
     "iopub.status.busy": "2021-04-22T20:02:10.692127Z",
     "iopub.status.idle": "2021-04-22T20:02:10.702631Z",
     "shell.execute_reply": "2021-04-22T20:02:10.703463Z"
    },
    "papermill": {
     "duration": 0.060657,
     "end_time": "2021-04-22T20:02:10.703810",
     "exception": false,
     "start_time": "2021-04-22T20:02:10.643153",
     "status": "completed"
    },
    "tags": []
   },
   "outputs": [
    {
     "name": "stdout",
     "output_type": "stream",
     "text": [
      "/kaggle/input/ecommerce-data/data.csv\n"
     ]
    }
   ],
   "source": [
    "# This Python 3 environment comes with many helpful analytics libraries installed\n",
    "# It is defined by the kaggle/python Docker image: https://github.com/kaggle/docker-python\n",
    "# For example, here's several helpful packages to load\n",
    "\n",
    "import numpy as np # linear algebra\n",
    "import pandas as pd # data processing, CSV file I/O (e.g. pd.read_csv)\n",
    "\n",
    "# Input data files are available in the read-only \"../input/\" directory\n",
    "# For example, running this (by clicking run or pressing Shift+Enter) will list all files under the input directory\n",
    "\n",
    "import os\n",
    "for dirname, _, filenames in os.walk('/kaggle/input'):\n",
    "    for filename in filenames:\n",
    "        print(os.path.join(dirname, filename))\n",
    "\n",
    "# You can write up to 20GB to the current directory (/kaggle/working/) that gets preserved as output when you create a version using \"Save & Run All\" \n",
    "# You can also write temporary files to /kaggle/temp/, but they won't be saved outside of the current session"
   ]
  },
  {
   "cell_type": "markdown",
   "id": "classified-retention",
   "metadata": {
    "papermill": {
     "duration": 0.043009,
     "end_time": "2021-04-22T20:02:10.791901",
     "exception": false,
     "start_time": "2021-04-22T20:02:10.748892",
     "status": "completed"
    },
    "tags": []
   },
   "source": [
    "# Intro into RFM Framework\n",
    "\n",
    "RFM framework is a method used to determine customer value by looking at the following three dimensions:\n",
    "* Recency: when is the last time the user takes an action (e.g., login, place an order)? \n",
    "* Frequency: how many times does the user take this action?\n",
    "* Monetary value: what is the sum of monetary value from this user throughout his/her lifetime?\n",
    "\n",
    "When used properly, RFM becomes a powerful tool to identify the most valuable customer (MVC) of a business. Based on the output from this model, we are able to develop customized CRM strategies for different customer segments. With this post, I want to share the Kaggle notebook from an RFM segmentation analysis plus some tips that I found useful in the application of the model output."
   ]
  },
  {
   "cell_type": "code",
   "execution_count": 2,
   "id": "median-ambassador",
   "metadata": {
    "execution": {
     "iopub.execute_input": "2021-04-22T20:02:10.884119Z",
     "iopub.status.busy": "2021-04-22T20:02:10.883492Z",
     "iopub.status.idle": "2021-04-22T20:02:12.221654Z",
     "shell.execute_reply": "2021-04-22T20:02:12.221121Z"
    },
    "papermill": {
     "duration": 1.386453,
     "end_time": "2021-04-22T20:02:12.221817",
     "exception": false,
     "start_time": "2021-04-22T20:02:10.835364",
     "status": "completed"
    },
    "tags": []
   },
   "outputs": [
    {
     "data": {
      "text/html": [
       "<div>\n",
       "<style scoped>\n",
       "    .dataframe tbody tr th:only-of-type {\n",
       "        vertical-align: middle;\n",
       "    }\n",
       "\n",
       "    .dataframe tbody tr th {\n",
       "        vertical-align: top;\n",
       "    }\n",
       "\n",
       "    .dataframe thead th {\n",
       "        text-align: right;\n",
       "    }\n",
       "</style>\n",
       "<table border=\"1\" class=\"dataframe\">\n",
       "  <thead>\n",
       "    <tr style=\"text-align: right;\">\n",
       "      <th></th>\n",
       "      <th>InvoiceNo</th>\n",
       "      <th>StockCode</th>\n",
       "      <th>Description</th>\n",
       "      <th>Quantity</th>\n",
       "      <th>InvoiceDate</th>\n",
       "      <th>UnitPrice</th>\n",
       "      <th>CustomerID</th>\n",
       "      <th>Country</th>\n",
       "    </tr>\n",
       "  </thead>\n",
       "  <tbody>\n",
       "    <tr>\n",
       "      <th>0</th>\n",
       "      <td>536365</td>\n",
       "      <td>85123A</td>\n",
       "      <td>WHITE HANGING HEART T-LIGHT HOLDER</td>\n",
       "      <td>6</td>\n",
       "      <td>12/1/2010 8:26</td>\n",
       "      <td>2.55</td>\n",
       "      <td>17850.0</td>\n",
       "      <td>United Kingdom</td>\n",
       "    </tr>\n",
       "    <tr>\n",
       "      <th>1</th>\n",
       "      <td>536365</td>\n",
       "      <td>71053</td>\n",
       "      <td>WHITE METAL LANTERN</td>\n",
       "      <td>6</td>\n",
       "      <td>12/1/2010 8:26</td>\n",
       "      <td>3.39</td>\n",
       "      <td>17850.0</td>\n",
       "      <td>United Kingdom</td>\n",
       "    </tr>\n",
       "    <tr>\n",
       "      <th>2</th>\n",
       "      <td>536365</td>\n",
       "      <td>84406B</td>\n",
       "      <td>CREAM CUPID HEARTS COAT HANGER</td>\n",
       "      <td>8</td>\n",
       "      <td>12/1/2010 8:26</td>\n",
       "      <td>2.75</td>\n",
       "      <td>17850.0</td>\n",
       "      <td>United Kingdom</td>\n",
       "    </tr>\n",
       "    <tr>\n",
       "      <th>3</th>\n",
       "      <td>536365</td>\n",
       "      <td>84029G</td>\n",
       "      <td>KNITTED UNION FLAG HOT WATER BOTTLE</td>\n",
       "      <td>6</td>\n",
       "      <td>12/1/2010 8:26</td>\n",
       "      <td>3.39</td>\n",
       "      <td>17850.0</td>\n",
       "      <td>United Kingdom</td>\n",
       "    </tr>\n",
       "    <tr>\n",
       "      <th>4</th>\n",
       "      <td>536365</td>\n",
       "      <td>84029E</td>\n",
       "      <td>RED WOOLLY HOTTIE WHITE HEART.</td>\n",
       "      <td>6</td>\n",
       "      <td>12/1/2010 8:26</td>\n",
       "      <td>3.39</td>\n",
       "      <td>17850.0</td>\n",
       "      <td>United Kingdom</td>\n",
       "    </tr>\n",
       "  </tbody>\n",
       "</table>\n",
       "</div>"
      ],
      "text/plain": [
       "  InvoiceNo StockCode                          Description  Quantity  \\\n",
       "0    536365    85123A   WHITE HANGING HEART T-LIGHT HOLDER         6   \n",
       "1    536365     71053                  WHITE METAL LANTERN         6   \n",
       "2    536365    84406B       CREAM CUPID HEARTS COAT HANGER         8   \n",
       "3    536365    84029G  KNITTED UNION FLAG HOT WATER BOTTLE         6   \n",
       "4    536365    84029E       RED WOOLLY HOTTIE WHITE HEART.         6   \n",
       "\n",
       "      InvoiceDate  UnitPrice  CustomerID         Country  \n",
       "0  12/1/2010 8:26       2.55     17850.0  United Kingdom  \n",
       "1  12/1/2010 8:26       3.39     17850.0  United Kingdom  \n",
       "2  12/1/2010 8:26       2.75     17850.0  United Kingdom  \n",
       "3  12/1/2010 8:26       3.39     17850.0  United Kingdom  \n",
       "4  12/1/2010 8:26       3.39     17850.0  United Kingdom  "
      ]
     },
     "execution_count": 2,
     "metadata": {},
     "output_type": "execute_result"
    }
   ],
   "source": [
    "# Load the dataset and have a peek into first rows\n",
    "data = pd.read_csv(\"/kaggle/input/ecommerce-data/data.csv\")\n",
    "data.head()"
   ]
  },
  {
   "cell_type": "code",
   "execution_count": 3,
   "id": "civic-tennis",
   "metadata": {
    "execution": {
     "iopub.execute_input": "2021-04-22T20:02:12.315753Z",
     "iopub.status.busy": "2021-04-22T20:02:12.315058Z",
     "iopub.status.idle": "2021-04-22T20:02:12.602117Z",
     "shell.execute_reply": "2021-04-22T20:02:12.601084Z"
    },
    "papermill": {
     "duration": 0.335837,
     "end_time": "2021-04-22T20:02:12.602354",
     "exception": false,
     "start_time": "2021-04-22T20:02:12.266517",
     "status": "completed"
    },
    "tags": []
   },
   "outputs": [
    {
     "name": "stdout",
     "output_type": "stream",
     "text": [
      "<class 'pandas.core.frame.DataFrame'>\n",
      "RangeIndex: 541909 entries, 0 to 541908\n",
      "Data columns (total 8 columns):\n",
      " #   Column       Non-Null Count   Dtype  \n",
      "---  ------       --------------   -----  \n",
      " 0   InvoiceNo    541909 non-null  object \n",
      " 1   StockCode    541909 non-null  object \n",
      " 2   Description  540455 non-null  object \n",
      " 3   Quantity     541909 non-null  int64  \n",
      " 4   InvoiceDate  541909 non-null  object \n",
      " 5   UnitPrice    541909 non-null  float64\n",
      " 6   CustomerID   406829 non-null  float64\n",
      " 7   Country      541909 non-null  object \n",
      "dtypes: float64(2), int64(1), object(5)\n",
      "memory usage: 33.1+ MB\n"
     ]
    }
   ],
   "source": [
    "# Check the basic info of the dataset: size, variables, data types\n",
    "data.info()"
   ]
  },
  {
   "cell_type": "code",
   "execution_count": 4,
   "id": "amber-margin",
   "metadata": {
    "execution": {
     "iopub.execute_input": "2021-04-22T20:02:12.698622Z",
     "iopub.status.busy": "2021-04-22T20:02:12.697944Z",
     "iopub.status.idle": "2021-04-22T20:02:13.254994Z",
     "shell.execute_reply": "2021-04-22T20:02:13.255530Z"
    },
    "papermill": {
     "duration": 0.607353,
     "end_time": "2021-04-22T20:02:13.255718",
     "exception": false,
     "start_time": "2021-04-22T20:02:12.648365",
     "status": "completed"
    },
    "tags": []
   },
   "outputs": [
    {
     "name": "stdout",
     "output_type": "stream",
     "text": [
      "<class 'pandas.core.frame.DataFrame'>\n",
      "Int64Index: 406829 entries, 0 to 541908\n",
      "Data columns (total 8 columns):\n",
      " #   Column       Non-Null Count   Dtype  \n",
      "---  ------       --------------   -----  \n",
      " 0   InvoiceNo    406829 non-null  object \n",
      " 1   StockCode    406829 non-null  object \n",
      " 2   Description  406829 non-null  object \n",
      " 3   Quantity     406829 non-null  int64  \n",
      " 4   InvoiceDate  406829 non-null  object \n",
      " 5   UnitPrice    406829 non-null  float64\n",
      " 6   CustomerID   406829 non-null  float64\n",
      " 7   Country      406829 non-null  object \n",
      "dtypes: float64(2), int64(1), object(5)\n",
      "memory usage: 27.9+ MB\n"
     ]
    }
   ],
   "source": [
    "# Note that we have some missing values in column \"Description\" and \"CustomerID\".\n",
    "# Since our goal is to create a customer segmentation using the RFM framework, we need \n",
    "# drop rows with missing customer ID and description.\n",
    "data = data.dropna()\n",
    "data.info()"
   ]
  },
  {
   "cell_type": "code",
   "execution_count": 5,
   "id": "correct-victoria",
   "metadata": {
    "execution": {
     "iopub.execute_input": "2021-04-22T20:02:13.352685Z",
     "iopub.status.busy": "2021-04-22T20:02:13.351538Z",
     "iopub.status.idle": "2021-04-22T20:02:13.563674Z",
     "shell.execute_reply": "2021-04-22T20:02:13.563123Z"
    },
    "papermill": {
     "duration": 0.262724,
     "end_time": "2021-04-22T20:02:13.563824",
     "exception": false,
     "start_time": "2021-04-22T20:02:13.301100",
     "status": "completed"
    },
    "tags": []
   },
   "outputs": [
    {
     "data": {
      "text/plain": [
       "0    12/1/2010\n",
       "1    12/1/2010\n",
       "2    12/1/2010\n",
       "3    12/1/2010\n",
       "4    12/1/2010\n",
       "Name: InvoiceDate, dtype: object"
      ]
     },
     "execution_count": 5,
     "metadata": {},
     "output_type": "execute_result"
    }
   ],
   "source": [
    "# Convert column \"InvoiceDate\" to datetime\n",
    "from datetime import datetime\n",
    "data[\"InvoiceDate\"] = data[\"InvoiceDate\"].apply(lambda x: x.split(' ')[0])\n",
    "data[\"InvoiceDate\"].head()"
   ]
  },
  {
   "cell_type": "code",
   "execution_count": 6,
   "id": "designed-brake",
   "metadata": {
    "execution": {
     "iopub.execute_input": "2021-04-22T20:02:13.659845Z",
     "iopub.status.busy": "2021-04-22T20:02:13.659142Z",
     "iopub.status.idle": "2021-04-22T20:02:18.671170Z",
     "shell.execute_reply": "2021-04-22T20:02:18.671753Z"
    },
    "papermill": {
     "duration": 5.061674,
     "end_time": "2021-04-22T20:02:18.671933",
     "exception": false,
     "start_time": "2021-04-22T20:02:13.610259",
     "status": "completed"
    },
    "tags": []
   },
   "outputs": [],
   "source": [
    "data[\"InvoiceDate\"] = data[\"InvoiceDate\"].apply(lambda x: datetime.strptime(x, '%m/%d/%Y'))"
   ]
  },
  {
   "cell_type": "code",
   "execution_count": 7,
   "id": "constant-evaluation",
   "metadata": {
    "execution": {
     "iopub.execute_input": "2021-04-22T20:02:18.771439Z",
     "iopub.status.busy": "2021-04-22T20:02:18.770793Z",
     "iopub.status.idle": "2021-04-22T20:02:18.942837Z",
     "shell.execute_reply": "2021-04-22T20:02:18.942145Z"
    },
    "papermill": {
     "duration": 0.223917,
     "end_time": "2021-04-22T20:02:18.942983",
     "exception": false,
     "start_time": "2021-04-22T20:02:18.719066",
     "status": "completed"
    },
    "tags": []
   },
   "outputs": [
    {
     "name": "stdout",
     "output_type": "stream",
     "text": [
      "<class 'pandas.core.frame.DataFrame'>\n",
      "Int64Index: 406829 entries, 0 to 541908\n",
      "Data columns (total 8 columns):\n",
      " #   Column       Non-Null Count   Dtype         \n",
      "---  ------       --------------   -----         \n",
      " 0   InvoiceNo    406829 non-null  object        \n",
      " 1   StockCode    406829 non-null  object        \n",
      " 2   Description  406829 non-null  object        \n",
      " 3   Quantity     406829 non-null  int64         \n",
      " 4   InvoiceDate  406829 non-null  datetime64[ns]\n",
      " 5   UnitPrice    406829 non-null  float64       \n",
      " 6   CustomerID   406829 non-null  float64       \n",
      " 7   Country      406829 non-null  object        \n",
      "dtypes: datetime64[ns](1), float64(2), int64(1), object(4)\n",
      "memory usage: 27.9+ MB\n"
     ]
    }
   ],
   "source": [
    "# Check the dataset info after conversion\n",
    "data.info()"
   ]
  },
  {
   "cell_type": "code",
   "execution_count": 8,
   "id": "billion-barcelona",
   "metadata": {
    "execution": {
     "iopub.execute_input": "2021-04-22T20:02:19.043049Z",
     "iopub.status.busy": "2021-04-22T20:02:19.042359Z",
     "iopub.status.idle": "2021-04-22T20:02:19.068779Z",
     "shell.execute_reply": "2021-04-22T20:02:19.069272Z"
    },
    "papermill": {
     "duration": 0.079574,
     "end_time": "2021-04-22T20:02:19.069440",
     "exception": false,
     "start_time": "2021-04-22T20:02:18.989866",
     "status": "completed"
    },
    "tags": []
   },
   "outputs": [
    {
     "data": {
      "text/html": [
       "<div>\n",
       "<style scoped>\n",
       "    .dataframe tbody tr th:only-of-type {\n",
       "        vertical-align: middle;\n",
       "    }\n",
       "\n",
       "    .dataframe tbody tr th {\n",
       "        vertical-align: top;\n",
       "    }\n",
       "\n",
       "    .dataframe thead th {\n",
       "        text-align: right;\n",
       "    }\n",
       "</style>\n",
       "<table border=\"1\" class=\"dataframe\">\n",
       "  <thead>\n",
       "    <tr style=\"text-align: right;\">\n",
       "      <th></th>\n",
       "      <th>Quantity</th>\n",
       "      <th>UnitPrice</th>\n",
       "      <th>OrderValue</th>\n",
       "    </tr>\n",
       "  </thead>\n",
       "  <tbody>\n",
       "    <tr>\n",
       "      <th>0</th>\n",
       "      <td>6</td>\n",
       "      <td>2.55</td>\n",
       "      <td>15.30</td>\n",
       "    </tr>\n",
       "    <tr>\n",
       "      <th>1</th>\n",
       "      <td>6</td>\n",
       "      <td>3.39</td>\n",
       "      <td>20.34</td>\n",
       "    </tr>\n",
       "    <tr>\n",
       "      <th>2</th>\n",
       "      <td>8</td>\n",
       "      <td>2.75</td>\n",
       "      <td>22.00</td>\n",
       "    </tr>\n",
       "    <tr>\n",
       "      <th>3</th>\n",
       "      <td>6</td>\n",
       "      <td>3.39</td>\n",
       "      <td>20.34</td>\n",
       "    </tr>\n",
       "    <tr>\n",
       "      <th>4</th>\n",
       "      <td>6</td>\n",
       "      <td>3.39</td>\n",
       "      <td>20.34</td>\n",
       "    </tr>\n",
       "  </tbody>\n",
       "</table>\n",
       "</div>"
      ],
      "text/plain": [
       "   Quantity  UnitPrice  OrderValue\n",
       "0         6       2.55       15.30\n",
       "1         6       3.39       20.34\n",
       "2         8       2.75       22.00\n",
       "3         6       3.39       20.34\n",
       "4         6       3.39       20.34"
      ]
     },
     "execution_count": 8,
     "metadata": {},
     "output_type": "execute_result"
    }
   ],
   "source": [
    "# Create a new variable OrderValue = Quanity * UnitPrice\n",
    "data[\"OrderValue\"] = data[\"Quantity\"] * data[\"UnitPrice\"]\n",
    "data[[\"Quantity\", \"UnitPrice\", \"OrderValue\"]].head()"
   ]
  },
  {
   "cell_type": "code",
   "execution_count": 9,
   "id": "painful-madonna",
   "metadata": {
    "execution": {
     "iopub.execute_input": "2021-04-22T20:02:19.167313Z",
     "iopub.status.busy": "2021-04-22T20:02:19.166659Z",
     "iopub.status.idle": "2021-04-22T20:02:20.403484Z",
     "shell.execute_reply": "2021-04-22T20:02:20.402838Z"
    },
    "papermill": {
     "duration": 1.286521,
     "end_time": "2021-04-22T20:02:20.403630",
     "exception": false,
     "start_time": "2021-04-22T20:02:19.117109",
     "status": "completed"
    },
    "tags": []
   },
   "outputs": [
    {
     "data": {
      "text/html": [
       "<div>\n",
       "<style scoped>\n",
       "    .dataframe tbody tr th:only-of-type {\n",
       "        vertical-align: middle;\n",
       "    }\n",
       "\n",
       "    .dataframe tbody tr th {\n",
       "        vertical-align: top;\n",
       "    }\n",
       "\n",
       "    .dataframe thead tr th {\n",
       "        text-align: left;\n",
       "    }\n",
       "\n",
       "    .dataframe thead tr:last-of-type th {\n",
       "        text-align: right;\n",
       "    }\n",
       "</style>\n",
       "<table border=\"1\" class=\"dataframe\">\n",
       "  <thead>\n",
       "    <tr>\n",
       "      <th></th>\n",
       "      <th colspan=\"3\" halign=\"left\">InvoiceDate</th>\n",
       "      <th>OrderValue</th>\n",
       "    </tr>\n",
       "    <tr>\n",
       "      <th></th>\n",
       "      <th>max</th>\n",
       "      <th>min</th>\n",
       "      <th>nunique</th>\n",
       "      <th>sum</th>\n",
       "    </tr>\n",
       "    <tr>\n",
       "      <th>CustomerID</th>\n",
       "      <th></th>\n",
       "      <th></th>\n",
       "      <th></th>\n",
       "      <th></th>\n",
       "    </tr>\n",
       "  </thead>\n",
       "  <tbody>\n",
       "    <tr>\n",
       "      <th>12346.0</th>\n",
       "      <td>2011-01-18</td>\n",
       "      <td>2011-01-18</td>\n",
       "      <td>1</td>\n",
       "      <td>0.00</td>\n",
       "    </tr>\n",
       "    <tr>\n",
       "      <th>12347.0</th>\n",
       "      <td>2011-12-07</td>\n",
       "      <td>2010-12-07</td>\n",
       "      <td>7</td>\n",
       "      <td>4310.00</td>\n",
       "    </tr>\n",
       "    <tr>\n",
       "      <th>12348.0</th>\n",
       "      <td>2011-09-25</td>\n",
       "      <td>2010-12-16</td>\n",
       "      <td>4</td>\n",
       "      <td>1797.24</td>\n",
       "    </tr>\n",
       "    <tr>\n",
       "      <th>12349.0</th>\n",
       "      <td>2011-11-21</td>\n",
       "      <td>2011-11-21</td>\n",
       "      <td>1</td>\n",
       "      <td>1757.55</td>\n",
       "    </tr>\n",
       "    <tr>\n",
       "      <th>12350.0</th>\n",
       "      <td>2011-02-02</td>\n",
       "      <td>2011-02-02</td>\n",
       "      <td>1</td>\n",
       "      <td>334.40</td>\n",
       "    </tr>\n",
       "  </tbody>\n",
       "</table>\n",
       "</div>"
      ],
      "text/plain": [
       "           InvoiceDate                    OrderValue\n",
       "                   max        min nunique        sum\n",
       "CustomerID                                          \n",
       "12346.0     2011-01-18 2011-01-18       1       0.00\n",
       "12347.0     2011-12-07 2010-12-07       7    4310.00\n",
       "12348.0     2011-09-25 2010-12-16       4    1797.24\n",
       "12349.0     2011-11-21 2011-11-21       1    1757.55\n",
       "12350.0     2011-02-02 2011-02-02       1     334.40"
      ]
     },
     "execution_count": 9,
     "metadata": {},
     "output_type": "execute_result"
    }
   ],
   "source": [
    "# Aggregate at customer level\n",
    "customer_data = pd.DataFrame(data.pivot_table(index=\"CustomerID\", \n",
    "                                              values=[\"InvoiceDate\", \"OrderValue\"], \n",
    "                                              aggfunc={\"InvoiceDate\": [min, max, pd.Series.nunique], \"OrderValue\": sum}))\n",
    "customer_data.head()"
   ]
  },
  {
   "cell_type": "code",
   "execution_count": 10,
   "id": "prescribed-language",
   "metadata": {
    "execution": {
     "iopub.execute_input": "2021-04-22T20:02:20.516062Z",
     "iopub.status.busy": "2021-04-22T20:02:20.509831Z",
     "iopub.status.idle": "2021-04-22T20:02:20.519672Z",
     "shell.execute_reply": "2021-04-22T20:02:20.520185Z"
    },
    "papermill": {
     "duration": 0.069057,
     "end_time": "2021-04-22T20:02:20.520364",
     "exception": false,
     "start_time": "2021-04-22T20:02:20.451307",
     "status": "completed"
    },
    "tags": []
   },
   "outputs": [
    {
     "name": "stdout",
     "output_type": "stream",
     "text": [
      "<class 'pandas.core.frame.DataFrame'>\n",
      "Float64Index: 4372 entries, 12346.0 to 18287.0\n",
      "Data columns (total 4 columns):\n",
      " #   Column                  Non-Null Count  Dtype         \n",
      "---  ------                  --------------  -----         \n",
      " 0   (InvoiceDate, max)      4372 non-null   datetime64[ns]\n",
      " 1   (InvoiceDate, min)      4372 non-null   datetime64[ns]\n",
      " 2   (InvoiceDate, nunique)  4372 non-null   int64         \n",
      " 3   (OrderValue, sum)       4372 non-null   float64       \n",
      "dtypes: datetime64[ns](2), float64(1), int64(1)\n",
      "memory usage: 170.8 KB\n"
     ]
    }
   ],
   "source": [
    "customer_data.info()"
   ]
  },
  {
   "cell_type": "code",
   "execution_count": 11,
   "id": "russian-gothic",
   "metadata": {
    "execution": {
     "iopub.execute_input": "2021-04-22T20:02:20.629725Z",
     "iopub.status.busy": "2021-04-22T20:02:20.628900Z",
     "iopub.status.idle": "2021-04-22T20:02:20.633073Z",
     "shell.execute_reply": "2021-04-22T20:02:20.632574Z"
    },
    "papermill": {
     "duration": 0.064834,
     "end_time": "2021-04-22T20:02:20.633220",
     "exception": false,
     "start_time": "2021-04-22T20:02:20.568386",
     "status": "completed"
    },
    "tags": []
   },
   "outputs": [
    {
     "data": {
      "text/html": [
       "<div>\n",
       "<style scoped>\n",
       "    .dataframe tbody tr th:only-of-type {\n",
       "        vertical-align: middle;\n",
       "    }\n",
       "\n",
       "    .dataframe tbody tr th {\n",
       "        vertical-align: top;\n",
       "    }\n",
       "\n",
       "    .dataframe thead th {\n",
       "        text-align: right;\n",
       "    }\n",
       "</style>\n",
       "<table border=\"1\" class=\"dataframe\">\n",
       "  <thead>\n",
       "    <tr style=\"text-align: right;\">\n",
       "      <th></th>\n",
       "      <th>LastInvoiceDate</th>\n",
       "      <th>FirstInvoiceDate</th>\n",
       "      <th>Frequency</th>\n",
       "      <th>MonetaryValue</th>\n",
       "    </tr>\n",
       "    <tr>\n",
       "      <th>CustomerID</th>\n",
       "      <th></th>\n",
       "      <th></th>\n",
       "      <th></th>\n",
       "      <th></th>\n",
       "    </tr>\n",
       "  </thead>\n",
       "  <tbody>\n",
       "    <tr>\n",
       "      <th>12346.0</th>\n",
       "      <td>2011-01-18</td>\n",
       "      <td>2011-01-18</td>\n",
       "      <td>1</td>\n",
       "      <td>0.00</td>\n",
       "    </tr>\n",
       "    <tr>\n",
       "      <th>12347.0</th>\n",
       "      <td>2011-12-07</td>\n",
       "      <td>2010-12-07</td>\n",
       "      <td>7</td>\n",
       "      <td>4310.00</td>\n",
       "    </tr>\n",
       "    <tr>\n",
       "      <th>12348.0</th>\n",
       "      <td>2011-09-25</td>\n",
       "      <td>2010-12-16</td>\n",
       "      <td>4</td>\n",
       "      <td>1797.24</td>\n",
       "    </tr>\n",
       "    <tr>\n",
       "      <th>12349.0</th>\n",
       "      <td>2011-11-21</td>\n",
       "      <td>2011-11-21</td>\n",
       "      <td>1</td>\n",
       "      <td>1757.55</td>\n",
       "    </tr>\n",
       "    <tr>\n",
       "      <th>12350.0</th>\n",
       "      <td>2011-02-02</td>\n",
       "      <td>2011-02-02</td>\n",
       "      <td>1</td>\n",
       "      <td>334.40</td>\n",
       "    </tr>\n",
       "  </tbody>\n",
       "</table>\n",
       "</div>"
      ],
      "text/plain": [
       "           LastInvoiceDate FirstInvoiceDate  Frequency  MonetaryValue\n",
       "CustomerID                                                           \n",
       "12346.0         2011-01-18       2011-01-18          1           0.00\n",
       "12347.0         2011-12-07       2010-12-07          7        4310.00\n",
       "12348.0         2011-09-25       2010-12-16          4        1797.24\n",
       "12349.0         2011-11-21       2011-11-21          1        1757.55\n",
       "12350.0         2011-02-02       2011-02-02          1         334.40"
      ]
     },
     "execution_count": 11,
     "metadata": {},
     "output_type": "execute_result"
    }
   ],
   "source": [
    "# Rename columns\n",
    "customer_data.columns = [\"LastInvoiceDate\", \"FirstInvoiceDate\", \"Frequency\", \"MonetaryValue\"]\n",
    "customer_data.head()"
   ]
  },
  {
   "cell_type": "code",
   "execution_count": 12,
   "id": "arctic-timeline",
   "metadata": {
    "execution": {
     "iopub.execute_input": "2021-04-22T20:02:20.734278Z",
     "iopub.status.busy": "2021-04-22T20:02:20.733594Z",
     "iopub.status.idle": "2021-04-22T20:02:21.041969Z",
     "shell.execute_reply": "2021-04-22T20:02:21.041399Z"
    },
    "papermill": {
     "duration": 0.359728,
     "end_time": "2021-04-22T20:02:21.042111",
     "exception": false,
     "start_time": "2021-04-22T20:02:20.682383",
     "status": "completed"
    },
    "tags": []
   },
   "outputs": [
    {
     "data": {
      "text/plain": [
       "Text(0.5, 1.0, 'Monthly Customer Intakes')"
      ]
     },
     "execution_count": 12,
     "metadata": {},
     "output_type": "execute_result"
    },
    {
     "data": {
      "image/png": "[encoded data removed]",
      "text/plain": [
       "<Figure size 432x288 with 1 Axes>"
      ]
     },
     "metadata": {
      "needs_background": "light"
     },
     "output_type": "display_data"
    }
   ],
   "source": [
    "import matplotlib.pyplot as plt\n",
    "# Create column \"FirstInvoceMonth\" to look at customer intake\n",
    "customer_data[\"FirstInvoiceMonth\"] = customer_data[\"FirstInvoiceDate\"].apply(lambda x: x.replace(day=1))\n",
    "customer_data.groupby([\"FirstInvoiceMonth\"]).count()[\"FirstInvoiceDate\"].plot(kind=\"bar\")\n",
    "plt.title(\"Monthly Customer Intakes\")"
   ]
  },
  {
   "cell_type": "code",
   "execution_count": 13,
   "id": "burning-paradise",
   "metadata": {
    "execution": {
     "iopub.execute_input": "2021-04-22T20:02:21.152798Z",
     "iopub.status.busy": "2021-04-22T20:02:21.152103Z",
     "iopub.status.idle": "2021-04-22T20:02:21.156988Z",
     "shell.execute_reply": "2021-04-22T20:02:21.156304Z"
    },
    "papermill": {
     "duration": 0.060983,
     "end_time": "2021-04-22T20:02:21.157160",
     "exception": false,
     "start_time": "2021-04-22T20:02:21.096177",
     "status": "completed"
    },
    "tags": []
   },
   "outputs": [
    {
     "data": {
      "text/plain": [
       "Timestamp('2011-12-09 00:00:00')"
      ]
     },
     "execution_count": 13,
     "metadata": {},
     "output_type": "execute_result"
    }
   ],
   "source": [
    "# Calculate recency, relative recency and relative frequency\n",
    "# Take the maximum invoice date as today\n",
    "today = customer_data[\"LastInvoiceDate\"].max()\n",
    "today"
   ]
  },
  {
   "cell_type": "code",
   "execution_count": 14,
   "id": "outstanding-afternoon",
   "metadata": {
    "execution": {
     "iopub.execute_input": "2021-04-22T20:02:21.276085Z",
     "iopub.status.busy": "2021-04-22T20:02:21.267989Z",
     "iopub.status.idle": "2021-04-22T20:02:21.439989Z",
     "shell.execute_reply": "2021-04-22T20:02:21.440584Z"
    },
    "papermill": {
     "duration": 0.230219,
     "end_time": "2021-04-22T20:02:21.440771",
     "exception": false,
     "start_time": "2021-04-22T20:02:21.210552",
     "status": "completed"
    },
    "tags": []
   },
   "outputs": [
    {
     "data": {
      "text/plain": [
       "<AxesSubplot:>"
      ]
     },
     "execution_count": 14,
     "metadata": {},
     "output_type": "execute_result"
    },
    {
     "data": {
      "image/png": "[encoded data removed]",
      "text/plain": [
       "<Figure size 432x288 with 1 Axes>"
      ]
     },
     "metadata": {
      "needs_background": "light"
     },
     "output_type": "display_data"
    }
   ],
   "source": [
    "# Calculate recency: the interval (days) between the last transation day and today\n",
    "customer_data[\"Recency\"] = (today - customer_data[\"LastInvoiceDate\"]) / np.timedelta64(1, 'D')\n",
    "customer_data[\"Recency\"].hist()"
   ]
  },
  {
   "cell_type": "code",
   "execution_count": 15,
   "id": "boolean-zealand",
   "metadata": {
    "execution": {
     "iopub.execute_input": "2021-04-22T20:02:21.547725Z",
     "iopub.status.busy": "2021-04-22T20:02:21.546983Z",
     "iopub.status.idle": "2021-04-22T20:02:21.706795Z",
     "shell.execute_reply": "2021-04-22T20:02:21.707284Z"
    },
    "papermill": {
     "duration": 0.215044,
     "end_time": "2021-04-22T20:02:21.707483",
     "exception": false,
     "start_time": "2021-04-22T20:02:21.492439",
     "status": "completed"
    },
    "tags": []
   },
   "outputs": [
    {
     "data": {
      "text/plain": [
       "<AxesSubplot:>"
      ]
     },
     "execution_count": 15,
     "metadata": {},
     "output_type": "execute_result"
    },
    {
     "data": {
      "image/png": "[encoded data removed]",
      "text/plain": [
       "<Figure size 432x288 with 1 Axes>"
      ]
     },
     "metadata": {
      "needs_background": "light"
     },
     "output_type": "display_data"
    }
   ],
   "source": [
    "# Calculate customer lifetime: the interval (days) between the first transation day and today\n",
    "customer_data[\"Lifetime\"] = (today - customer_data[\"FirstInvoiceDate\"]) / np.timedelta64(1, 'D')\n",
    "customer_data[\"Lifetime\"].hist()"
   ]
  },
  {
   "cell_type": "code",
   "execution_count": 16,
   "id": "contained-magic",
   "metadata": {
    "execution": {
     "iopub.execute_input": "2021-04-22T20:02:21.818740Z",
     "iopub.status.busy": "2021-04-22T20:02:21.817983Z",
     "iopub.status.idle": "2021-04-22T20:02:21.832097Z",
     "shell.execute_reply": "2021-04-22T20:02:21.831482Z"
    },
    "papermill": {
     "duration": 0.070583,
     "end_time": "2021-04-22T20:02:21.832306",
     "exception": false,
     "start_time": "2021-04-22T20:02:21.761723",
     "status": "completed"
    },
    "tags": []
   },
   "outputs": [
    {
     "data": {
      "text/plain": [
       "count    4372.000000\n",
       "mean      225.304209\n",
       "std       118.384168\n",
       "min         0.000000\n",
       "25%       115.000000\n",
       "50%       253.000000\n",
       "75%       331.000000\n",
       "max       373.000000\n",
       "Name: Lifetime, dtype: float64"
      ]
     },
     "execution_count": 16,
     "metadata": {},
     "output_type": "execute_result"
    }
   ],
   "source": [
    "customer_data[\"Lifetime\"].describe()"
   ]
  },
  {
   "cell_type": "code",
   "execution_count": 17,
   "id": "interior-friend",
   "metadata": {
    "execution": {
     "iopub.execute_input": "2021-04-22T20:02:21.970374Z",
     "iopub.status.busy": "2021-04-22T20:02:21.961922Z",
     "iopub.status.idle": "2021-04-22T20:02:22.116515Z",
     "shell.execute_reply": "2021-04-22T20:02:22.115836Z"
    },
    "papermill": {
     "duration": 0.231325,
     "end_time": "2021-04-22T20:02:22.116663",
     "exception": false,
     "start_time": "2021-04-22T20:02:21.885338",
     "status": "completed"
    },
    "tags": []
   },
   "outputs": [
    {
     "data": {
      "text/plain": [
       "<AxesSubplot:>"
      ]
     },
     "execution_count": 17,
     "metadata": {},
     "output_type": "execute_result"
    },
    {
     "data": {
      "image/png": "[encoded data removed]",
      "text/plain": [
       "<Figure size 432x288 with 1 Axes>"
      ]
     },
     "metadata": {
      "needs_background": "light"
     },
     "output_type": "display_data"
    }
   ],
   "source": [
    "# Calculate the relative recency: recency / customer lifetime\n",
    "# Note: this is to normalise the fact that newer customers have lower lifetime and thus lower recency\n",
    "# by nature.\n",
    "customer_data[\"RelRecency\"] = 1 - customer_data[\"Recency\"] / customer_data[\"Lifetime\"]\n",
    "customer_data[\"RelRecency\"].hist()"
   ]
  },
  {
   "cell_type": "code",
   "execution_count": 18,
   "id": "after-diploma",
   "metadata": {
    "execution": {
     "iopub.execute_input": "2021-04-22T20:02:22.235467Z",
     "iopub.status.busy": "2021-04-22T20:02:22.232256Z",
     "iopub.status.idle": "2021-04-22T20:02:22.240180Z",
     "shell.execute_reply": "2021-04-22T20:02:22.239504Z"
    },
    "papermill": {
     "duration": 0.069314,
     "end_time": "2021-04-22T20:02:22.240319",
     "exception": false,
     "start_time": "2021-04-22T20:02:22.171005",
     "status": "completed"
    },
    "tags": []
   },
   "outputs": [
    {
     "data": {
      "text/plain": [
       "count    4372.000000\n",
       "mean       91.581199\n",
       "std       100.772139\n",
       "min         0.000000\n",
       "25%        16.000000\n",
       "50%        50.000000\n",
       "75%       143.000000\n",
       "max       373.000000\n",
       "Name: Recency, dtype: float64"
      ]
     },
     "execution_count": 18,
     "metadata": {},
     "output_type": "execute_result"
    }
   ],
   "source": [
    "customer_data[\"Recency\"].describe()"
   ]
  },
  {
   "cell_type": "code",
   "execution_count": 19,
   "id": "attached-huntington",
   "metadata": {
    "execution": {
     "iopub.execute_input": "2021-04-22T20:02:22.355471Z",
     "iopub.status.busy": "2021-04-22T20:02:22.354424Z",
     "iopub.status.idle": "2021-04-22T20:02:22.363664Z",
     "shell.execute_reply": "2021-04-22T20:02:22.363078Z"
    },
    "papermill": {
     "duration": 0.068831,
     "end_time": "2021-04-22T20:02:22.363815",
     "exception": false,
     "start_time": "2021-04-22T20:02:22.294984",
     "status": "completed"
    },
    "tags": []
   },
   "outputs": [
    {
     "data": {
      "text/plain": [
       "count    4371.000000\n",
       "mean        0.499609\n",
       "std         0.414152\n",
       "min         0.000000\n",
       "25%         0.000000\n",
       "50%         0.614458\n",
       "75%         0.918199\n",
       "max         1.000000\n",
       "Name: RelRecency, dtype: float64"
      ]
     },
     "execution_count": 19,
     "metadata": {},
     "output_type": "execute_result"
    }
   ],
   "source": [
    "customer_data[\"RelRecency\"].describe()"
   ]
  },
  {
   "cell_type": "code",
   "execution_count": 20,
   "id": "fiscal-circuit",
   "metadata": {
    "execution": {
     "iopub.execute_input": "2021-04-22T20:02:22.481205Z",
     "iopub.status.busy": "2021-04-22T20:02:22.480470Z",
     "iopub.status.idle": "2021-04-22T20:02:22.484715Z",
     "shell.execute_reply": "2021-04-22T20:02:22.484099Z"
    },
    "papermill": {
     "duration": 0.065883,
     "end_time": "2021-04-22T20:02:22.484855",
     "exception": false,
     "start_time": "2021-04-22T20:02:22.418972",
     "status": "completed"
    },
    "tags": []
   },
   "outputs": [
    {
     "data": {
      "text/plain": [
       "0.31564501372369624"
      ]
     },
     "execution_count": 20,
     "metadata": {},
     "output_type": "execute_result"
    }
   ],
   "source": [
    "sum(customer_data[\"RelRecency\"]==0) / len(customer_data)\n",
    "# This shows that 31% customers only had one transactions."
   ]
  },
  {
   "cell_type": "code",
   "execution_count": 21,
   "id": "narrow-manufacturer",
   "metadata": {
    "execution": {
     "iopub.execute_input": "2021-04-22T20:02:22.616581Z",
     "iopub.status.busy": "2021-04-22T20:02:22.613850Z",
     "iopub.status.idle": "2021-04-22T20:02:22.621075Z",
     "shell.execute_reply": "2021-04-22T20:02:22.620427Z"
    },
    "papermill": {
     "duration": 0.08054,
     "end_time": "2021-04-22T20:02:22.621217",
     "exception": false,
     "start_time": "2021-04-22T20:02:22.540677",
     "status": "completed"
    },
    "tags": []
   },
   "outputs": [
    {
     "data": {
      "text/plain": [
       "False    4371\n",
       "True        1\n",
       "Name: RelFrequency, dtype: int64"
      ]
     },
     "execution_count": 21,
     "metadata": {},
     "output_type": "execute_result"
    }
   ],
   "source": [
    "# Calculate the relative frequency: frequency / customer lifetime\n",
    "# Note: this is to normalise the fact that newer customers have lower lifetime and thus lower frequency\n",
    "# by nature.\n",
    "customer_data[\"RelFrequency\"] = customer_data[\"Frequency\"] / customer_data[\"Lifetime\"]\n",
    "customer_data[\"RelFrequency\"].apply(lambda x: np.isinf(x)).value_counts()"
   ]
  },
  {
   "cell_type": "code",
   "execution_count": 22,
   "id": "intelligent-bonus",
   "metadata": {
    "execution": {
     "iopub.execute_input": "2021-04-22T20:02:22.754243Z",
     "iopub.status.busy": "2021-04-22T20:02:22.753230Z",
     "iopub.status.idle": "2021-04-22T20:02:22.768914Z",
     "shell.execute_reply": "2021-04-22T20:02:22.768361Z"
    },
    "papermill": {
     "duration": 0.089424,
     "end_time": "2021-04-22T20:02:22.769051",
     "exception": false,
     "start_time": "2021-04-22T20:02:22.679627",
     "status": "completed"
    },
    "tags": []
   },
   "outputs": [
    {
     "data": {
      "text/html": [
       "<div>\n",
       "<style scoped>\n",
       "    .dataframe tbody tr th:only-of-type {\n",
       "        vertical-align: middle;\n",
       "    }\n",
       "\n",
       "    .dataframe tbody tr th {\n",
       "        vertical-align: top;\n",
       "    }\n",
       "\n",
       "    .dataframe thead th {\n",
       "        text-align: right;\n",
       "    }\n",
       "</style>\n",
       "<table border=\"1\" class=\"dataframe\">\n",
       "  <thead>\n",
       "    <tr style=\"text-align: right;\">\n",
       "      <th></th>\n",
       "      <th>LastInvoiceDate</th>\n",
       "      <th>FirstInvoiceDate</th>\n",
       "      <th>Frequency</th>\n",
       "      <th>MonetaryValue</th>\n",
       "      <th>FirstInvoiceMonth</th>\n",
       "      <th>Recency</th>\n",
       "      <th>Lifetime</th>\n",
       "      <th>RelRecency</th>\n",
       "      <th>RelFrequency</th>\n",
       "    </tr>\n",
       "    <tr>\n",
       "      <th>CustomerID</th>\n",
       "      <th></th>\n",
       "      <th></th>\n",
       "      <th></th>\n",
       "      <th></th>\n",
       "      <th></th>\n",
       "      <th></th>\n",
       "      <th></th>\n",
       "      <th></th>\n",
       "      <th></th>\n",
       "    </tr>\n",
       "  </thead>\n",
       "  <tbody>\n",
       "    <tr>\n",
       "      <th>12713.0</th>\n",
       "      <td>2011-12-09</td>\n",
       "      <td>2011-12-09</td>\n",
       "      <td>1</td>\n",
       "      <td>848.55</td>\n",
       "      <td>2011-12-01</td>\n",
       "      <td>0.0</td>\n",
       "      <td>0.0</td>\n",
       "      <td>NaN</td>\n",
       "      <td>inf</td>\n",
       "    </tr>\n",
       "  </tbody>\n",
       "</table>\n",
       "</div>"
      ],
      "text/plain": [
       "           LastInvoiceDate FirstInvoiceDate  Frequency  MonetaryValue  \\\n",
       "CustomerID                                                              \n",
       "12713.0         2011-12-09       2011-12-09          1         848.55   \n",
       "\n",
       "           FirstInvoiceMonth  Recency  Lifetime  RelRecency  RelFrequency  \n",
       "CustomerID                                                                 \n",
       "12713.0           2011-12-01      0.0       0.0         NaN           inf  "
      ]
     },
     "execution_count": 22,
     "metadata": {},
     "output_type": "execute_result"
    }
   ],
   "source": [
    "# Found a record with inifinity value, we need to remove it\n",
    "customer_data[customer_data[\"RelFrequency\"].apply(lambda x: np.isinf(x))]"
   ]
  },
  {
   "cell_type": "code",
   "execution_count": 23,
   "id": "logical-venice",
   "metadata": {
    "execution": {
     "iopub.execute_input": "2021-04-22T20:02:22.897021Z",
     "iopub.status.busy": "2021-04-22T20:02:22.895960Z",
     "iopub.status.idle": "2021-04-22T20:02:23.190685Z",
     "shell.execute_reply": "2021-04-22T20:02:23.189966Z"
    },
    "papermill": {
     "duration": 0.365213,
     "end_time": "2021-04-22T20:02:23.190836",
     "exception": false,
     "start_time": "2021-04-22T20:02:22.825623",
     "status": "completed"
    },
    "tags": []
   },
   "outputs": [
    {
     "data": {
      "text/plain": [
       "<AxesSubplot:>"
      ]
     },
     "execution_count": 23,
     "metadata": {},
     "output_type": "execute_result"
    },
    {
     "data": {
      "image/png": "[encoded data removed]",
      "text/plain": [
       "<Figure size 432x288 with 1 Axes>"
      ]
     },
     "metadata": {
      "needs_background": "light"
     },
     "output_type": "display_data"
    }
   ],
   "source": [
    "customer_data = customer_data[customer_data[\"RelFrequency\"].apply(lambda x: np.isinf(x))==False]\n",
    "customer_data[\"RelFrequency\"].hist()"
   ]
  },
  {
   "cell_type": "code",
   "execution_count": 24,
   "id": "about-pregnancy",
   "metadata": {
    "execution": {
     "iopub.execute_input": "2021-04-22T20:02:23.321036Z",
     "iopub.status.busy": "2021-04-22T20:02:23.319420Z",
     "iopub.status.idle": "2021-04-22T20:02:23.325303Z",
     "shell.execute_reply": "2021-04-22T20:02:23.324704Z"
    },
    "papermill": {
     "duration": 0.072839,
     "end_time": "2021-04-22T20:02:23.325437",
     "exception": false,
     "start_time": "2021-04-22T20:02:23.252598",
     "status": "completed"
    },
    "tags": []
   },
   "outputs": [
    {
     "data": {
      "text/plain": [
       "count    4371.000000\n",
       "mean        0.026130\n",
       "std         0.046294\n",
       "min         0.002681\n",
       "25%         0.008152\n",
       "50%         0.015707\n",
       "75%         0.028846\n",
       "max         1.000000\n",
       "Name: RelFrequency, dtype: float64"
      ]
     },
     "execution_count": 24,
     "metadata": {},
     "output_type": "execute_result"
    }
   ],
   "source": [
    "customer_data[\"RelFrequency\"].describe()"
   ]
  },
  {
   "cell_type": "code",
   "execution_count": 25,
   "id": "large-baseline",
   "metadata": {
    "execution": {
     "iopub.execute_input": "2021-04-22T20:02:23.455233Z",
     "iopub.status.busy": "2021-04-22T20:02:23.454224Z",
     "iopub.status.idle": "2021-04-22T20:02:23.458040Z",
     "shell.execute_reply": "2021-04-22T20:02:23.458626Z"
    },
    "papermill": {
     "duration": 0.074091,
     "end_time": "2021-04-22T20:02:23.458807",
     "exception": false,
     "start_time": "2021-04-22T20:02:23.384716",
     "status": "completed"
    },
    "tags": []
   },
   "outputs": [
    {
     "data": {
      "text/plain": [
       "count      4371.000000\n",
       "mean       1898.699900\n",
       "std        8220.270169\n",
       "min       -4287.630000\n",
       "25%         293.275000\n",
       "50%         647.740000\n",
       "75%        1611.860000\n",
       "max      279489.020000\n",
       "Name: MonetaryValue, dtype: float64"
      ]
     },
     "execution_count": 25,
     "metadata": {},
     "output_type": "execute_result"
    }
   ],
   "source": [
    "# Calculate the relative monetary value: monetary value / customer lifetime\n",
    "# Note: this is to normalise the fact that newer customers have lower lifetime and thus lower frequency\n",
    "# by nature.\n",
    "customer_data[\"MonetaryValue\"].describe()"
   ]
  },
  {
   "cell_type": "code",
   "execution_count": 26,
   "id": "vanilla-television",
   "metadata": {
    "execution": {
     "iopub.execute_input": "2021-04-22T20:02:23.581915Z",
     "iopub.status.busy": "2021-04-22T20:02:23.580981Z",
     "iopub.status.idle": "2021-04-22T20:02:23.729045Z",
     "shell.execute_reply": "2021-04-22T20:02:23.728553Z"
    },
    "papermill": {
     "duration": 0.210328,
     "end_time": "2021-04-22T20:02:23.729197",
     "exception": false,
     "start_time": "2021-04-22T20:02:23.518869",
     "status": "completed"
    },
    "tags": []
   },
   "outputs": [
    {
     "data": {
      "text/plain": [
       "<AxesSubplot:>"
      ]
     },
     "execution_count": 26,
     "metadata": {},
     "output_type": "execute_result"
    },
    {
     "data": {
      "image/png": "[encoded data removed]",
      "text/plain": [
       "<Figure size 432x288 with 1 Axes>"
      ]
     },
     "metadata": {
      "needs_background": "light"
     },
     "output_type": "display_data"
    }
   ],
   "source": [
    "customer_data[\"MonetaryValue\"].hist()\n",
    "# There are some outliers in terms of monetary value."
   ]
  },
  {
   "cell_type": "code",
   "execution_count": 27,
   "id": "commercial-intention",
   "metadata": {
    "execution": {
     "iopub.execute_input": "2021-04-22T20:02:23.855510Z",
     "iopub.status.busy": "2021-04-22T20:02:23.853868Z",
     "iopub.status.idle": "2021-04-22T20:02:23.859635Z",
     "shell.execute_reply": "2021-04-22T20:02:23.859010Z"
    },
    "papermill": {
     "duration": 0.07045,
     "end_time": "2021-04-22T20:02:23.859785",
     "exception": false,
     "start_time": "2021-04-22T20:02:23.789335",
     "status": "completed"
    },
    "tags": []
   },
   "outputs": [
    {
     "data": {
      "text/plain": [
       "17231.393000000095"
      ]
     },
     "execution_count": 27,
     "metadata": {},
     "output_type": "execute_result"
    }
   ],
   "source": [
    "np.percentile(customer_data[\"MonetaryValue\"], 99)\n",
    "# The 99.5% percentile of monetary value is 33.4K, i.e., 0.5% * 4K = 20 customers have value higher than 33.4K.\n",
    "# We should exclude these outliers from our analysis."
   ]
  },
  {
   "cell_type": "code",
   "execution_count": 28,
   "id": "micro-chick",
   "metadata": {
    "execution": {
     "iopub.execute_input": "2021-04-22T20:02:23.987054Z",
     "iopub.status.busy": "2021-04-22T20:02:23.986366Z",
     "iopub.status.idle": "2021-04-22T20:02:23.989565Z",
     "shell.execute_reply": "2021-04-22T20:02:23.990131Z"
    },
    "papermill": {
     "duration": 0.069656,
     "end_time": "2021-04-22T20:02:23.990298",
     "exception": false,
     "start_time": "2021-04-22T20:02:23.920642",
     "status": "completed"
    },
    "tags": []
   },
   "outputs": [],
   "source": [
    "customer_data = customer_data[customer_data[\"MonetaryValue\"]<=np.percentile(customer_data[\"MonetaryValue\"], 99)]"
   ]
  },
  {
   "cell_type": "code",
   "execution_count": 29,
   "id": "broad-independence",
   "metadata": {
    "execution": {
     "iopub.execute_input": "2021-04-22T20:02:24.136593Z",
     "iopub.status.busy": "2021-04-22T20:02:24.135834Z",
     "iopub.status.idle": "2021-04-22T20:02:24.140566Z",
     "shell.execute_reply": "2021-04-22T20:02:24.139907Z"
    },
    "papermill": {
     "duration": 0.08934,
     "end_time": "2021-04-22T20:02:24.140725",
     "exception": false,
     "start_time": "2021-04-22T20:02:24.051385",
     "status": "completed"
    },
    "tags": []
   },
   "outputs": [
    {
     "data": {
      "text/plain": [
       "4327"
      ]
     },
     "execution_count": 29,
     "metadata": {},
     "output_type": "execute_result"
    }
   ],
   "source": [
    "len(customer_data)"
   ]
  },
  {
   "cell_type": "code",
   "execution_count": 30,
   "id": "legislative-crystal",
   "metadata": {
    "execution": {
     "iopub.execute_input": "2021-04-22T20:02:24.274134Z",
     "iopub.status.busy": "2021-04-22T20:02:24.273510Z",
     "iopub.status.idle": "2021-04-22T20:02:24.281128Z",
     "shell.execute_reply": "2021-04-22T20:02:24.280569Z"
    },
    "papermill": {
     "duration": 0.071439,
     "end_time": "2021-04-22T20:02:24.281282",
     "exception": false,
     "start_time": "2021-04-22T20:02:24.209843",
     "status": "completed"
    },
    "tags": []
   },
   "outputs": [
    {
     "data": {
      "text/plain": [
       "43"
      ]
     },
     "execution_count": 30,
     "metadata": {},
     "output_type": "execute_result"
    }
   ],
   "source": [
    "len(customer_data[customer_data[\"MonetaryValue\"]<0])\n",
    "# 43 customers have negative transation value because of the returns."
   ]
  },
  {
   "cell_type": "code",
   "execution_count": 31,
   "id": "rapid-employee",
   "metadata": {
    "execution": {
     "iopub.execute_input": "2021-04-22T20:02:24.423171Z",
     "iopub.status.busy": "2021-04-22T20:02:24.422497Z",
     "iopub.status.idle": "2021-04-22T20:02:24.426467Z",
     "shell.execute_reply": "2021-04-22T20:02:24.427044Z"
    },
    "papermill": {
     "duration": 0.083427,
     "end_time": "2021-04-22T20:02:24.427216",
     "exception": false,
     "start_time": "2021-04-22T20:02:24.343789",
     "status": "completed"
    },
    "tags": []
   },
   "outputs": [
    {
     "data": {
      "text/html": [
       "<div>\n",
       "<style scoped>\n",
       "    .dataframe tbody tr th:only-of-type {\n",
       "        vertical-align: middle;\n",
       "    }\n",
       "\n",
       "    .dataframe tbody tr th {\n",
       "        vertical-align: top;\n",
       "    }\n",
       "\n",
       "    .dataframe thead th {\n",
       "        text-align: right;\n",
       "    }\n",
       "</style>\n",
       "<table border=\"1\" class=\"dataframe\">\n",
       "  <thead>\n",
       "    <tr style=\"text-align: right;\">\n",
       "      <th></th>\n",
       "      <th>LastInvoiceDate</th>\n",
       "      <th>FirstInvoiceDate</th>\n",
       "      <th>Frequency</th>\n",
       "      <th>MonetaryValue</th>\n",
       "      <th>FirstInvoiceMonth</th>\n",
       "      <th>Recency</th>\n",
       "      <th>Lifetime</th>\n",
       "      <th>RelRecency</th>\n",
       "      <th>RelFrequency</th>\n",
       "    </tr>\n",
       "    <tr>\n",
       "      <th>CustomerID</th>\n",
       "      <th></th>\n",
       "      <th></th>\n",
       "      <th></th>\n",
       "      <th></th>\n",
       "      <th></th>\n",
       "      <th></th>\n",
       "      <th></th>\n",
       "      <th></th>\n",
       "      <th></th>\n",
       "    </tr>\n",
       "  </thead>\n",
       "  <tbody>\n",
       "    <tr>\n",
       "      <th>12454.0</th>\n",
       "      <td>2011-10-17</td>\n",
       "      <td>2011-10-14</td>\n",
       "      <td>2</td>\n",
       "      <td>-5.684342e-14</td>\n",
       "      <td>2011-10-01</td>\n",
       "      <td>53.0</td>\n",
       "      <td>56.0</td>\n",
       "      <td>0.053571</td>\n",
       "      <td>0.035714</td>\n",
       "    </tr>\n",
       "    <tr>\n",
       "      <th>12503.0</th>\n",
       "      <td>2011-01-06</td>\n",
       "      <td>2011-01-06</td>\n",
       "      <td>1</td>\n",
       "      <td>-1.126000e+03</td>\n",
       "      <td>2011-01-01</td>\n",
       "      <td>337.0</td>\n",
       "      <td>337.0</td>\n",
       "      <td>0.000000</td>\n",
       "      <td>0.002967</td>\n",
       "    </tr>\n",
       "    <tr>\n",
       "      <th>12505.0</th>\n",
       "      <td>2011-02-11</td>\n",
       "      <td>2011-02-11</td>\n",
       "      <td>1</td>\n",
       "      <td>-4.500000e+00</td>\n",
       "      <td>2011-02-01</td>\n",
       "      <td>301.0</td>\n",
       "      <td>301.0</td>\n",
       "      <td>0.000000</td>\n",
       "      <td>0.003322</td>\n",
       "    </tr>\n",
       "    <tr>\n",
       "      <th>12605.0</th>\n",
       "      <td>2010-12-09</td>\n",
       "      <td>2010-12-09</td>\n",
       "      <td>1</td>\n",
       "      <td>-7.500000e+00</td>\n",
       "      <td>2010-12-01</td>\n",
       "      <td>365.0</td>\n",
       "      <td>365.0</td>\n",
       "      <td>0.000000</td>\n",
       "      <td>0.002740</td>\n",
       "    </tr>\n",
       "    <tr>\n",
       "      <th>12666.0</th>\n",
       "      <td>2010-12-15</td>\n",
       "      <td>2010-12-15</td>\n",
       "      <td>1</td>\n",
       "      <td>-2.274400e+02</td>\n",
       "      <td>2010-12-01</td>\n",
       "      <td>359.0</td>\n",
       "      <td>359.0</td>\n",
       "      <td>0.000000</td>\n",
       "      <td>0.002786</td>\n",
       "    </tr>\n",
       "  </tbody>\n",
       "</table>\n",
       "</div>"
      ],
      "text/plain": [
       "           LastInvoiceDate FirstInvoiceDate  Frequency  MonetaryValue  \\\n",
       "CustomerID                                                              \n",
       "12454.0         2011-10-17       2011-10-14          2  -5.684342e-14   \n",
       "12503.0         2011-01-06       2011-01-06          1  -1.126000e+03   \n",
       "12505.0         2011-02-11       2011-02-11          1  -4.500000e+00   \n",
       "12605.0         2010-12-09       2010-12-09          1  -7.500000e+00   \n",
       "12666.0         2010-12-15       2010-12-15          1  -2.274400e+02   \n",
       "\n",
       "           FirstInvoiceMonth  Recency  Lifetime  RelRecency  RelFrequency  \n",
       "CustomerID                                                                 \n",
       "12454.0           2011-10-01     53.0      56.0    0.053571      0.035714  \n",
       "12503.0           2011-01-01    337.0     337.0    0.000000      0.002967  \n",
       "12505.0           2011-02-01    301.0     301.0    0.000000      0.003322  \n",
       "12605.0           2010-12-01    365.0     365.0    0.000000      0.002740  \n",
       "12666.0           2010-12-01    359.0     359.0    0.000000      0.002786  "
      ]
     },
     "execution_count": 31,
     "metadata": {},
     "output_type": "execute_result"
    }
   ],
   "source": [
    "customer_data[customer_data[\"MonetaryValue\"]<0].head()"
   ]
  },
  {
   "cell_type": "code",
   "execution_count": 32,
   "id": "straight-approach",
   "metadata": {
    "execution": {
     "iopub.execute_input": "2021-04-22T20:02:24.555360Z",
     "iopub.status.busy": "2021-04-22T20:02:24.554739Z",
     "iopub.status.idle": "2021-04-22T20:02:24.585810Z",
     "shell.execute_reply": "2021-04-22T20:02:24.586340Z"
    },
    "papermill": {
     "duration": 0.097184,
     "end_time": "2021-04-22T20:02:24.586537",
     "exception": false,
     "start_time": "2021-04-22T20:02:24.489353",
     "status": "completed"
    },
    "tags": []
   },
   "outputs": [
    {
     "data": {
      "text/html": [
       "<div>\n",
       "<style scoped>\n",
       "    .dataframe tbody tr th:only-of-type {\n",
       "        vertical-align: middle;\n",
       "    }\n",
       "\n",
       "    .dataframe tbody tr th {\n",
       "        vertical-align: top;\n",
       "    }\n",
       "\n",
       "    .dataframe thead th {\n",
       "        text-align: right;\n",
       "    }\n",
       "</style>\n",
       "<table border=\"1\" class=\"dataframe\">\n",
       "  <thead>\n",
       "    <tr style=\"text-align: right;\">\n",
       "      <th></th>\n",
       "      <th>InvoiceNo</th>\n",
       "      <th>StockCode</th>\n",
       "      <th>Description</th>\n",
       "      <th>Quantity</th>\n",
       "      <th>InvoiceDate</th>\n",
       "      <th>UnitPrice</th>\n",
       "      <th>CustomerID</th>\n",
       "      <th>Country</th>\n",
       "      <th>OrderValue</th>\n",
       "    </tr>\n",
       "  </thead>\n",
       "  <tbody>\n",
       "    <tr>\n",
       "      <th>398626</th>\n",
       "      <td>571255</td>\n",
       "      <td>82494L</td>\n",
       "      <td>WOODEN FRAME ANTIQUE WHITE</td>\n",
       "      <td>72</td>\n",
       "      <td>2011-10-14</td>\n",
       "      <td>2.55</td>\n",
       "      <td>12454.0</td>\n",
       "      <td>Spain</td>\n",
       "      <td>183.60</td>\n",
       "    </tr>\n",
       "    <tr>\n",
       "      <th>398627</th>\n",
       "      <td>571255</td>\n",
       "      <td>82483</td>\n",
       "      <td>WOOD 2 DRAWER CABINET WHITE FINISH</td>\n",
       "      <td>32</td>\n",
       "      <td>2011-10-14</td>\n",
       "      <td>5.95</td>\n",
       "      <td>12454.0</td>\n",
       "      <td>Spain</td>\n",
       "      <td>190.40</td>\n",
       "    </tr>\n",
       "    <tr>\n",
       "      <th>398628</th>\n",
       "      <td>571255</td>\n",
       "      <td>82486</td>\n",
       "      <td>3 DRAWER ANTIQUE WHITE WOOD CABINET</td>\n",
       "      <td>12</td>\n",
       "      <td>2011-10-14</td>\n",
       "      <td>8.15</td>\n",
       "      <td>12454.0</td>\n",
       "      <td>Spain</td>\n",
       "      <td>97.80</td>\n",
       "    </tr>\n",
       "    <tr>\n",
       "      <th>398629</th>\n",
       "      <td>571255</td>\n",
       "      <td>22423</td>\n",
       "      <td>REGENCY CAKESTAND 3 TIER</td>\n",
       "      <td>32</td>\n",
       "      <td>2011-10-14</td>\n",
       "      <td>10.95</td>\n",
       "      <td>12454.0</td>\n",
       "      <td>Spain</td>\n",
       "      <td>350.40</td>\n",
       "    </tr>\n",
       "    <tr>\n",
       "      <th>398630</th>\n",
       "      <td>571255</td>\n",
       "      <td>22173</td>\n",
       "      <td>METAL 4 HOOK HANGER FRENCH CHATEAU</td>\n",
       "      <td>32</td>\n",
       "      <td>2011-10-14</td>\n",
       "      <td>2.75</td>\n",
       "      <td>12454.0</td>\n",
       "      <td>Spain</td>\n",
       "      <td>88.00</td>\n",
       "    </tr>\n",
       "    <tr>\n",
       "      <th>398631</th>\n",
       "      <td>571255</td>\n",
       "      <td>82482</td>\n",
       "      <td>WOODEN PICTURE FRAME WHITE FINISH</td>\n",
       "      <td>72</td>\n",
       "      <td>2011-10-14</td>\n",
       "      <td>2.55</td>\n",
       "      <td>12454.0</td>\n",
       "      <td>Spain</td>\n",
       "      <td>183.60</td>\n",
       "    </tr>\n",
       "    <tr>\n",
       "      <th>398632</th>\n",
       "      <td>571255</td>\n",
       "      <td>23064</td>\n",
       "      <td>CINDERELLA CHANDELIER</td>\n",
       "      <td>10</td>\n",
       "      <td>2011-10-14</td>\n",
       "      <td>41.75</td>\n",
       "      <td>12454.0</td>\n",
       "      <td>Spain</td>\n",
       "      <td>417.50</td>\n",
       "    </tr>\n",
       "    <tr>\n",
       "      <th>398633</th>\n",
       "      <td>571255</td>\n",
       "      <td>23055</td>\n",
       "      <td>IVORY CHANDELIER T-LIGHT HOLDER</td>\n",
       "      <td>48</td>\n",
       "      <td>2011-10-14</td>\n",
       "      <td>5.39</td>\n",
       "      <td>12454.0</td>\n",
       "      <td>Spain</td>\n",
       "      <td>258.72</td>\n",
       "    </tr>\n",
       "    <tr>\n",
       "      <th>398634</th>\n",
       "      <td>571255</td>\n",
       "      <td>23056</td>\n",
       "      <td>FLOWERS CHANDELIER T-LIGHT HOLDER</td>\n",
       "      <td>48</td>\n",
       "      <td>2011-10-14</td>\n",
       "      <td>5.39</td>\n",
       "      <td>12454.0</td>\n",
       "      <td>Spain</td>\n",
       "      <td>258.72</td>\n",
       "    </tr>\n",
       "    <tr>\n",
       "      <th>398635</th>\n",
       "      <td>571255</td>\n",
       "      <td>23057</td>\n",
       "      <td>BEADED CHANDELIER T-LIGHT HOLDER</td>\n",
       "      <td>48</td>\n",
       "      <td>2011-10-14</td>\n",
       "      <td>4.15</td>\n",
       "      <td>12454.0</td>\n",
       "      <td>Spain</td>\n",
       "      <td>199.20</td>\n",
       "    </tr>\n",
       "    <tr>\n",
       "      <th>398636</th>\n",
       "      <td>571255</td>\n",
       "      <td>23072</td>\n",
       "      <td>MARIE ANTOINETTE TRINKET BOX SILVER</td>\n",
       "      <td>48</td>\n",
       "      <td>2011-10-14</td>\n",
       "      <td>6.50</td>\n",
       "      <td>12454.0</td>\n",
       "      <td>Spain</td>\n",
       "      <td>312.00</td>\n",
       "    </tr>\n",
       "    <tr>\n",
       "      <th>398637</th>\n",
       "      <td>571255</td>\n",
       "      <td>23071</td>\n",
       "      <td>MARIE ANTOINETTE TRINKET BOX GOLD</td>\n",
       "      <td>48</td>\n",
       "      <td>2011-10-14</td>\n",
       "      <td>6.50</td>\n",
       "      <td>12454.0</td>\n",
       "      <td>Spain</td>\n",
       "      <td>312.00</td>\n",
       "    </tr>\n",
       "    <tr>\n",
       "      <th>398638</th>\n",
       "      <td>571255</td>\n",
       "      <td>23245</td>\n",
       "      <td>SET OF 3 REGENCY CAKE TINS</td>\n",
       "      <td>16</td>\n",
       "      <td>2011-10-14</td>\n",
       "      <td>4.15</td>\n",
       "      <td>12454.0</td>\n",
       "      <td>Spain</td>\n",
       "      <td>66.40</td>\n",
       "    </tr>\n",
       "    <tr>\n",
       "      <th>398639</th>\n",
       "      <td>571255</td>\n",
       "      <td>72802B</td>\n",
       "      <td>OCEAN SCENT CANDLE IN JEWELLED BOX</td>\n",
       "      <td>200</td>\n",
       "      <td>2011-10-14</td>\n",
       "      <td>1.25</td>\n",
       "      <td>12454.0</td>\n",
       "      <td>Spain</td>\n",
       "      <td>250.00</td>\n",
       "    </tr>\n",
       "    <tr>\n",
       "      <th>398640</th>\n",
       "      <td>571255</td>\n",
       "      <td>72802C</td>\n",
       "      <td>VANILLA SCENT CANDLE JEWELLED BOX</td>\n",
       "      <td>288</td>\n",
       "      <td>2011-10-14</td>\n",
       "      <td>1.25</td>\n",
       "      <td>12454.0</td>\n",
       "      <td>Spain</td>\n",
       "      <td>360.00</td>\n",
       "    </tr>\n",
       "    <tr>\n",
       "      <th>402434</th>\n",
       "      <td>C571499</td>\n",
       "      <td>82494L</td>\n",
       "      <td>WOODEN FRAME ANTIQUE WHITE</td>\n",
       "      <td>-72</td>\n",
       "      <td>2011-10-17</td>\n",
       "      <td>2.55</td>\n",
       "      <td>12454.0</td>\n",
       "      <td>Spain</td>\n",
       "      <td>-183.60</td>\n",
       "    </tr>\n",
       "    <tr>\n",
       "      <th>402435</th>\n",
       "      <td>C571499</td>\n",
       "      <td>82486</td>\n",
       "      <td>3 DRAWER ANTIQUE WHITE WOOD CABINET</td>\n",
       "      <td>-12</td>\n",
       "      <td>2011-10-17</td>\n",
       "      <td>8.15</td>\n",
       "      <td>12454.0</td>\n",
       "      <td>Spain</td>\n",
       "      <td>-97.80</td>\n",
       "    </tr>\n",
       "    <tr>\n",
       "      <th>402436</th>\n",
       "      <td>C571499</td>\n",
       "      <td>82483</td>\n",
       "      <td>WOOD 2 DRAWER CABINET WHITE FINISH</td>\n",
       "      <td>-32</td>\n",
       "      <td>2011-10-17</td>\n",
       "      <td>5.95</td>\n",
       "      <td>12454.0</td>\n",
       "      <td>Spain</td>\n",
       "      <td>-190.40</td>\n",
       "    </tr>\n",
       "    <tr>\n",
       "      <th>402437</th>\n",
       "      <td>C571499</td>\n",
       "      <td>82482</td>\n",
       "      <td>WOODEN PICTURE FRAME WHITE FINISH</td>\n",
       "      <td>-72</td>\n",
       "      <td>2011-10-17</td>\n",
       "      <td>2.55</td>\n",
       "      <td>12454.0</td>\n",
       "      <td>Spain</td>\n",
       "      <td>-183.60</td>\n",
       "    </tr>\n",
       "    <tr>\n",
       "      <th>402438</th>\n",
       "      <td>C571499</td>\n",
       "      <td>72802C</td>\n",
       "      <td>VANILLA SCENT CANDLE JEWELLED BOX</td>\n",
       "      <td>-288</td>\n",
       "      <td>2011-10-17</td>\n",
       "      <td>1.25</td>\n",
       "      <td>12454.0</td>\n",
       "      <td>Spain</td>\n",
       "      <td>-360.00</td>\n",
       "    </tr>\n",
       "    <tr>\n",
       "      <th>402439</th>\n",
       "      <td>C571499</td>\n",
       "      <td>72802B</td>\n",
       "      <td>OCEAN SCENT CANDLE IN JEWELLED BOX</td>\n",
       "      <td>-200</td>\n",
       "      <td>2011-10-17</td>\n",
       "      <td>1.25</td>\n",
       "      <td>12454.0</td>\n",
       "      <td>Spain</td>\n",
       "      <td>-250.00</td>\n",
       "    </tr>\n",
       "    <tr>\n",
       "      <th>402440</th>\n",
       "      <td>C571499</td>\n",
       "      <td>23245</td>\n",
       "      <td>SET OF 3 REGENCY CAKE TINS</td>\n",
       "      <td>-16</td>\n",
       "      <td>2011-10-17</td>\n",
       "      <td>4.15</td>\n",
       "      <td>12454.0</td>\n",
       "      <td>Spain</td>\n",
       "      <td>-66.40</td>\n",
       "    </tr>\n",
       "    <tr>\n",
       "      <th>402441</th>\n",
       "      <td>C571499</td>\n",
       "      <td>23072</td>\n",
       "      <td>MARIE ANTOINETTE TRINKET BOX SILVER</td>\n",
       "      <td>-48</td>\n",
       "      <td>2011-10-17</td>\n",
       "      <td>6.50</td>\n",
       "      <td>12454.0</td>\n",
       "      <td>Spain</td>\n",
       "      <td>-312.00</td>\n",
       "    </tr>\n",
       "    <tr>\n",
       "      <th>402442</th>\n",
       "      <td>C571499</td>\n",
       "      <td>23071</td>\n",
       "      <td>MARIE ANTOINETTE TRINKET BOX GOLD</td>\n",
       "      <td>-48</td>\n",
       "      <td>2011-10-17</td>\n",
       "      <td>6.50</td>\n",
       "      <td>12454.0</td>\n",
       "      <td>Spain</td>\n",
       "      <td>-312.00</td>\n",
       "    </tr>\n",
       "    <tr>\n",
       "      <th>402443</th>\n",
       "      <td>C571499</td>\n",
       "      <td>23064</td>\n",
       "      <td>CINDERELLA CHANDELIER</td>\n",
       "      <td>-10</td>\n",
       "      <td>2011-10-17</td>\n",
       "      <td>41.75</td>\n",
       "      <td>12454.0</td>\n",
       "      <td>Spain</td>\n",
       "      <td>-417.50</td>\n",
       "    </tr>\n",
       "    <tr>\n",
       "      <th>402444</th>\n",
       "      <td>C571499</td>\n",
       "      <td>23057</td>\n",
       "      <td>BEADED CHANDELIER T-LIGHT HOLDER</td>\n",
       "      <td>-48</td>\n",
       "      <td>2011-10-17</td>\n",
       "      <td>4.15</td>\n",
       "      <td>12454.0</td>\n",
       "      <td>Spain</td>\n",
       "      <td>-199.20</td>\n",
       "    </tr>\n",
       "    <tr>\n",
       "      <th>402445</th>\n",
       "      <td>C571499</td>\n",
       "      <td>23056</td>\n",
       "      <td>FLOWERS CHANDELIER T-LIGHT HOLDER</td>\n",
       "      <td>-48</td>\n",
       "      <td>2011-10-17</td>\n",
       "      <td>5.39</td>\n",
       "      <td>12454.0</td>\n",
       "      <td>Spain</td>\n",
       "      <td>-258.72</td>\n",
       "    </tr>\n",
       "    <tr>\n",
       "      <th>402446</th>\n",
       "      <td>C571499</td>\n",
       "      <td>23055</td>\n",
       "      <td>IVORY CHANDELIER T-LIGHT HOLDER</td>\n",
       "      <td>-48</td>\n",
       "      <td>2011-10-17</td>\n",
       "      <td>5.39</td>\n",
       "      <td>12454.0</td>\n",
       "      <td>Spain</td>\n",
       "      <td>-258.72</td>\n",
       "    </tr>\n",
       "    <tr>\n",
       "      <th>402447</th>\n",
       "      <td>C571499</td>\n",
       "      <td>22423</td>\n",
       "      <td>REGENCY CAKESTAND 3 TIER</td>\n",
       "      <td>-32</td>\n",
       "      <td>2011-10-17</td>\n",
       "      <td>10.95</td>\n",
       "      <td>12454.0</td>\n",
       "      <td>Spain</td>\n",
       "      <td>-350.40</td>\n",
       "    </tr>\n",
       "    <tr>\n",
       "      <th>402448</th>\n",
       "      <td>C571499</td>\n",
       "      <td>22173</td>\n",
       "      <td>METAL 4 HOOK HANGER FRENCH CHATEAU</td>\n",
       "      <td>-32</td>\n",
       "      <td>2011-10-17</td>\n",
       "      <td>2.75</td>\n",
       "      <td>12454.0</td>\n",
       "      <td>Spain</td>\n",
       "      <td>-88.00</td>\n",
       "    </tr>\n",
       "  </tbody>\n",
       "</table>\n",
       "</div>"
      ],
      "text/plain": [
       "       InvoiceNo StockCode                          Description  Quantity  \\\n",
       "398626    571255    82494L          WOODEN FRAME ANTIQUE WHITE         72   \n",
       "398627    571255     82483   WOOD 2 DRAWER CABINET WHITE FINISH        32   \n",
       "398628    571255     82486  3 DRAWER ANTIQUE WHITE WOOD CABINET        12   \n",
       "398629    571255     22423             REGENCY CAKESTAND 3 TIER        32   \n",
       "398630    571255     22173   METAL 4 HOOK HANGER FRENCH CHATEAU        32   \n",
       "398631    571255     82482    WOODEN PICTURE FRAME WHITE FINISH        72   \n",
       "398632    571255     23064               CINDERELLA CHANDELIER         10   \n",
       "398633    571255     23055      IVORY CHANDELIER T-LIGHT HOLDER        48   \n",
       "398634    571255     23056    FLOWERS CHANDELIER T-LIGHT HOLDER        48   \n",
       "398635    571255     23057     BEADED CHANDELIER T-LIGHT HOLDER        48   \n",
       "398636    571255     23072  MARIE ANTOINETTE TRINKET BOX SILVER        48   \n",
       "398637    571255     23071    MARIE ANTOINETTE TRINKET BOX GOLD        48   \n",
       "398638    571255     23245           SET OF 3 REGENCY CAKE TINS        16   \n",
       "398639    571255    72802B   OCEAN SCENT CANDLE IN JEWELLED BOX       200   \n",
       "398640    571255    72802C    VANILLA SCENT CANDLE JEWELLED BOX       288   \n",
       "402434   C571499    82494L          WOODEN FRAME ANTIQUE WHITE        -72   \n",
       "402435   C571499     82486  3 DRAWER ANTIQUE WHITE WOOD CABINET       -12   \n",
       "402436   C571499     82483   WOOD 2 DRAWER CABINET WHITE FINISH       -32   \n",
       "402437   C571499     82482    WOODEN PICTURE FRAME WHITE FINISH       -72   \n",
       "402438   C571499    72802C    VANILLA SCENT CANDLE JEWELLED BOX      -288   \n",
       "402439   C571499    72802B   OCEAN SCENT CANDLE IN JEWELLED BOX      -200   \n",
       "402440   C571499     23245           SET OF 3 REGENCY CAKE TINS       -16   \n",
       "402441   C571499     23072  MARIE ANTOINETTE TRINKET BOX SILVER       -48   \n",
       "402442   C571499     23071    MARIE ANTOINETTE TRINKET BOX GOLD       -48   \n",
       "402443   C571499     23064               CINDERELLA CHANDELIER        -10   \n",
       "402444   C571499     23057     BEADED CHANDELIER T-LIGHT HOLDER       -48   \n",
       "402445   C571499     23056    FLOWERS CHANDELIER T-LIGHT HOLDER       -48   \n",
       "402446   C571499     23055      IVORY CHANDELIER T-LIGHT HOLDER       -48   \n",
       "402447   C571499     22423             REGENCY CAKESTAND 3 TIER       -32   \n",
       "402448   C571499     22173   METAL 4 HOOK HANGER FRENCH CHATEAU       -32   \n",
       "\n",
       "       InvoiceDate  UnitPrice  CustomerID Country  OrderValue  \n",
       "398626  2011-10-14       2.55     12454.0   Spain      183.60  \n",
       "398627  2011-10-14       5.95     12454.0   Spain      190.40  \n",
       "398628  2011-10-14       8.15     12454.0   Spain       97.80  \n",
       "398629  2011-10-14      10.95     12454.0   Spain      350.40  \n",
       "398630  2011-10-14       2.75     12454.0   Spain       88.00  \n",
       "398631  2011-10-14       2.55     12454.0   Spain      183.60  \n",
       "398632  2011-10-14      41.75     12454.0   Spain      417.50  \n",
       "398633  2011-10-14       5.39     12454.0   Spain      258.72  \n",
       "398634  2011-10-14       5.39     12454.0   Spain      258.72  \n",
       "398635  2011-10-14       4.15     12454.0   Spain      199.20  \n",
       "398636  2011-10-14       6.50     12454.0   Spain      312.00  \n",
       "398637  2011-10-14       6.50     12454.0   Spain      312.00  \n",
       "398638  2011-10-14       4.15     12454.0   Spain       66.40  \n",
       "398639  2011-10-14       1.25     12454.0   Spain      250.00  \n",
       "398640  2011-10-14       1.25     12454.0   Spain      360.00  \n",
       "402434  2011-10-17       2.55     12454.0   Spain     -183.60  \n",
       "402435  2011-10-17       8.15     12454.0   Spain      -97.80  \n",
       "402436  2011-10-17       5.95     12454.0   Spain     -190.40  \n",
       "402437  2011-10-17       2.55     12454.0   Spain     -183.60  \n",
       "402438  2011-10-17       1.25     12454.0   Spain     -360.00  \n",
       "402439  2011-10-17       1.25     12454.0   Spain     -250.00  \n",
       "402440  2011-10-17       4.15     12454.0   Spain      -66.40  \n",
       "402441  2011-10-17       6.50     12454.0   Spain     -312.00  \n",
       "402442  2011-10-17       6.50     12454.0   Spain     -312.00  \n",
       "402443  2011-10-17      41.75     12454.0   Spain     -417.50  \n",
       "402444  2011-10-17       4.15     12454.0   Spain     -199.20  \n",
       "402445  2011-10-17       5.39     12454.0   Spain     -258.72  \n",
       "402446  2011-10-17       5.39     12454.0   Spain     -258.72  \n",
       "402447  2011-10-17      10.95     12454.0   Spain     -350.40  \n",
       "402448  2011-10-17       2.75     12454.0   Spain      -88.00  "
      ]
     },
     "execution_count": 32,
     "metadata": {},
     "output_type": "execute_result"
    }
   ],
   "source": [
    "data[data[\"CustomerID\"]==12454]\n",
    "# Some customers have a negative sum of order value. This is because they have returns."
   ]
  },
  {
   "cell_type": "code",
   "execution_count": 33,
   "id": "knowing-suite",
   "metadata": {
    "execution": {
     "iopub.execute_input": "2021-04-22T20:02:24.716792Z",
     "iopub.status.busy": "2021-04-22T20:02:24.716155Z",
     "iopub.status.idle": "2021-04-22T20:02:24.865184Z",
     "shell.execute_reply": "2021-04-22T20:02:24.865744Z"
    },
    "papermill": {
     "duration": 0.215766,
     "end_time": "2021-04-22T20:02:24.865927",
     "exception": false,
     "start_time": "2021-04-22T20:02:24.650161",
     "status": "completed"
    },
    "tags": []
   },
   "outputs": [
    {
     "data": {
      "text/plain": [
       "<AxesSubplot:>"
      ]
     },
     "execution_count": 33,
     "metadata": {},
     "output_type": "execute_result"
    },
    {
     "data": {
      "image/png": "[encoded data removed]",
      "text/plain": [
       "<Figure size 432x288 with 1 Axes>"
      ]
     },
     "metadata": {
      "needs_background": "light"
     },
     "output_type": "display_data"
    }
   ],
   "source": [
    "customer_data[\"RelMonetaryValue\"] = customer_data[\"MonetaryValue\"] / customer_data[\"Lifetime\"]\n",
    "customer_data[\"RelMonetaryValue\"].hist()"
   ]
  },
  {
   "cell_type": "code",
   "execution_count": 34,
   "id": "communist-browser",
   "metadata": {
    "execution": {
     "iopub.execute_input": "2021-04-22T20:02:24.997900Z",
     "iopub.status.busy": "2021-04-22T20:02:24.997261Z",
     "iopub.status.idle": "2021-04-22T20:02:25.006110Z",
     "shell.execute_reply": "2021-04-22T20:02:25.006637Z"
    },
    "papermill": {
     "duration": 0.076594,
     "end_time": "2021-04-22T20:02:25.006813",
     "exception": false,
     "start_time": "2021-04-22T20:02:24.930219",
     "status": "completed"
    },
    "tags": []
   },
   "outputs": [
    {
     "data": {
      "text/plain": [
       "count    4327.000000\n",
       "mean        9.972495\n",
       "std        99.884916\n",
       "min       -29.775208\n",
       "25%         1.682288\n",
       "50%         4.148408\n",
       "75%         9.238084\n",
       "max      6196.850000\n",
       "Name: RelMonetaryValue, dtype: float64"
      ]
     },
     "execution_count": 34,
     "metadata": {},
     "output_type": "execute_result"
    }
   ],
   "source": [
    "customer_data[\"RelMonetaryValue\"].describe()"
   ]
  },
  {
   "cell_type": "markdown",
   "id": "painful-actress",
   "metadata": {
    "papermill": {
     "duration": 0.064555,
     "end_time": "2021-04-22T20:02:25.136415",
     "exception": false,
     "start_time": "2021-04-22T20:02:25.071860",
     "status": "completed"
    },
    "tags": []
   },
   "source": [
    "# Create RFM buckets using absolute values"
   ]
  },
  {
   "cell_type": "code",
   "execution_count": 35,
   "id": "intelligent-evidence",
   "metadata": {
    "execution": {
     "iopub.execute_input": "2021-04-22T20:02:25.272225Z",
     "iopub.status.busy": "2021-04-22T20:02:25.271605Z",
     "iopub.status.idle": "2021-04-22T20:02:25.274599Z",
     "shell.execute_reply": "2021-04-22T20:02:25.275087Z"
    },
    "papermill": {
     "duration": 0.071429,
     "end_time": "2021-04-22T20:02:25.275261",
     "exception": false,
     "start_time": "2021-04-22T20:02:25.203832",
     "status": "completed"
    },
    "tags": []
   },
   "outputs": [],
   "source": [
    "# Create RFM buckets using absolute values\n",
    "# For this analysis, we take the medians and 75% quartiles of relative recency, relative frequency and relative monetary value and use them for\n",
    "# 4 bins for each variable. We label those bins as 1, 2, 3 and 4 and use them as the scores for R, F and M respectively.\n",
    "# We then create \n",
    "# By doing so we end up with 10 clusters ()"
   ]
  },
  {
   "cell_type": "code",
   "execution_count": 36,
   "id": "systematic-parent",
   "metadata": {
    "execution": {
     "iopub.execute_input": "2021-04-22T20:02:25.408490Z",
     "iopub.status.busy": "2021-04-22T20:02:25.407777Z",
     "iopub.status.idle": "2021-04-22T20:02:25.421427Z",
     "shell.execute_reply": "2021-04-22T20:02:25.420930Z"
    },
    "papermill": {
     "duration": 0.081553,
     "end_time": "2021-04-22T20:02:25.421587",
     "exception": false,
     "start_time": "2021-04-22T20:02:25.340034",
     "status": "completed"
    },
    "tags": []
   },
   "outputs": [
    {
     "data": {
      "text/plain": [
       "4    1131\n",
       "1    1077\n",
       "2    1071\n",
       "3    1048\n",
       "Name: RecencyScore, dtype: int64"
      ]
     },
     "execution_count": 36,
     "metadata": {},
     "output_type": "execute_result"
    }
   ],
   "source": [
    "customer_data['RecencyScore'] = pd.cut(customer_data[\"Recency\"], \n",
    "                                       bins=[-1, \n",
    "                                             np.percentile(customer_data[\"Recency\"], 25), \n",
    "                                             np.percentile(customer_data[\"Recency\"], 50), \n",
    "                                             np.percentile(customer_data[\"Recency\"], 75), \n",
    "                                             customer_data[\"Recency\"].max()], \n",
    "                                       labels=[4, 3, 2, 1]).astype(\"int\")\n",
    "customer_data[\"RecencyScore\"].value_counts()"
   ]
  },
  {
   "cell_type": "code",
   "execution_count": 37,
   "id": "prescribed-slope",
   "metadata": {
    "execution": {
     "iopub.execute_input": "2021-04-22T20:02:25.556063Z",
     "iopub.status.busy": "2021-04-22T20:02:25.555424Z",
     "iopub.status.idle": "2021-04-22T20:02:25.568478Z",
     "shell.execute_reply": "2021-04-22T20:02:25.569008Z"
    },
    "papermill": {
     "duration": 0.081824,
     "end_time": "2021-04-22T20:02:25.569224",
     "exception": false,
     "start_time": "2021-04-22T20:02:25.487400",
     "status": "completed"
    },
    "tags": []
   },
   "outputs": [
    {
     "data": {
      "text/plain": [
       "1    1380\n",
       "3    1164\n",
       "4     926\n",
       "2     857\n",
       "Name: FrequencyScore, dtype: int64"
      ]
     },
     "execution_count": 37,
     "metadata": {},
     "output_type": "execute_result"
    }
   ],
   "source": [
    "customer_data[\"FrequencyScore\"] = pd.cut(customer_data[\"Frequency\"], \n",
    "                                       bins=[-1, \n",
    "                                             np.percentile(customer_data[\"Frequency\"], 25), \n",
    "                                             np.percentile(customer_data[\"Frequency\"], 50), \n",
    "                                             np.percentile(customer_data[\"Frequency\"], 75), \n",
    "                                             customer_data[\"Frequency\"].max()], \n",
    "                                       labels=[1, 2, 3, 4]).astype(\"int\")\n",
    "customer_data[\"FrequencyScore\"].value_counts()"
   ]
  },
  {
   "cell_type": "code",
   "execution_count": 38,
   "id": "important-commission",
   "metadata": {
    "execution": {
     "iopub.execute_input": "2021-04-22T20:02:25.705919Z",
     "iopub.status.busy": "2021-04-22T20:02:25.705214Z",
     "iopub.status.idle": "2021-04-22T20:02:25.717809Z",
     "shell.execute_reply": "2021-04-22T20:02:25.718308Z"
    },
    "papermill": {
     "duration": 0.081833,
     "end_time": "2021-04-22T20:02:25.718502",
     "exception": false,
     "start_time": "2021-04-22T20:02:25.636669",
     "status": "completed"
    },
    "tags": []
   },
   "outputs": [
    {
     "data": {
      "text/plain": [
       "4    1082\n",
       "1    1082\n",
       "2    1082\n",
       "3    1081\n",
       "Name: MonetaryScore, dtype: int64"
      ]
     },
     "execution_count": 38,
     "metadata": {},
     "output_type": "execute_result"
    }
   ],
   "source": [
    "customer_data[\"MonetaryScore\"] = pd.cut(customer_data[\"MonetaryValue\"], \n",
    "                                       bins=[customer_data[\"MonetaryValue\"].min()-1, \n",
    "                                             np.percentile(customer_data[\"MonetaryValue\"], 25),\n",
    "                                             np.percentile(customer_data[\"MonetaryValue\"], 50), \n",
    "                                             np.percentile(customer_data[\"MonetaryValue\"], 75), \n",
    "                                             customer_data[\"MonetaryValue\"].max()], \n",
    "                                       labels=[1, 2, 3, 4]).astype(\"int\")\n",
    "customer_data[\"MonetaryScore\"].value_counts()"
   ]
  },
  {
   "cell_type": "code",
   "execution_count": 39,
   "id": "german-channels",
   "metadata": {
    "execution": {
     "iopub.execute_input": "2021-04-22T20:02:25.854767Z",
     "iopub.status.busy": "2021-04-22T20:02:25.854145Z",
     "iopub.status.idle": "2021-04-22T20:02:25.862344Z",
     "shell.execute_reply": "2021-04-22T20:02:25.863114Z"
    },
    "papermill": {
     "duration": 0.078258,
     "end_time": "2021-04-22T20:02:25.863300",
     "exception": false,
     "start_time": "2021-04-22T20:02:25.785042",
     "status": "completed"
    },
    "tags": []
   },
   "outputs": [
    {
     "data": {
      "text/plain": [
       "5     493\n",
       "6     467\n",
       "4     460\n",
       "12    458\n",
       "9     450\n",
       "7     422\n",
       "3     417\n",
       "10    415\n",
       "8     403\n",
       "11    342\n",
       "Name: RFM, dtype: int64"
      ]
     },
     "execution_count": 39,
     "metadata": {},
     "output_type": "execute_result"
    }
   ],
   "source": [
    "customer_data[\"RFM\"] = customer_data[\"RecencyScore\"] + customer_data[\"FrequencyScore\"] + customer_data[\"MonetaryScore\"]\n",
    "customer_data[\"RFM\"].value_counts()"
   ]
  },
  {
   "cell_type": "code",
   "execution_count": 40,
   "id": "optional-belize",
   "metadata": {
    "execution": {
     "iopub.execute_input": "2021-04-22T20:02:26.000952Z",
     "iopub.status.busy": "2021-04-22T20:02:26.000106Z",
     "iopub.status.idle": "2021-04-22T20:02:26.059060Z",
     "shell.execute_reply": "2021-04-22T20:02:26.058535Z"
    },
    "papermill": {
     "duration": 0.12886,
     "end_time": "2021-04-22T20:02:26.059206",
     "exception": false,
     "start_time": "2021-04-22T20:02:25.930346",
     "status": "completed"
    },
    "tags": []
   },
   "outputs": [
    {
     "data": {
      "text/html": [
       "<div>\n",
       "<style scoped>\n",
       "    .dataframe tbody tr th:only-of-type {\n",
       "        vertical-align: middle;\n",
       "    }\n",
       "\n",
       "    .dataframe tbody tr th {\n",
       "        vertical-align: top;\n",
       "    }\n",
       "\n",
       "    .dataframe thead tr th {\n",
       "        text-align: left;\n",
       "    }\n",
       "\n",
       "    .dataframe thead tr:last-of-type th {\n",
       "        text-align: right;\n",
       "    }\n",
       "</style>\n",
       "<table border=\"1\" class=\"dataframe\">\n",
       "  <thead>\n",
       "    <tr>\n",
       "      <th></th>\n",
       "      <th colspan=\"3\" halign=\"left\">Frequency</th>\n",
       "      <th colspan=\"4\" halign=\"left\">Lifetime</th>\n",
       "      <th colspan=\"3\" halign=\"left\">MonetaryValue</th>\n",
       "      <th colspan=\"3\" halign=\"left\">Recency</th>\n",
       "    </tr>\n",
       "    <tr>\n",
       "      <th></th>\n",
       "      <th>amax</th>\n",
       "      <th>amin</th>\n",
       "      <th>median</th>\n",
       "      <th>amax</th>\n",
       "      <th>amin</th>\n",
       "      <th>count</th>\n",
       "      <th>median</th>\n",
       "      <th>amax</th>\n",
       "      <th>amin</th>\n",
       "      <th>median</th>\n",
       "      <th>amax</th>\n",
       "      <th>amin</th>\n",
       "      <th>median</th>\n",
       "    </tr>\n",
       "    <tr>\n",
       "      <th>RFM</th>\n",
       "      <th></th>\n",
       "      <th></th>\n",
       "      <th></th>\n",
       "      <th></th>\n",
       "      <th></th>\n",
       "      <th></th>\n",
       "      <th></th>\n",
       "      <th></th>\n",
       "      <th></th>\n",
       "      <th></th>\n",
       "      <th></th>\n",
       "      <th></th>\n",
       "      <th></th>\n",
       "    </tr>\n",
       "  </thead>\n",
       "  <tbody>\n",
       "    <tr>\n",
       "      <th>3</th>\n",
       "      <td>1</td>\n",
       "      <td>1</td>\n",
       "      <td>1</td>\n",
       "      <td>373.0</td>\n",
       "      <td>145.0</td>\n",
       "      <td>417</td>\n",
       "      <td>269.0</td>\n",
       "      <td>290.36</td>\n",
       "      <td>-1192.20</td>\n",
       "      <td>150.3000</td>\n",
       "      <td>373.0</td>\n",
       "      <td>145.0</td>\n",
       "      <td>269.0</td>\n",
       "    </tr>\n",
       "    <tr>\n",
       "      <th>4</th>\n",
       "      <td>2</td>\n",
       "      <td>1</td>\n",
       "      <td>1</td>\n",
       "      <td>373.0</td>\n",
       "      <td>51.0</td>\n",
       "      <td>460</td>\n",
       "      <td>200.5</td>\n",
       "      <td>628.28</td>\n",
       "      <td>-4287.63</td>\n",
       "      <td>257.5400</td>\n",
       "      <td>373.0</td>\n",
       "      <td>51.0</td>\n",
       "      <td>185.0</td>\n",
       "    </tr>\n",
       "    <tr>\n",
       "      <th>5</th>\n",
       "      <td>4</td>\n",
       "      <td>1</td>\n",
       "      <td>1</td>\n",
       "      <td>373.0</td>\n",
       "      <td>18.0</td>\n",
       "      <td>493</td>\n",
       "      <td>93.0</td>\n",
       "      <td>1384.25</td>\n",
       "      <td>-141.48</td>\n",
       "      <td>311.6900</td>\n",
       "      <td>372.0</td>\n",
       "      <td>18.0</td>\n",
       "      <td>84.0</td>\n",
       "    </tr>\n",
       "    <tr>\n",
       "      <th>6</th>\n",
       "      <td>7</td>\n",
       "      <td>1</td>\n",
       "      <td>2</td>\n",
       "      <td>373.0</td>\n",
       "      <td>1.0</td>\n",
       "      <td>467</td>\n",
       "      <td>116.0</td>\n",
       "      <td>3096.00</td>\n",
       "      <td>0.00</td>\n",
       "      <td>422.8800</td>\n",
       "      <td>372.0</td>\n",
       "      <td>1.0</td>\n",
       "      <td>65.0</td>\n",
       "    </tr>\n",
       "    <tr>\n",
       "      <th>7</th>\n",
       "      <td>6</td>\n",
       "      <td>1</td>\n",
       "      <td>2</td>\n",
       "      <td>373.0</td>\n",
       "      <td>1.0</td>\n",
       "      <td>422</td>\n",
       "      <td>198.0</td>\n",
       "      <td>9861.38</td>\n",
       "      <td>-1165.30</td>\n",
       "      <td>573.3555</td>\n",
       "      <td>366.0</td>\n",
       "      <td>0.0</td>\n",
       "      <td>53.0</td>\n",
       "    </tr>\n",
       "    <tr>\n",
       "      <th>8</th>\n",
       "      <td>8</td>\n",
       "      <td>1</td>\n",
       "      <td>3</td>\n",
       "      <td>373.0</td>\n",
       "      <td>3.0</td>\n",
       "      <td>403</td>\n",
       "      <td>248.0</td>\n",
       "      <td>7829.89</td>\n",
       "      <td>102.45</td>\n",
       "      <td>759.1700</td>\n",
       "      <td>330.0</td>\n",
       "      <td>1.0</td>\n",
       "      <td>50.0</td>\n",
       "    </tr>\n",
       "    <tr>\n",
       "      <th>9</th>\n",
       "      <td>12</td>\n",
       "      <td>1</td>\n",
       "      <td>4</td>\n",
       "      <td>373.0</td>\n",
       "      <td>2.0</td>\n",
       "      <td>450</td>\n",
       "      <td>255.5</td>\n",
       "      <td>12393.70</td>\n",
       "      <td>292.00</td>\n",
       "      <td>1056.4900</td>\n",
       "      <td>267.0</td>\n",
       "      <td>0.0</td>\n",
       "      <td>32.0</td>\n",
       "    </tr>\n",
       "    <tr>\n",
       "      <th>10</th>\n",
       "      <td>35</td>\n",
       "      <td>2</td>\n",
       "      <td>5</td>\n",
       "      <td>373.0</td>\n",
       "      <td>10.0</td>\n",
       "      <td>415</td>\n",
       "      <td>274.0</td>\n",
       "      <td>11581.80</td>\n",
       "      <td>306.72</td>\n",
       "      <td>1393.7900</td>\n",
       "      <td>143.0</td>\n",
       "      <td>0.0</td>\n",
       "      <td>21.0</td>\n",
       "    </tr>\n",
       "    <tr>\n",
       "      <th>11</th>\n",
       "      <td>22</td>\n",
       "      <td>3</td>\n",
       "      <td>7</td>\n",
       "      <td>373.0</td>\n",
       "      <td>24.0</td>\n",
       "      <td>342</td>\n",
       "      <td>312.0</td>\n",
       "      <td>14520.08</td>\n",
       "      <td>641.55</td>\n",
       "      <td>2265.2500</td>\n",
       "      <td>50.0</td>\n",
       "      <td>0.0</td>\n",
       "      <td>18.0</td>\n",
       "    </tr>\n",
       "    <tr>\n",
       "      <th>12</th>\n",
       "      <td>89</td>\n",
       "      <td>6</td>\n",
       "      <td>11</td>\n",
       "      <td>373.0</td>\n",
       "      <td>44.0</td>\n",
       "      <td>458</td>\n",
       "      <td>358.0</td>\n",
       "      <td>17078.45</td>\n",
       "      <td>1568.39</td>\n",
       "      <td>3717.7450</td>\n",
       "      <td>17.0</td>\n",
       "      <td>0.0</td>\n",
       "      <td>7.0</td>\n",
       "    </tr>\n",
       "  </tbody>\n",
       "</table>\n",
       "</div>"
      ],
      "text/plain": [
       "    Frequency             Lifetime                     MonetaryValue           \\\n",
       "         amax amin median     amax   amin count median          amax     amin   \n",
       "RFM                                                                             \n",
       "3           1    1      1    373.0  145.0   417  269.0        290.36 -1192.20   \n",
       "4           2    1      1    373.0   51.0   460  200.5        628.28 -4287.63   \n",
       "5           4    1      1    373.0   18.0   493   93.0       1384.25  -141.48   \n",
       "6           7    1      2    373.0    1.0   467  116.0       3096.00     0.00   \n",
       "7           6    1      2    373.0    1.0   422  198.0       9861.38 -1165.30   \n",
       "8           8    1      3    373.0    3.0   403  248.0       7829.89   102.45   \n",
       "9          12    1      4    373.0    2.0   450  255.5      12393.70   292.00   \n",
       "10         35    2      5    373.0   10.0   415  274.0      11581.80   306.72   \n",
       "11         22    3      7    373.0   24.0   342  312.0      14520.08   641.55   \n",
       "12         89    6     11    373.0   44.0   458  358.0      17078.45  1568.39   \n",
       "\n",
       "               Recency                \n",
       "        median    amax   amin median  \n",
       "RFM                                   \n",
       "3     150.3000   373.0  145.0  269.0  \n",
       "4     257.5400   373.0   51.0  185.0  \n",
       "5     311.6900   372.0   18.0   84.0  \n",
       "6     422.8800   372.0    1.0   65.0  \n",
       "7     573.3555   366.0    0.0   53.0  \n",
       "8     759.1700   330.0    1.0   50.0  \n",
       "9    1056.4900   267.0    0.0   32.0  \n",
       "10   1393.7900   143.0    0.0   21.0  \n",
       "11   2265.2500    50.0    0.0   18.0  \n",
       "12   3717.7450    17.0    0.0    7.0  "
      ]
     },
     "execution_count": 40,
     "metadata": {},
     "output_type": "execute_result"
    }
   ],
   "source": [
    "rfm_abs = pd.DataFrame(customer_data.pivot_table(index=[\"RFM\"], \n",
    "                                    values=[\"Recency\", \"Frequency\", \"MonetaryValue\", \"Lifetime\"], \n",
    "                                    aggfunc={\"Recency\": [np.min, np.median, np.max], \n",
    "                                             \"Frequency\": [np.min, np.median, np.max], \n",
    "                                             \"MonetaryValue\": [np.min, np.median, np.max], \n",
    "                                             \"Lifetime\": [np.min, np.median, np.max, \"count\"]}))\n",
    "rfm_abs"
   ]
  },
  {
   "cell_type": "markdown",
   "id": "distinct-christian",
   "metadata": {
    "papermill": {
     "duration": 0.067549,
     "end_time": "2021-04-22T20:02:26.195271",
     "exception": false,
     "start_time": "2021-04-22T20:02:26.127722",
     "status": "completed"
    },
    "tags": []
   },
   "source": [
    "As we can see, the groups have very different median days of lifetime. This suggests potential bias associated with customer sign up date."
   ]
  },
  {
   "cell_type": "markdown",
   "id": "expected-march",
   "metadata": {
    "papermill": {
     "duration": 0.067485,
     "end_time": "2021-04-22T20:02:26.331800",
     "exception": false,
     "start_time": "2021-04-22T20:02:26.264315",
     "status": "completed"
    },
    "tags": []
   },
   "source": [
    "# Create RFM buckets using relative values"
   ]
  },
  {
   "cell_type": "code",
   "execution_count": 41,
   "id": "theoretical-familiar",
   "metadata": {
    "execution": {
     "iopub.execute_input": "2021-04-22T20:02:26.475535Z",
     "iopub.status.busy": "2021-04-22T20:02:26.474626Z",
     "iopub.status.idle": "2021-04-22T20:02:26.485341Z",
     "shell.execute_reply": "2021-04-22T20:02:26.484801Z"
    },
    "papermill": {
     "duration": 0.08585,
     "end_time": "2021-04-22T20:02:26.485509",
     "exception": false,
     "start_time": "2021-04-22T20:02:26.399659",
     "status": "completed"
    },
    "tags": []
   },
   "outputs": [
    {
     "data": {
      "text/plain": [
       "1    1380\n",
       "4    1082\n",
       "3    1081\n",
       "2     784\n",
       "Name: RecencyScore, dtype: int64"
      ]
     },
     "execution_count": 41,
     "metadata": {},
     "output_type": "execute_result"
    }
   ],
   "source": [
    "# Create RFM buckets using relative values\n",
    "# For this analysis, we take the medians and 75% quartiles of relative recency, relative frequency and relative monetary value and use them for\n",
    "# 4 bins for each variable. We label those bins as 1, 2, 3 and 4 and use them as the scores for R, F and M respectively.\n",
    "# We then create \n",
    "# By doing so we end up with 10 clusters ()\n",
    "customer_data[\"RecencyScore\"] = pd.cut(customer_data[\"RelRecency\"], \n",
    "                                       bins=[-1, \n",
    "                                             np.percentile(customer_data[\"RelRecency\"], 25), \n",
    "                                             np.percentile(customer_data[\"RelRecency\"], 50), \n",
    "                                             np.percentile(customer_data[\"RelRecency\"], 75), \n",
    "                                             customer_data[\"RelRecency\"].max()], \n",
    "                                       labels=[1, 2, 3, 4]).astype(\"int\")\n",
    "customer_data[\"RecencyScore\"].value_counts()"
   ]
  },
  {
   "cell_type": "code",
   "execution_count": 42,
   "id": "decimal-junction",
   "metadata": {
    "execution": {
     "iopub.execute_input": "2021-04-22T20:02:26.629983Z",
     "iopub.status.busy": "2021-04-22T20:02:26.629286Z",
     "iopub.status.idle": "2021-04-22T20:02:26.637804Z",
     "shell.execute_reply": "2021-04-22T20:02:26.638307Z"
    },
    "papermill": {
     "duration": 0.083914,
     "end_time": "2021-04-22T20:02:26.638494",
     "exception": false,
     "start_time": "2021-04-22T20:02:26.554580",
     "status": "completed"
    },
    "tags": []
   },
   "outputs": [
    {
     "data": {
      "text/plain": [
       "1    1091\n",
       "3    1086\n",
       "4    1077\n",
       "2    1073\n",
       "Name: FrequencyScore, dtype: int64"
      ]
     },
     "execution_count": 42,
     "metadata": {},
     "output_type": "execute_result"
    }
   ],
   "source": [
    "customer_data[\"FrequencyScore\"] = pd.cut(customer_data[\"RelFrequency\"], \n",
    "                                       bins=[-1, \n",
    "                                             np.percentile(customer_data[\"RelFrequency\"], 25), \n",
    "                                             np.percentile(customer_data[\"RelFrequency\"], 50), \n",
    "                                             np.percentile(customer_data[\"RelFrequency\"], 75), \n",
    "                                             customer_data[\"RelFrequency\"].max()], \n",
    "                                       labels=[1, 2, 3, 4]).astype(\"int\")\n",
    "customer_data[\"FrequencyScore\"].value_counts()"
   ]
  },
  {
   "cell_type": "code",
   "execution_count": 43,
   "id": "smooth-commissioner",
   "metadata": {
    "execution": {
     "iopub.execute_input": "2021-04-22T20:02:26.778631Z",
     "iopub.status.busy": "2021-04-22T20:02:26.777900Z",
     "iopub.status.idle": "2021-04-22T20:02:26.791313Z",
     "shell.execute_reply": "2021-04-22T20:02:26.790721Z"
    },
    "papermill": {
     "duration": 0.084293,
     "end_time": "2021-04-22T20:02:26.791480",
     "exception": false,
     "start_time": "2021-04-22T20:02:26.707187",
     "status": "completed"
    },
    "tags": []
   },
   "outputs": [
    {
     "data": {
      "text/plain": [
       "4    1082\n",
       "1    1082\n",
       "2    1082\n",
       "3    1081\n",
       "Name: MonetaryScore, dtype: int64"
      ]
     },
     "execution_count": 43,
     "metadata": {},
     "output_type": "execute_result"
    }
   ],
   "source": [
    "customer_data[\"MonetaryScore\"] = pd.cut(customer_data[\"RelMonetaryValue\"], \n",
    "                                       bins=[customer_data[\"RelMonetaryValue\"].min()-1, \n",
    "                                             np.percentile(customer_data[\"RelMonetaryValue\"], 25),\n",
    "                                             np.percentile(customer_data[\"RelMonetaryValue\"], 50), \n",
    "                                             np.percentile(customer_data[\"RelMonetaryValue\"], 75), \n",
    "                                             customer_data[\"RelMonetaryValue\"].max()], \n",
    "                                       labels=[1, 2, 3, 4]).astype(\"int\")\n",
    "customer_data[\"MonetaryScore\"].value_counts()"
   ]
  },
  {
   "cell_type": "code",
   "execution_count": 44,
   "id": "grand-seminar",
   "metadata": {
    "execution": {
     "iopub.execute_input": "2021-04-22T20:02:26.935889Z",
     "iopub.status.busy": "2021-04-22T20:02:26.935124Z",
     "iopub.status.idle": "2021-04-22T20:02:26.956564Z",
     "shell.execute_reply": "2021-04-22T20:02:26.955899Z"
    },
    "papermill": {
     "duration": 0.096173,
     "end_time": "2021-04-22T20:02:26.956726",
     "exception": false,
     "start_time": "2021-04-22T20:02:26.860553",
     "status": "completed"
    },
    "tags": []
   },
   "outputs": [
    {
     "data": {
      "text/html": [
       "<div>\n",
       "<style scoped>\n",
       "    .dataframe tbody tr th:only-of-type {\n",
       "        vertical-align: middle;\n",
       "    }\n",
       "\n",
       "    .dataframe tbody tr th {\n",
       "        vertical-align: top;\n",
       "    }\n",
       "\n",
       "    .dataframe thead th {\n",
       "        text-align: right;\n",
       "    }\n",
       "</style>\n",
       "<table border=\"1\" class=\"dataframe\">\n",
       "  <thead>\n",
       "    <tr style=\"text-align: right;\">\n",
       "      <th></th>\n",
       "      <th>LastInvoiceDate</th>\n",
       "      <th>FirstInvoiceDate</th>\n",
       "      <th>Frequency</th>\n",
       "      <th>MonetaryValue</th>\n",
       "      <th>FirstInvoiceMonth</th>\n",
       "      <th>Recency</th>\n",
       "      <th>Lifetime</th>\n",
       "      <th>RelRecency</th>\n",
       "      <th>RelFrequency</th>\n",
       "      <th>RelMonetaryValue</th>\n",
       "      <th>RecencyScore</th>\n",
       "      <th>FrequencyScore</th>\n",
       "      <th>MonetaryScore</th>\n",
       "      <th>RFM</th>\n",
       "    </tr>\n",
       "    <tr>\n",
       "      <th>CustomerID</th>\n",
       "      <th></th>\n",
       "      <th></th>\n",
       "      <th></th>\n",
       "      <th></th>\n",
       "      <th></th>\n",
       "      <th></th>\n",
       "      <th></th>\n",
       "      <th></th>\n",
       "      <th></th>\n",
       "      <th></th>\n",
       "      <th></th>\n",
       "      <th></th>\n",
       "      <th></th>\n",
       "      <th></th>\n",
       "    </tr>\n",
       "  </thead>\n",
       "  <tbody>\n",
       "    <tr>\n",
       "      <th>12346.0</th>\n",
       "      <td>2011-01-18</td>\n",
       "      <td>2011-01-18</td>\n",
       "      <td>1</td>\n",
       "      <td>0.00</td>\n",
       "      <td>2011-01-01</td>\n",
       "      <td>325.0</td>\n",
       "      <td>325.0</td>\n",
       "      <td>0.000000</td>\n",
       "      <td>0.003077</td>\n",
       "      <td>0.000000</td>\n",
       "      <td>1</td>\n",
       "      <td>1</td>\n",
       "      <td>1</td>\n",
       "      <td>3</td>\n",
       "    </tr>\n",
       "    <tr>\n",
       "      <th>12347.0</th>\n",
       "      <td>2011-12-07</td>\n",
       "      <td>2010-12-07</td>\n",
       "      <td>7</td>\n",
       "      <td>4310.00</td>\n",
       "      <td>2010-12-01</td>\n",
       "      <td>2.0</td>\n",
       "      <td>367.0</td>\n",
       "      <td>0.994550</td>\n",
       "      <td>0.019074</td>\n",
       "      <td>11.743869</td>\n",
       "      <td>4</td>\n",
       "      <td>3</td>\n",
       "      <td>4</td>\n",
       "      <td>12</td>\n",
       "    </tr>\n",
       "    <tr>\n",
       "      <th>12348.0</th>\n",
       "      <td>2011-09-25</td>\n",
       "      <td>2010-12-16</td>\n",
       "      <td>4</td>\n",
       "      <td>1797.24</td>\n",
       "      <td>2010-12-01</td>\n",
       "      <td>75.0</td>\n",
       "      <td>358.0</td>\n",
       "      <td>0.790503</td>\n",
       "      <td>0.011173</td>\n",
       "      <td>5.020223</td>\n",
       "      <td>3</td>\n",
       "      <td>2</td>\n",
       "      <td>3</td>\n",
       "      <td>9</td>\n",
       "    </tr>\n",
       "    <tr>\n",
       "      <th>12349.0</th>\n",
       "      <td>2011-11-21</td>\n",
       "      <td>2011-11-21</td>\n",
       "      <td>1</td>\n",
       "      <td>1757.55</td>\n",
       "      <td>2011-11-01</td>\n",
       "      <td>18.0</td>\n",
       "      <td>18.0</td>\n",
       "      <td>0.000000</td>\n",
       "      <td>0.055556</td>\n",
       "      <td>97.641667</td>\n",
       "      <td>1</td>\n",
       "      <td>4</td>\n",
       "      <td>4</td>\n",
       "      <td>8</td>\n",
       "    </tr>\n",
       "    <tr>\n",
       "      <th>12350.0</th>\n",
       "      <td>2011-02-02</td>\n",
       "      <td>2011-02-02</td>\n",
       "      <td>1</td>\n",
       "      <td>334.40</td>\n",
       "      <td>2011-02-01</td>\n",
       "      <td>310.0</td>\n",
       "      <td>310.0</td>\n",
       "      <td>0.000000</td>\n",
       "      <td>0.003226</td>\n",
       "      <td>1.078710</td>\n",
       "      <td>1</td>\n",
       "      <td>1</td>\n",
       "      <td>1</td>\n",
       "      <td>4</td>\n",
       "    </tr>\n",
       "  </tbody>\n",
       "</table>\n",
       "</div>"
      ],
      "text/plain": [
       "           LastInvoiceDate FirstInvoiceDate  Frequency  MonetaryValue  \\\n",
       "CustomerID                                                              \n",
       "12346.0         2011-01-18       2011-01-18          1           0.00   \n",
       "12347.0         2011-12-07       2010-12-07          7        4310.00   \n",
       "12348.0         2011-09-25       2010-12-16          4        1797.24   \n",
       "12349.0         2011-11-21       2011-11-21          1        1757.55   \n",
       "12350.0         2011-02-02       2011-02-02          1         334.40   \n",
       "\n",
       "           FirstInvoiceMonth  Recency  Lifetime  RelRecency  RelFrequency  \\\n",
       "CustomerID                                                                  \n",
       "12346.0           2011-01-01    325.0     325.0    0.000000      0.003077   \n",
       "12347.0           2010-12-01      2.0     367.0    0.994550      0.019074   \n",
       "12348.0           2010-12-01     75.0     358.0    0.790503      0.011173   \n",
       "12349.0           2011-11-01     18.0      18.0    0.000000      0.055556   \n",
       "12350.0           2011-02-01    310.0     310.0    0.000000      0.003226   \n",
       "\n",
       "            RelMonetaryValue  RecencyScore  FrequencyScore  MonetaryScore  RFM  \n",
       "CustomerID                                                                      \n",
       "12346.0             0.000000             1               1              1    3  \n",
       "12347.0            11.743869             4               3              4   12  \n",
       "12348.0             5.020223             3               2              3    9  \n",
       "12349.0            97.641667             1               4              4    8  \n",
       "12350.0             1.078710             1               1              1    4  "
      ]
     },
     "execution_count": 44,
     "metadata": {},
     "output_type": "execute_result"
    }
   ],
   "source": [
    "customer_data.head()"
   ]
  },
  {
   "cell_type": "code",
   "execution_count": 45,
   "id": "atlantic-insertion",
   "metadata": {
    "execution": {
     "iopub.execute_input": "2021-04-22T20:02:27.109753Z",
     "iopub.status.busy": "2021-04-22T20:02:27.108803Z",
     "iopub.status.idle": "2021-04-22T20:02:27.113419Z",
     "shell.execute_reply": "2021-04-22T20:02:27.112875Z"
    },
    "papermill": {
     "duration": 0.084732,
     "end_time": "2021-04-22T20:02:27.113606",
     "exception": false,
     "start_time": "2021-04-22T20:02:27.028874",
     "status": "completed"
    },
    "tags": []
   },
   "outputs": [
    {
     "data": {
      "text/plain": [
       "9     572\n",
       "3     557\n",
       "8     521\n",
       "7     491\n",
       "6     455\n",
       "10    429\n",
       "11    346\n",
       "12    344\n",
       "5     313\n",
       "4     299\n",
       "Name: RFM, dtype: int64"
      ]
     },
     "execution_count": 45,
     "metadata": {},
     "output_type": "execute_result"
    }
   ],
   "source": [
    "customer_data[\"RFM\"] = customer_data[\"RecencyScore\"] + customer_data[\"FrequencyScore\"] + customer_data[\"MonetaryScore\"]\n",
    "customer_data[\"RFM\"].value_counts()"
   ]
  },
  {
   "cell_type": "code",
   "execution_count": 46,
   "id": "assured-lunch",
   "metadata": {
    "execution": {
     "iopub.execute_input": "2021-04-22T20:02:27.267665Z",
     "iopub.status.busy": "2021-04-22T20:02:27.266543Z",
     "iopub.status.idle": "2021-04-22T20:02:27.319399Z",
     "shell.execute_reply": "2021-04-22T20:02:27.319987Z"
    },
    "papermill": {
     "duration": 0.135949,
     "end_time": "2021-04-22T20:02:27.320165",
     "exception": false,
     "start_time": "2021-04-22T20:02:27.184216",
     "status": "completed"
    },
    "tags": []
   },
   "outputs": [
    {
     "data": {
      "text/html": [
       "<div>\n",
       "<style scoped>\n",
       "    .dataframe tbody tr th:only-of-type {\n",
       "        vertical-align: middle;\n",
       "    }\n",
       "\n",
       "    .dataframe tbody tr th {\n",
       "        vertical-align: top;\n",
       "    }\n",
       "\n",
       "    .dataframe thead tr th {\n",
       "        text-align: left;\n",
       "    }\n",
       "\n",
       "    .dataframe thead tr:last-of-type th {\n",
       "        text-align: right;\n",
       "    }\n",
       "</style>\n",
       "<table border=\"1\" class=\"dataframe\">\n",
       "  <thead>\n",
       "    <tr>\n",
       "      <th></th>\n",
       "      <th colspan=\"3\" halign=\"left\">Frequency</th>\n",
       "      <th colspan=\"4\" halign=\"left\">Lifetime</th>\n",
       "      <th colspan=\"3\" halign=\"left\">MonetaryValue</th>\n",
       "      <th colspan=\"3\" halign=\"left\">Recency</th>\n",
       "    </tr>\n",
       "    <tr>\n",
       "      <th></th>\n",
       "      <th>amax</th>\n",
       "      <th>amin</th>\n",
       "      <th>median</th>\n",
       "      <th>amax</th>\n",
       "      <th>amin</th>\n",
       "      <th>count</th>\n",
       "      <th>median</th>\n",
       "      <th>amax</th>\n",
       "      <th>amin</th>\n",
       "      <th>median</th>\n",
       "      <th>amax</th>\n",
       "      <th>amin</th>\n",
       "      <th>median</th>\n",
       "    </tr>\n",
       "    <tr>\n",
       "      <th>RFM</th>\n",
       "      <th></th>\n",
       "      <th></th>\n",
       "      <th></th>\n",
       "      <th></th>\n",
       "      <th></th>\n",
       "      <th></th>\n",
       "      <th></th>\n",
       "      <th></th>\n",
       "      <th></th>\n",
       "      <th></th>\n",
       "      <th></th>\n",
       "      <th></th>\n",
       "      <th></th>\n",
       "    </tr>\n",
       "  </thead>\n",
       "  <tbody>\n",
       "    <tr>\n",
       "      <th>3</th>\n",
       "      <td>1</td>\n",
       "      <td>1</td>\n",
       "      <td>1</td>\n",
       "      <td>373.0</td>\n",
       "      <td>123.0</td>\n",
       "      <td>557</td>\n",
       "      <td>270.0</td>\n",
       "      <td>590.00</td>\n",
       "      <td>-4.287630e+03</td>\n",
       "      <td>171.45</td>\n",
       "      <td>373.0</td>\n",
       "      <td>123.0</td>\n",
       "      <td>270.0</td>\n",
       "    </tr>\n",
       "    <tr>\n",
       "      <th>4</th>\n",
       "      <td>3</td>\n",
       "      <td>1</td>\n",
       "      <td>1</td>\n",
       "      <td>373.0</td>\n",
       "      <td>65.0</td>\n",
       "      <td>299</td>\n",
       "      <td>260.0</td>\n",
       "      <td>1308.48</td>\n",
       "      <td>-8.407600e+02</td>\n",
       "      <td>321.05</td>\n",
       "      <td>372.0</td>\n",
       "      <td>65.0</td>\n",
       "      <td>204.0</td>\n",
       "    </tr>\n",
       "    <tr>\n",
       "      <th>5</th>\n",
       "      <td>5</td>\n",
       "      <td>1</td>\n",
       "      <td>2</td>\n",
       "      <td>373.0</td>\n",
       "      <td>38.0</td>\n",
       "      <td>313</td>\n",
       "      <td>256.0</td>\n",
       "      <td>2661.24</td>\n",
       "      <td>-1.348000e+02</td>\n",
       "      <td>316.62</td>\n",
       "      <td>372.0</td>\n",
       "      <td>28.0</td>\n",
       "      <td>143.0</td>\n",
       "    </tr>\n",
       "    <tr>\n",
       "      <th>6</th>\n",
       "      <td>7</td>\n",
       "      <td>1</td>\n",
       "      <td>2</td>\n",
       "      <td>373.0</td>\n",
       "      <td>14.0</td>\n",
       "      <td>455</td>\n",
       "      <td>235.0</td>\n",
       "      <td>4008.62</td>\n",
       "      <td>-1.165300e+03</td>\n",
       "      <td>449.12</td>\n",
       "      <td>366.0</td>\n",
       "      <td>1.0</td>\n",
       "      <td>75.0</td>\n",
       "    </tr>\n",
       "    <tr>\n",
       "      <th>7</th>\n",
       "      <td>8</td>\n",
       "      <td>1</td>\n",
       "      <td>2</td>\n",
       "      <td>373.0</td>\n",
       "      <td>14.0</td>\n",
       "      <td>491</td>\n",
       "      <td>212.0</td>\n",
       "      <td>5288.63</td>\n",
       "      <td>-5.684342e-14</td>\n",
       "      <td>638.77</td>\n",
       "      <td>330.0</td>\n",
       "      <td>0.0</td>\n",
       "      <td>58.0</td>\n",
       "    </tr>\n",
       "    <tr>\n",
       "      <th>8</th>\n",
       "      <td>10</td>\n",
       "      <td>1</td>\n",
       "      <td>3</td>\n",
       "      <td>373.0</td>\n",
       "      <td>7.0</td>\n",
       "      <td>521</td>\n",
       "      <td>236.0</td>\n",
       "      <td>9861.38</td>\n",
       "      <td>2.664535e-14</td>\n",
       "      <td>819.29</td>\n",
       "      <td>306.0</td>\n",
       "      <td>1.0</td>\n",
       "      <td>38.0</td>\n",
       "    </tr>\n",
       "    <tr>\n",
       "      <th>9</th>\n",
       "      <td>11</td>\n",
       "      <td>1</td>\n",
       "      <td>4</td>\n",
       "      <td>373.0</td>\n",
       "      <td>1.0</td>\n",
       "      <td>572</td>\n",
       "      <td>198.5</td>\n",
       "      <td>12393.70</td>\n",
       "      <td>4.199000e+01</td>\n",
       "      <td>982.37</td>\n",
       "      <td>267.0</td>\n",
       "      <td>0.0</td>\n",
       "      <td>23.0</td>\n",
       "    </tr>\n",
       "    <tr>\n",
       "      <th>10</th>\n",
       "      <td>35</td>\n",
       "      <td>2</td>\n",
       "      <td>5</td>\n",
       "      <td>373.0</td>\n",
       "      <td>9.0</td>\n",
       "      <td>429</td>\n",
       "      <td>249.0</td>\n",
       "      <td>11990.96</td>\n",
       "      <td>1.370000e+02</td>\n",
       "      <td>1809.81</td>\n",
       "      <td>155.0</td>\n",
       "      <td>0.0</td>\n",
       "      <td>22.0</td>\n",
       "    </tr>\n",
       "    <tr>\n",
       "      <th>11</th>\n",
       "      <td>22</td>\n",
       "      <td>2</td>\n",
       "      <td>7</td>\n",
       "      <td>373.0</td>\n",
       "      <td>10.0</td>\n",
       "      <td>346</td>\n",
       "      <td>241.5</td>\n",
       "      <td>13375.87</td>\n",
       "      <td>2.141400e+02</td>\n",
       "      <td>2234.58</td>\n",
       "      <td>120.0</td>\n",
       "      <td>0.0</td>\n",
       "      <td>9.0</td>\n",
       "    </tr>\n",
       "    <tr>\n",
       "      <th>12</th>\n",
       "      <td>89</td>\n",
       "      <td>2</td>\n",
       "      <td>13</td>\n",
       "      <td>373.0</td>\n",
       "      <td>17.0</td>\n",
       "      <td>344</td>\n",
       "      <td>333.5</td>\n",
       "      <td>17078.45</td>\n",
       "      <td>3.964800e+02</td>\n",
       "      <td>4391.71</td>\n",
       "      <td>31.0</td>\n",
       "      <td>0.0</td>\n",
       "      <td>4.0</td>\n",
       "    </tr>\n",
       "  </tbody>\n",
       "</table>\n",
       "</div>"
      ],
      "text/plain": [
       "    Frequency             Lifetime                     MonetaryValue  \\\n",
       "         amax amin median     amax   amin count median          amax   \n",
       "RFM                                                                    \n",
       "3           1    1      1    373.0  123.0   557  270.0        590.00   \n",
       "4           3    1      1    373.0   65.0   299  260.0       1308.48   \n",
       "5           5    1      2    373.0   38.0   313  256.0       2661.24   \n",
       "6           7    1      2    373.0   14.0   455  235.0       4008.62   \n",
       "7           8    1      2    373.0   14.0   491  212.0       5288.63   \n",
       "8          10    1      3    373.0    7.0   521  236.0       9861.38   \n",
       "9          11    1      4    373.0    1.0   572  198.5      12393.70   \n",
       "10         35    2      5    373.0    9.0   429  249.0      11990.96   \n",
       "11         22    2      7    373.0   10.0   346  241.5      13375.87   \n",
       "12         89    2     13    373.0   17.0   344  333.5      17078.45   \n",
       "\n",
       "                           Recency                \n",
       "             amin   median    amax   amin median  \n",
       "RFM                                               \n",
       "3   -4.287630e+03   171.45   373.0  123.0  270.0  \n",
       "4   -8.407600e+02   321.05   372.0   65.0  204.0  \n",
       "5   -1.348000e+02   316.62   372.0   28.0  143.0  \n",
       "6   -1.165300e+03   449.12   366.0    1.0   75.0  \n",
       "7   -5.684342e-14   638.77   330.0    0.0   58.0  \n",
       "8    2.664535e-14   819.29   306.0    1.0   38.0  \n",
       "9    4.199000e+01   982.37   267.0    0.0   23.0  \n",
       "10   1.370000e+02  1809.81   155.0    0.0   22.0  \n",
       "11   2.141400e+02  2234.58   120.0    0.0    9.0  \n",
       "12   3.964800e+02  4391.71    31.0    0.0    4.0  "
      ]
     },
     "execution_count": 46,
     "metadata": {},
     "output_type": "execute_result"
    }
   ],
   "source": [
    "rfm_rel = pd.DataFrame(customer_data.pivot_table(index=[\"RFM\"], \n",
    "                                    values=[\"Recency\", \"Frequency\", \"MonetaryValue\", \"Lifetime\"], \n",
    "                                    aggfunc={\"Recency\": [np.min, np.median, np.max], \n",
    "                                             \"Frequency\": [np.min, np.median, np.max], \n",
    "                                             \"MonetaryValue\": [np.min, np.median, np.max], \n",
    "                                             \"Lifetime\": [np.min, np.median, np.max, \"count\"]}))\n",
    "rfm_rel\n",
    "# Note that the median lifetime is rather constant across clusters. This is a good news - our segmentation is not biased by the lifetime\n",
    "# of the customers."
   ]
  },
  {
   "cell_type": "code",
   "execution_count": 47,
   "id": "considerable-operator",
   "metadata": {
    "execution": {
     "iopub.execute_input": "2021-04-22T20:02:27.513725Z",
     "iopub.status.busy": "2021-04-22T20:02:27.509370Z",
     "iopub.status.idle": "2021-04-22T20:02:27.750438Z",
     "shell.execute_reply": "2021-04-22T20:02:27.749782Z"
    },
    "papermill": {
     "duration": 0.358498,
     "end_time": "2021-04-22T20:02:27.750602",
     "exception": false,
     "start_time": "2021-04-22T20:02:27.392104",
     "status": "completed"
    },
    "tags": []
   },
   "outputs": [
    {
     "data": {
      "image/png": "[encoded data removed]",
      "text/plain": [
       "<Figure size 432x288 with 2 Axes>"
      ]
     },
     "metadata": {
      "needs_background": "light"
     },
     "output_type": "display_data"
    }
   ],
   "source": [
    "fig, axes = plt.subplots(nrows=2, ncols=1)\n",
    "fig.suptitle('Median Lifetime of RFM Segments (Absolute vs Relative)')\n",
    "rfm_abs[\"Lifetime\"][\"median\"].plot(ax=axes[0], kind=\"bar\")\n",
    "rfm_rel[\"Lifetime\"][\"median\"].plot(ax=axes[1], kind=\"bar\")\n",
    "plt.show()"
   ]
  },
  {
   "cell_type": "code",
   "execution_count": 48,
   "id": "disciplinary-pasta",
   "metadata": {
    "execution": {
     "iopub.execute_input": "2021-04-22T20:02:27.936853Z",
     "iopub.status.busy": "2021-04-22T20:02:27.933001Z",
     "iopub.status.idle": "2021-04-22T20:02:28.268184Z",
     "shell.execute_reply": "2021-04-22T20:02:28.268716Z"
    },
    "papermill": {
     "duration": 0.445926,
     "end_time": "2021-04-22T20:02:28.268906",
     "exception": false,
     "start_time": "2021-04-22T20:02:27.822980",
     "status": "completed"
    },
    "tags": []
   },
   "outputs": [
    {
     "data": {
      "image/png": "[encoded data removed]",
      "text/plain": [
       "<Figure size 720x576 with 1 Axes>"
      ]
     },
     "metadata": {
      "needs_background": "light"
     },
     "output_type": "display_data"
    }
   ],
   "source": [
    "# Visualise segments using 3D plot\n",
    "x = customer_data[\"RelRecency\"]\n",
    "y = customer_data[\"RelFrequency\"]\n",
    "z = (customer_data[\"RelMonetaryValue\"] - customer_data[\"RelMonetaryValue\"].min()) / customer_data[\"RelMonetaryValue\"].max()\n",
    "c = customer_data[\"RFM\"]\n",
    "fig = plt.figure(figsize=(10, 8))\n",
    "ax = fig.add_subplot(111, projection='3d')\n",
    "ax.scatter(xs=x, ys=y, zs=z, c=c, s=30, alpha=0.5)\n",
    "ax.set_title(\"RFM Visualisation\")\n",
    "ax.set_xlabel(\"Relative Recency\")\n",
    "ax.set_ylabel(\"Relative Frequency\")\n",
    "ax.set_zlabel(\"Relative Monetary Value (with Min-Max Standardisation)\")\n",
    "plt.show()"
   ]
  },
  {
   "cell_type": "code",
   "execution_count": 49,
   "id": "alive-surgery",
   "metadata": {
    "execution": {
     "iopub.execute_input": "2021-04-22T20:02:28.423326Z",
     "iopub.status.busy": "2021-04-22T20:02:28.422674Z",
     "iopub.status.idle": "2021-04-22T20:02:28.856040Z",
     "shell.execute_reply": "2021-04-22T20:02:28.856526Z"
    },
    "papermill": {
     "duration": 0.512144,
     "end_time": "2021-04-22T20:02:28.856718",
     "exception": false,
     "start_time": "2021-04-22T20:02:28.344574",
     "status": "completed"
    },
    "tags": []
   },
   "outputs": [
    {
     "data": {
      "text/plain": [
       "Text(0.5, 1.0, 'Relative Recency (x) vs Relative Monetary Value (y)')"
      ]
     },
     "execution_count": 49,
     "metadata": {},
     "output_type": "execute_result"
    },
    {
     "data": {
      "image/png": "[encoded data removed]",
      "text/plain": [
       "<Figure size 360x1080 with 3 Axes>"
      ]
     },
     "metadata": {
      "needs_background": "light"
     },
     "output_type": "display_data"
    }
   ],
   "source": [
    "fig, axs = plt.subplots(nrows=3, ncols=1, sharex=True, sharey=True, figsize=(5, 15))\n",
    "fig.suptitle('Correlation between R, F and M')\n",
    "\n",
    "axs[0].scatter(x, y, alpha=0.5)\n",
    "axs[0].set_title(\"Relative Recency (x) vs Relative Frequency (y)\")\n",
    "\n",
    "axs[1].scatter(y, z, alpha=0.5)\n",
    "axs[1].set_title(\"Relative Frequency (x) vs Relative Monetary Value (y)\")\n",
    "\n",
    "axs[2].scatter(x, z, alpha=0.5)\n",
    "axs[2].set_title(\"Relative Recency (x) vs Relative Monetary Value (y)\")\n"
   ]
  },
  {
   "cell_type": "code",
   "execution_count": 50,
   "id": "approved-beast",
   "metadata": {
    "execution": {
     "iopub.execute_input": "2021-04-22T20:02:29.021022Z",
     "iopub.status.busy": "2021-04-22T20:02:29.019993Z",
     "iopub.status.idle": "2021-04-22T20:02:29.382091Z",
     "shell.execute_reply": "2021-04-22T20:02:29.382614Z"
    },
    "papermill": {
     "duration": 0.445984,
     "end_time": "2021-04-22T20:02:29.382790",
     "exception": false,
     "start_time": "2021-04-22T20:02:28.936806",
     "status": "completed"
    },
    "tags": []
   },
   "outputs": [
    {
     "data": {
      "image/png": "[encoded data removed]",
      "text/plain": [
       "<Figure size 720x576 with 1 Axes>"
      ]
     },
     "metadata": {
      "needs_background": "light"
     },
     "output_type": "display_data"
    }
   ],
   "source": [
    "x = customer_data[\"RecencyScore\"]\n",
    "y = customer_data[\"FrequencyScore\"]\n",
    "z = customer_data[\"MonetaryScore\"]\n",
    "c = customer_data[\"RFM\"]\n",
    "fig = plt.figure(figsize=(10, 8))\n",
    "ax = fig.add_subplot(111, projection='3d')\n",
    "ax.scatter(xs=x, ys=y, zs=z, c=c, s=30, alpha=0.5)\n",
    "ax.set_title(\"RFM Visualisation\")\n",
    "ax.set_xlabel(\"Recency Score\")\n",
    "ax.set_ylabel(\"Frequency Score\")\n",
    "ax.set_zlabel(\"Monetary Score\")\n",
    "plt.show()"
   ]
  },
  {
   "cell_type": "markdown",
   "id": "living-delay",
   "metadata": {
    "papermill": {
     "duration": 0.080702,
     "end_time": "2021-04-22T20:02:29.544325",
     "exception": false,
     "start_time": "2021-04-22T20:02:29.463623",
     "status": "completed"
    },
    "tags": []
   },
   "source": [
    "# Generate simple criteria for labelling"
   ]
  },
  {
   "cell_type": "code",
   "execution_count": 51,
   "id": "important-drive",
   "metadata": {
    "execution": {
     "iopub.execute_input": "2021-04-22T20:02:29.709404Z",
     "iopub.status.busy": "2021-04-22T20:02:29.708488Z",
     "iopub.status.idle": "2021-04-22T20:02:29.751146Z",
     "shell.execute_reply": "2021-04-22T20:02:29.751612Z"
    },
    "papermill": {
     "duration": 0.127034,
     "end_time": "2021-04-22T20:02:29.751791",
     "exception": false,
     "start_time": "2021-04-22T20:02:29.624757",
     "status": "completed"
    },
    "tags": []
   },
   "outputs": [
    {
     "data": {
      "text/html": [
       "<div>\n",
       "<style scoped>\n",
       "    .dataframe tbody tr th:only-of-type {\n",
       "        vertical-align: middle;\n",
       "    }\n",
       "\n",
       "    .dataframe tbody tr th {\n",
       "        vertical-align: top;\n",
       "    }\n",
       "\n",
       "    .dataframe thead th {\n",
       "        text-align: right;\n",
       "    }\n",
       "</style>\n",
       "<table border=\"1\" class=\"dataframe\">\n",
       "  <thead>\n",
       "    <tr style=\"text-align: right;\">\n",
       "      <th></th>\n",
       "      <th>Frequency</th>\n",
       "      <th>MonetaryValue</th>\n",
       "      <th>Recency</th>\n",
       "      <th>Lifetime</th>\n",
       "      <th>RelRecency</th>\n",
       "      <th>RelFrequency</th>\n",
       "      <th>RelMonetaryValue</th>\n",
       "      <th>RecencyScore</th>\n",
       "      <th>FrequencyScore</th>\n",
       "      <th>MonetaryScore</th>\n",
       "      <th>RFM</th>\n",
       "    </tr>\n",
       "  </thead>\n",
       "  <tbody>\n",
       "    <tr>\n",
       "      <th>count</th>\n",
       "      <td>4327.000000</td>\n",
       "      <td>4327.000000</td>\n",
       "      <td>4327.000000</td>\n",
       "      <td>4327.000000</td>\n",
       "      <td>4327.000000</td>\n",
       "      <td>4327.000000</td>\n",
       "      <td>4327.000000</td>\n",
       "      <td>4327.000000</td>\n",
       "      <td>4327.000000</td>\n",
       "      <td>4327.000000</td>\n",
       "      <td>4327.000000</td>\n",
       "    </tr>\n",
       "    <tr>\n",
       "      <th>mean</th>\n",
       "      <td>4.079039</td>\n",
       "      <td>1343.984997</td>\n",
       "      <td>92.408597</td>\n",
       "      <td>224.024728</td>\n",
       "      <td>0.494887</td>\n",
       "      <td>0.025330</td>\n",
       "      <td>9.972495</td>\n",
       "      <td>2.431015</td>\n",
       "      <td>2.496649</td>\n",
       "      <td>2.499884</td>\n",
       "      <td>7.427548</td>\n",
       "    </tr>\n",
       "    <tr>\n",
       "      <th>std</th>\n",
       "      <td>4.958752</td>\n",
       "      <td>1979.167289</td>\n",
       "      <td>100.902872</td>\n",
       "      <td>118.130616</td>\n",
       "      <td>0.413445</td>\n",
       "      <td>0.045113</td>\n",
       "      <td>99.884916</td>\n",
       "      <td>1.176236</td>\n",
       "      <td>1.119088</td>\n",
       "      <td>1.118267</td>\n",
       "      <td>2.775505</td>\n",
       "    </tr>\n",
       "    <tr>\n",
       "      <th>min</th>\n",
       "      <td>1.000000</td>\n",
       "      <td>-4287.630000</td>\n",
       "      <td>0.000000</td>\n",
       "      <td>1.000000</td>\n",
       "      <td>0.000000</td>\n",
       "      <td>0.002681</td>\n",
       "      <td>-29.775208</td>\n",
       "      <td>1.000000</td>\n",
       "      <td>1.000000</td>\n",
       "      <td>1.000000</td>\n",
       "      <td>3.000000</td>\n",
       "    </tr>\n",
       "    <tr>\n",
       "      <th>25%</th>\n",
       "      <td>1.000000</td>\n",
       "      <td>290.910000</td>\n",
       "      <td>17.000000</td>\n",
       "      <td>113.000000</td>\n",
       "      <td>0.000000</td>\n",
       "      <td>0.008130</td>\n",
       "      <td>1.682288</td>\n",
       "      <td>1.000000</td>\n",
       "      <td>1.000000</td>\n",
       "      <td>1.500000</td>\n",
       "      <td>5.000000</td>\n",
       "    </tr>\n",
       "    <tr>\n",
       "      <th>50%</th>\n",
       "      <td>2.000000</td>\n",
       "      <td>639.890000</td>\n",
       "      <td>50.000000</td>\n",
       "      <td>250.000000</td>\n",
       "      <td>0.603175</td>\n",
       "      <td>0.015528</td>\n",
       "      <td>4.148408</td>\n",
       "      <td>2.000000</td>\n",
       "      <td>2.000000</td>\n",
       "      <td>2.000000</td>\n",
       "      <td>8.000000</td>\n",
       "    </tr>\n",
       "    <tr>\n",
       "      <th>75%</th>\n",
       "      <td>5.000000</td>\n",
       "      <td>1550.490000</td>\n",
       "      <td>144.000000</td>\n",
       "      <td>329.000000</td>\n",
       "      <td>0.914954</td>\n",
       "      <td>0.028169</td>\n",
       "      <td>9.238084</td>\n",
       "      <td>3.500000</td>\n",
       "      <td>3.000000</td>\n",
       "      <td>3.500000</td>\n",
       "      <td>10.000000</td>\n",
       "    </tr>\n",
       "    <tr>\n",
       "      <th>max</th>\n",
       "      <td>89.000000</td>\n",
       "      <td>17078.450000</td>\n",
       "      <td>373.000000</td>\n",
       "      <td>373.000000</td>\n",
       "      <td>1.000000</td>\n",
       "      <td>1.000000</td>\n",
       "      <td>6196.850000</td>\n",
       "      <td>4.000000</td>\n",
       "      <td>4.000000</td>\n",
       "      <td>4.000000</td>\n",
       "      <td>12.000000</td>\n",
       "    </tr>\n",
       "  </tbody>\n",
       "</table>\n",
       "</div>"
      ],
      "text/plain": [
       "         Frequency  MonetaryValue      Recency     Lifetime   RelRecency  \\\n",
       "count  4327.000000    4327.000000  4327.000000  4327.000000  4327.000000   \n",
       "mean      4.079039    1343.984997    92.408597   224.024728     0.494887   \n",
       "std       4.958752    1979.167289   100.902872   118.130616     0.413445   \n",
       "min       1.000000   -4287.630000     0.000000     1.000000     0.000000   \n",
       "25%       1.000000     290.910000    17.000000   113.000000     0.000000   \n",
       "50%       2.000000     639.890000    50.000000   250.000000     0.603175   \n",
       "75%       5.000000    1550.490000   144.000000   329.000000     0.914954   \n",
       "max      89.000000   17078.450000   373.000000   373.000000     1.000000   \n",
       "\n",
       "       RelFrequency  RelMonetaryValue  RecencyScore  FrequencyScore  \\\n",
       "count   4327.000000       4327.000000   4327.000000     4327.000000   \n",
       "mean       0.025330          9.972495      2.431015        2.496649   \n",
       "std        0.045113         99.884916      1.176236        1.119088   \n",
       "min        0.002681        -29.775208      1.000000        1.000000   \n",
       "25%        0.008130          1.682288      1.000000        1.000000   \n",
       "50%        0.015528          4.148408      2.000000        2.000000   \n",
       "75%        0.028169          9.238084      3.500000        3.000000   \n",
       "max        1.000000       6196.850000      4.000000        4.000000   \n",
       "\n",
       "       MonetaryScore          RFM  \n",
       "count    4327.000000  4327.000000  \n",
       "mean        2.499884     7.427548  \n",
       "std         1.118267     2.775505  \n",
       "min         1.000000     3.000000  \n",
       "25%         1.500000     5.000000  \n",
       "50%         2.000000     8.000000  \n",
       "75%         3.500000    10.000000  \n",
       "max         4.000000    12.000000  "
      ]
     },
     "execution_count": 51,
     "metadata": {},
     "output_type": "execute_result"
    }
   ],
   "source": [
    "# From these statistics we can generate some heuristic business rules to simplify our segmentation.\n",
    "# For example, RFM score 3 and 4 can be combined, because these two groups tend to have only one transaction.\n",
    "# Create new columns with our learnings\n",
    "customer_data.describe()"
   ]
  },
  {
   "cell_type": "code",
   "execution_count": 52,
   "id": "postal-truth",
   "metadata": {
    "execution": {
     "iopub.execute_input": "2021-04-22T20:02:29.919368Z",
     "iopub.status.busy": "2021-04-22T20:02:29.918382Z",
     "iopub.status.idle": "2021-04-22T20:02:29.946986Z",
     "shell.execute_reply": "2021-04-22T20:02:29.947435Z"
    },
    "papermill": {
     "duration": 0.114725,
     "end_time": "2021-04-22T20:02:29.947625",
     "exception": false,
     "start_time": "2021-04-22T20:02:29.832900",
     "status": "completed"
    },
    "tags": []
   },
   "outputs": [
    {
     "data": {
      "text/html": [
       "<div>\n",
       "<style scoped>\n",
       "    .dataframe tbody tr th:only-of-type {\n",
       "        vertical-align: middle;\n",
       "    }\n",
       "\n",
       "    .dataframe tbody tr th {\n",
       "        vertical-align: top;\n",
       "    }\n",
       "\n",
       "    .dataframe thead tr th {\n",
       "        text-align: left;\n",
       "    }\n",
       "\n",
       "    .dataframe thead tr:last-of-type th {\n",
       "        text-align: right;\n",
       "    }\n",
       "</style>\n",
       "<table border=\"1\" class=\"dataframe\">\n",
       "  <thead>\n",
       "    <tr>\n",
       "      <th></th>\n",
       "      <th colspan=\"3\" halign=\"left\">Frequency</th>\n",
       "      <th colspan=\"4\" halign=\"left\">Lifetime</th>\n",
       "      <th colspan=\"3\" halign=\"left\">MonetaryValue</th>\n",
       "      <th colspan=\"3\" halign=\"left\">Recency</th>\n",
       "    </tr>\n",
       "    <tr>\n",
       "      <th></th>\n",
       "      <th>amax</th>\n",
       "      <th>amin</th>\n",
       "      <th>median</th>\n",
       "      <th>amax</th>\n",
       "      <th>amin</th>\n",
       "      <th>count</th>\n",
       "      <th>median</th>\n",
       "      <th>amax</th>\n",
       "      <th>amin</th>\n",
       "      <th>median</th>\n",
       "      <th>amax</th>\n",
       "      <th>amin</th>\n",
       "      <th>median</th>\n",
       "    </tr>\n",
       "    <tr>\n",
       "      <th>RFM</th>\n",
       "      <th></th>\n",
       "      <th></th>\n",
       "      <th></th>\n",
       "      <th></th>\n",
       "      <th></th>\n",
       "      <th></th>\n",
       "      <th></th>\n",
       "      <th></th>\n",
       "      <th></th>\n",
       "      <th></th>\n",
       "      <th></th>\n",
       "      <th></th>\n",
       "      <th></th>\n",
       "    </tr>\n",
       "  </thead>\n",
       "  <tbody>\n",
       "    <tr>\n",
       "      <th>3</th>\n",
       "      <td>1</td>\n",
       "      <td>1</td>\n",
       "      <td>1</td>\n",
       "      <td>373.0</td>\n",
       "      <td>123.0</td>\n",
       "      <td>557</td>\n",
       "      <td>270.0</td>\n",
       "      <td>590.00</td>\n",
       "      <td>-4.287630e+03</td>\n",
       "      <td>171.45</td>\n",
       "      <td>373.0</td>\n",
       "      <td>123.0</td>\n",
       "      <td>270.0</td>\n",
       "    </tr>\n",
       "    <tr>\n",
       "      <th>4</th>\n",
       "      <td>3</td>\n",
       "      <td>1</td>\n",
       "      <td>1</td>\n",
       "      <td>373.0</td>\n",
       "      <td>65.0</td>\n",
       "      <td>299</td>\n",
       "      <td>260.0</td>\n",
       "      <td>1308.48</td>\n",
       "      <td>-8.407600e+02</td>\n",
       "      <td>321.05</td>\n",
       "      <td>372.0</td>\n",
       "      <td>65.0</td>\n",
       "      <td>204.0</td>\n",
       "    </tr>\n",
       "    <tr>\n",
       "      <th>5</th>\n",
       "      <td>5</td>\n",
       "      <td>1</td>\n",
       "      <td>2</td>\n",
       "      <td>373.0</td>\n",
       "      <td>38.0</td>\n",
       "      <td>313</td>\n",
       "      <td>256.0</td>\n",
       "      <td>2661.24</td>\n",
       "      <td>-1.348000e+02</td>\n",
       "      <td>316.62</td>\n",
       "      <td>372.0</td>\n",
       "      <td>28.0</td>\n",
       "      <td>143.0</td>\n",
       "    </tr>\n",
       "    <tr>\n",
       "      <th>6</th>\n",
       "      <td>7</td>\n",
       "      <td>1</td>\n",
       "      <td>2</td>\n",
       "      <td>373.0</td>\n",
       "      <td>14.0</td>\n",
       "      <td>455</td>\n",
       "      <td>235.0</td>\n",
       "      <td>4008.62</td>\n",
       "      <td>-1.165300e+03</td>\n",
       "      <td>449.12</td>\n",
       "      <td>366.0</td>\n",
       "      <td>1.0</td>\n",
       "      <td>75.0</td>\n",
       "    </tr>\n",
       "    <tr>\n",
       "      <th>7</th>\n",
       "      <td>8</td>\n",
       "      <td>1</td>\n",
       "      <td>2</td>\n",
       "      <td>373.0</td>\n",
       "      <td>14.0</td>\n",
       "      <td>491</td>\n",
       "      <td>212.0</td>\n",
       "      <td>5288.63</td>\n",
       "      <td>-5.684342e-14</td>\n",
       "      <td>638.77</td>\n",
       "      <td>330.0</td>\n",
       "      <td>0.0</td>\n",
       "      <td>58.0</td>\n",
       "    </tr>\n",
       "    <tr>\n",
       "      <th>8</th>\n",
       "      <td>10</td>\n",
       "      <td>1</td>\n",
       "      <td>3</td>\n",
       "      <td>373.0</td>\n",
       "      <td>7.0</td>\n",
       "      <td>521</td>\n",
       "      <td>236.0</td>\n",
       "      <td>9861.38</td>\n",
       "      <td>2.664535e-14</td>\n",
       "      <td>819.29</td>\n",
       "      <td>306.0</td>\n",
       "      <td>1.0</td>\n",
       "      <td>38.0</td>\n",
       "    </tr>\n",
       "    <tr>\n",
       "      <th>9</th>\n",
       "      <td>11</td>\n",
       "      <td>1</td>\n",
       "      <td>4</td>\n",
       "      <td>373.0</td>\n",
       "      <td>1.0</td>\n",
       "      <td>572</td>\n",
       "      <td>198.5</td>\n",
       "      <td>12393.70</td>\n",
       "      <td>4.199000e+01</td>\n",
       "      <td>982.37</td>\n",
       "      <td>267.0</td>\n",
       "      <td>0.0</td>\n",
       "      <td>23.0</td>\n",
       "    </tr>\n",
       "    <tr>\n",
       "      <th>10</th>\n",
       "      <td>35</td>\n",
       "      <td>2</td>\n",
       "      <td>5</td>\n",
       "      <td>373.0</td>\n",
       "      <td>9.0</td>\n",
       "      <td>429</td>\n",
       "      <td>249.0</td>\n",
       "      <td>11990.96</td>\n",
       "      <td>1.370000e+02</td>\n",
       "      <td>1809.81</td>\n",
       "      <td>155.0</td>\n",
       "      <td>0.0</td>\n",
       "      <td>22.0</td>\n",
       "    </tr>\n",
       "    <tr>\n",
       "      <th>11</th>\n",
       "      <td>22</td>\n",
       "      <td>2</td>\n",
       "      <td>7</td>\n",
       "      <td>373.0</td>\n",
       "      <td>10.0</td>\n",
       "      <td>346</td>\n",
       "      <td>241.5</td>\n",
       "      <td>13375.87</td>\n",
       "      <td>2.141400e+02</td>\n",
       "      <td>2234.58</td>\n",
       "      <td>120.0</td>\n",
       "      <td>0.0</td>\n",
       "      <td>9.0</td>\n",
       "    </tr>\n",
       "    <tr>\n",
       "      <th>12</th>\n",
       "      <td>89</td>\n",
       "      <td>2</td>\n",
       "      <td>13</td>\n",
       "      <td>373.0</td>\n",
       "      <td>17.0</td>\n",
       "      <td>344</td>\n",
       "      <td>333.5</td>\n",
       "      <td>17078.45</td>\n",
       "      <td>3.964800e+02</td>\n",
       "      <td>4391.71</td>\n",
       "      <td>31.0</td>\n",
       "      <td>0.0</td>\n",
       "      <td>4.0</td>\n",
       "    </tr>\n",
       "  </tbody>\n",
       "</table>\n",
       "</div>"
      ],
      "text/plain": [
       "    Frequency             Lifetime                     MonetaryValue  \\\n",
       "         amax amin median     amax   amin count median          amax   \n",
       "RFM                                                                    \n",
       "3           1    1      1    373.0  123.0   557  270.0        590.00   \n",
       "4           3    1      1    373.0   65.0   299  260.0       1308.48   \n",
       "5           5    1      2    373.0   38.0   313  256.0       2661.24   \n",
       "6           7    1      2    373.0   14.0   455  235.0       4008.62   \n",
       "7           8    1      2    373.0   14.0   491  212.0       5288.63   \n",
       "8          10    1      3    373.0    7.0   521  236.0       9861.38   \n",
       "9          11    1      4    373.0    1.0   572  198.5      12393.70   \n",
       "10         35    2      5    373.0    9.0   429  249.0      11990.96   \n",
       "11         22    2      7    373.0   10.0   346  241.5      13375.87   \n",
       "12         89    2     13    373.0   17.0   344  333.5      17078.45   \n",
       "\n",
       "                           Recency                \n",
       "             amin   median    amax   amin median  \n",
       "RFM                                               \n",
       "3   -4.287630e+03   171.45   373.0  123.0  270.0  \n",
       "4   -8.407600e+02   321.05   372.0   65.0  204.0  \n",
       "5   -1.348000e+02   316.62   372.0   28.0  143.0  \n",
       "6   -1.165300e+03   449.12   366.0    1.0   75.0  \n",
       "7   -5.684342e-14   638.77   330.0    0.0   58.0  \n",
       "8    2.664535e-14   819.29   306.0    1.0   38.0  \n",
       "9    4.199000e+01   982.37   267.0    0.0   23.0  \n",
       "10   1.370000e+02  1809.81   155.0    0.0   22.0  \n",
       "11   2.141400e+02  2234.58   120.0    0.0    9.0  \n",
       "12   3.964800e+02  4391.71    31.0    0.0    4.0  "
      ]
     },
     "execution_count": 52,
     "metadata": {},
     "output_type": "execute_result"
    }
   ],
   "source": [
    "rfm_rel"
   ]
  },
  {
   "cell_type": "code",
   "execution_count": 53,
   "id": "smart-apparatus",
   "metadata": {
    "execution": {
     "iopub.execute_input": "2021-04-22T20:02:30.116784Z",
     "iopub.status.busy": "2021-04-22T20:02:30.115808Z",
     "iopub.status.idle": "2021-04-22T20:02:30.132059Z",
     "shell.execute_reply": "2021-04-22T20:02:30.132585Z"
    },
    "papermill": {
     "duration": 0.103127,
     "end_time": "2021-04-22T20:02:30.132756",
     "exception": false,
     "start_time": "2021-04-22T20:02:30.029629",
     "status": "completed"
    },
    "tags": []
   },
   "outputs": [
    {
     "data": {
      "text/plain": [
       "last_order_within_l60d  more_than_two_orders  value_higher_than_2k\n",
       "False                   False                 False                   1402\n",
       "                                              True                      24\n",
       "                        True                  False                    423\n",
       "                                              True                     100\n",
       "True                    False                 False                    794\n",
       "                                              True                      17\n",
       "                        True                  False                    876\n",
       "                                              True                     691\n",
       "Name: Lifetime, dtype: int64"
      ]
     },
     "execution_count": 53,
     "metadata": {},
     "output_type": "execute_result"
    }
   ],
   "source": [
    "customer_data[\"last_order_within_l60d\"] = customer_data[\"Recency\"]<60 # Had transactions in the last 60 days\n",
    "customer_data[\"more_than_two_orders\"] = customer_data[\"Frequency\"]>2 # Logged in more than twice\n",
    "customer_data[\"value_higher_than_2k\"] = customer_data[\"MonetaryValue\"]>2000 # Sum of value higher than 2K\n",
    "customer_data.groupby([\"last_order_within_l60d\", \"more_than_two_orders\", \"value_higher_than_2k\"]).count()[\"Lifetime\"]"
   ]
  },
  {
   "cell_type": "code",
   "execution_count": 54,
   "id": "colored-overhead",
   "metadata": {
    "execution": {
     "iopub.execute_input": "2021-04-22T20:02:30.311072Z",
     "iopub.status.busy": "2021-04-22T20:02:30.310297Z",
     "iopub.status.idle": "2021-04-22T20:02:30.322790Z",
     "shell.execute_reply": "2021-04-22T20:02:30.322189Z"
    },
    "papermill": {
     "duration": 0.108053,
     "end_time": "2021-04-22T20:02:30.322946",
     "exception": false,
     "start_time": "2021-04-22T20:02:30.214893",
     "status": "completed"
    },
    "tags": []
   },
   "outputs": [
    {
     "data": {
      "text/plain": [
       "05. low engagement & low value      1426\n",
       "02. high engagement & low value      876\n",
       "03. recent and low frequency         811\n",
       "01. high engagement & high value     691\n",
       "04. old and high frequency           523\n",
       "Name: FinalRFM, dtype: int64"
      ]
     },
     "execution_count": 54,
     "metadata": {},
     "output_type": "execute_result"
    }
   ],
   "source": [
    "conditions = [\n",
    "    (customer_data[\"last_order_within_l60d\"]==True)&(customer_data[\"more_than_two_orders\"]==True)&(customer_data[\"value_higher_than_2k\"]==True),\n",
    "    (customer_data[\"last_order_within_l60d\"]==True)&(customer_data[\"more_than_two_orders\"]==True)&(customer_data[\"value_higher_than_2k\"]==False),\n",
    "    (customer_data[\"last_order_within_l60d\"]==True)&(customer_data[\"more_than_two_orders\"]==False),\n",
    "    (customer_data[\"last_order_within_l60d\"]==False)&(customer_data[\"more_than_two_orders\"]==True),\n",
    "    (customer_data[\"last_order_within_l60d\"]==False)&(customer_data[\"more_than_two_orders\"]==False)\n",
    "]\n",
    "mappings = [\"01. high engagement & high value\", \n",
    "            \"02. high engagement & low value\", \n",
    "            \"03. recent and low frequency\", \n",
    "            \"04. old and high frequency\", \n",
    "            \"05. low engagement & low value\"]\n",
    "customer_data['FinalRFM'] = np.select(conditions, mappings, default=\"Others\")\n",
    "customer_data['FinalRFM'].value_counts()"
   ]
  },
  {
   "cell_type": "code",
   "execution_count": 55,
   "id": "lined-abuse",
   "metadata": {
    "execution": {
     "iopub.execute_input": "2021-04-22T20:02:30.493677Z",
     "iopub.status.busy": "2021-04-22T20:02:30.493013Z",
     "iopub.status.idle": "2021-04-22T20:02:30.542480Z",
     "shell.execute_reply": "2021-04-22T20:02:30.542973Z"
    },
    "papermill": {
     "duration": 0.136417,
     "end_time": "2021-04-22T20:02:30.543140",
     "exception": false,
     "start_time": "2021-04-22T20:02:30.406723",
     "status": "completed"
    },
    "tags": []
   },
   "outputs": [
    {
     "data": {
      "text/html": [
       "<div>\n",
       "<style scoped>\n",
       "    .dataframe tbody tr th:only-of-type {\n",
       "        vertical-align: middle;\n",
       "    }\n",
       "\n",
       "    .dataframe tbody tr th {\n",
       "        vertical-align: top;\n",
       "    }\n",
       "\n",
       "    .dataframe thead tr th {\n",
       "        text-align: left;\n",
       "    }\n",
       "\n",
       "    .dataframe thead tr:last-of-type th {\n",
       "        text-align: right;\n",
       "    }\n",
       "</style>\n",
       "<table border=\"1\" class=\"dataframe\">\n",
       "  <thead>\n",
       "    <tr>\n",
       "      <th></th>\n",
       "      <th colspan=\"3\" halign=\"left\">Frequency</th>\n",
       "      <th colspan=\"4\" halign=\"left\">Lifetime</th>\n",
       "      <th colspan=\"3\" halign=\"left\">MonetaryValue</th>\n",
       "      <th colspan=\"3\" halign=\"left\">Recency</th>\n",
       "    </tr>\n",
       "    <tr>\n",
       "      <th></th>\n",
       "      <th>amax</th>\n",
       "      <th>amin</th>\n",
       "      <th>median</th>\n",
       "      <th>amax</th>\n",
       "      <th>amin</th>\n",
       "      <th>count</th>\n",
       "      <th>median</th>\n",
       "      <th>amax</th>\n",
       "      <th>amin</th>\n",
       "      <th>median</th>\n",
       "      <th>amax</th>\n",
       "      <th>amin</th>\n",
       "      <th>median</th>\n",
       "    </tr>\n",
       "    <tr>\n",
       "      <th>FinalRFM</th>\n",
       "      <th></th>\n",
       "      <th></th>\n",
       "      <th></th>\n",
       "      <th></th>\n",
       "      <th></th>\n",
       "      <th></th>\n",
       "      <th></th>\n",
       "      <th></th>\n",
       "      <th></th>\n",
       "      <th></th>\n",
       "      <th></th>\n",
       "      <th></th>\n",
       "      <th></th>\n",
       "    </tr>\n",
       "  </thead>\n",
       "  <tbody>\n",
       "    <tr>\n",
       "      <th>01. high engagement &amp; high value</th>\n",
       "      <td>89</td>\n",
       "      <td>3</td>\n",
       "      <td>10</td>\n",
       "      <td>373.0</td>\n",
       "      <td>44.0</td>\n",
       "      <td>691</td>\n",
       "      <td>337.0</td>\n",
       "      <td>17078.45</td>\n",
       "      <td>2000.86</td>\n",
       "      <td>3541.920</td>\n",
       "      <td>59.0</td>\n",
       "      <td>0.0</td>\n",
       "      <td>10.0</td>\n",
       "    </tr>\n",
       "    <tr>\n",
       "      <th>02. high engagement &amp; low value</th>\n",
       "      <td>35</td>\n",
       "      <td>3</td>\n",
       "      <td>4</td>\n",
       "      <td>373.0</td>\n",
       "      <td>10.0</td>\n",
       "      <td>876</td>\n",
       "      <td>266.0</td>\n",
       "      <td>1998.49</td>\n",
       "      <td>-1165.30</td>\n",
       "      <td>1041.755</td>\n",
       "      <td>59.0</td>\n",
       "      <td>0.0</td>\n",
       "      <td>18.0</td>\n",
       "    </tr>\n",
       "    <tr>\n",
       "      <th>03. recent and low frequency</th>\n",
       "      <td>2</td>\n",
       "      <td>1</td>\n",
       "      <td>1</td>\n",
       "      <td>373.0</td>\n",
       "      <td>1.0</td>\n",
       "      <td>811</td>\n",
       "      <td>45.0</td>\n",
       "      <td>12393.70</td>\n",
       "      <td>-134.80</td>\n",
       "      <td>351.110</td>\n",
       "      <td>59.0</td>\n",
       "      <td>0.0</td>\n",
       "      <td>26.0</td>\n",
       "    </tr>\n",
       "    <tr>\n",
       "      <th>04. old and high frequency</th>\n",
       "      <td>18</td>\n",
       "      <td>3</td>\n",
       "      <td>4</td>\n",
       "      <td>373.0</td>\n",
       "      <td>81.0</td>\n",
       "      <td>523</td>\n",
       "      <td>304.0</td>\n",
       "      <td>11581.80</td>\n",
       "      <td>-141.48</td>\n",
       "      <td>991.850</td>\n",
       "      <td>360.0</td>\n",
       "      <td>60.0</td>\n",
       "      <td>107.0</td>\n",
       "    </tr>\n",
       "    <tr>\n",
       "      <th>05. low engagement &amp; low value</th>\n",
       "      <td>2</td>\n",
       "      <td>1</td>\n",
       "      <td>1</td>\n",
       "      <td>373.0</td>\n",
       "      <td>60.0</td>\n",
       "      <td>1426</td>\n",
       "      <td>238.0</td>\n",
       "      <td>9861.38</td>\n",
       "      <td>-4287.63</td>\n",
       "      <td>299.450</td>\n",
       "      <td>373.0</td>\n",
       "      <td>60.0</td>\n",
       "      <td>191.0</td>\n",
       "    </tr>\n",
       "  </tbody>\n",
       "</table>\n",
       "</div>"
      ],
      "text/plain": [
       "                                 Frequency             Lifetime              \\\n",
       "                                      amax amin median     amax  amin count   \n",
       "FinalRFM                                                                      \n",
       "01. high engagement & high value        89    3     10    373.0  44.0   691   \n",
       "02. high engagement & low value         35    3      4    373.0  10.0   876   \n",
       "03. recent and low frequency             2    1      1    373.0   1.0   811   \n",
       "04. old and high frequency              18    3      4    373.0  81.0   523   \n",
       "05. low engagement & low value           2    1      1    373.0  60.0  1426   \n",
       "\n",
       "                                        MonetaryValue                     \\\n",
       "                                 median          amax     amin    median   \n",
       "FinalRFM                                                                   \n",
       "01. high engagement & high value  337.0      17078.45  2000.86  3541.920   \n",
       "02. high engagement & low value   266.0       1998.49 -1165.30  1041.755   \n",
       "03. recent and low frequency       45.0      12393.70  -134.80   351.110   \n",
       "04. old and high frequency        304.0      11581.80  -141.48   991.850   \n",
       "05. low engagement & low value    238.0       9861.38 -4287.63   299.450   \n",
       "\n",
       "                                 Recency               \n",
       "                                    amax  amin median  \n",
       "FinalRFM                                               \n",
       "01. high engagement & high value    59.0   0.0   10.0  \n",
       "02. high engagement & low value     59.0   0.0   18.0  \n",
       "03. recent and low frequency        59.0   0.0   26.0  \n",
       "04. old and high frequency         360.0  60.0  107.0  \n",
       "05. low engagement & low value     373.0  60.0  191.0  "
      ]
     },
     "execution_count": 55,
     "metadata": {},
     "output_type": "execute_result"
    }
   ],
   "source": [
    "customer_data.pivot_table(index=[\"FinalRFM\"], \n",
    "                          values=[\"Recency\", \"Frequency\", \"MonetaryValue\", \"Lifetime\"], \n",
    "                          aggfunc={\"Recency\": [np.min, np.median, np.max], \n",
    "                                   \"Frequency\": [np.min, np.median, np.max], \n",
    "                                   \"MonetaryValue\": [np.min, np.median, np.max], \n",
    "                                   \"Lifetime\": [np.min, np.median, np.max, \"count\"]})"
   ]
  },
  {
   "cell_type": "markdown",
   "id": "featured-munich",
   "metadata": {
    "papermill": {
     "duration": 0.085049,
     "end_time": "2021-04-22T20:02:30.712179",
     "exception": false,
     "start_time": "2021-04-22T20:02:30.627130",
     "status": "completed"
    },
    "tags": []
   },
   "source": [
    "# Bonus: calculate the percentage of new, active, inactive and return users in each month"
   ]
  },
  {
   "cell_type": "code",
   "execution_count": 56,
   "id": "crazy-railway",
   "metadata": {
    "execution": {
     "iopub.execute_input": "2021-04-22T20:02:30.886217Z",
     "iopub.status.busy": "2021-04-22T20:02:30.885554Z",
     "iopub.status.idle": "2021-04-22T20:02:40.066157Z",
     "shell.execute_reply": "2021-04-22T20:02:40.065548Z"
    },
    "papermill": {
     "duration": 9.269181,
     "end_time": "2021-04-22T20:02:40.066309",
     "exception": false,
     "start_time": "2021-04-22T20:02:30.797128",
     "status": "completed"
    },
    "tags": []
   },
   "outputs": [
    {
     "data": {
      "text/html": [
       "<div>\n",
       "<style scoped>\n",
       "    .dataframe tbody tr th:only-of-type {\n",
       "        vertical-align: middle;\n",
       "    }\n",
       "\n",
       "    .dataframe tbody tr th {\n",
       "        vertical-align: top;\n",
       "    }\n",
       "\n",
       "    .dataframe thead tr th {\n",
       "        text-align: left;\n",
       "    }\n",
       "\n",
       "    .dataframe thead tr:last-of-type th {\n",
       "        text-align: right;\n",
       "    }\n",
       "</style>\n",
       "<table border=\"1\" class=\"dataframe\">\n",
       "  <thead>\n",
       "    <tr>\n",
       "      <th></th>\n",
       "      <th colspan=\"13\" halign=\"left\">InvoiceNo</th>\n",
       "    </tr>\n",
       "    <tr>\n",
       "      <th>InvoiceMonth</th>\n",
       "      <th>2010-12-01</th>\n",
       "      <th>2011-01-01</th>\n",
       "      <th>2011-02-01</th>\n",
       "      <th>2011-03-01</th>\n",
       "      <th>2011-04-01</th>\n",
       "      <th>2011-05-01</th>\n",
       "      <th>2011-06-01</th>\n",
       "      <th>2011-07-01</th>\n",
       "      <th>2011-08-01</th>\n",
       "      <th>2011-09-01</th>\n",
       "      <th>2011-10-01</th>\n",
       "      <th>2011-11-01</th>\n",
       "      <th>2011-12-01</th>\n",
       "    </tr>\n",
       "    <tr>\n",
       "      <th>CustomerID</th>\n",
       "      <th></th>\n",
       "      <th></th>\n",
       "      <th></th>\n",
       "      <th></th>\n",
       "      <th></th>\n",
       "      <th></th>\n",
       "      <th></th>\n",
       "      <th></th>\n",
       "      <th></th>\n",
       "      <th></th>\n",
       "      <th></th>\n",
       "      <th></th>\n",
       "      <th></th>\n",
       "    </tr>\n",
       "  </thead>\n",
       "  <tbody>\n",
       "    <tr>\n",
       "      <th>12346.0</th>\n",
       "      <td>0</td>\n",
       "      <td>2</td>\n",
       "      <td>0</td>\n",
       "      <td>0</td>\n",
       "      <td>0</td>\n",
       "      <td>0</td>\n",
       "      <td>0</td>\n",
       "      <td>0</td>\n",
       "      <td>0</td>\n",
       "      <td>0</td>\n",
       "      <td>0</td>\n",
       "      <td>0</td>\n",
       "      <td>0</td>\n",
       "    </tr>\n",
       "    <tr>\n",
       "      <th>12347.0</th>\n",
       "      <td>31</td>\n",
       "      <td>29</td>\n",
       "      <td>0</td>\n",
       "      <td>0</td>\n",
       "      <td>24</td>\n",
       "      <td>0</td>\n",
       "      <td>18</td>\n",
       "      <td>0</td>\n",
       "      <td>22</td>\n",
       "      <td>0</td>\n",
       "      <td>47</td>\n",
       "      <td>0</td>\n",
       "      <td>11</td>\n",
       "    </tr>\n",
       "    <tr>\n",
       "      <th>12348.0</th>\n",
       "      <td>17</td>\n",
       "      <td>6</td>\n",
       "      <td>0</td>\n",
       "      <td>0</td>\n",
       "      <td>5</td>\n",
       "      <td>0</td>\n",
       "      <td>0</td>\n",
       "      <td>0</td>\n",
       "      <td>0</td>\n",
       "      <td>3</td>\n",
       "      <td>0</td>\n",
       "      <td>0</td>\n",
       "      <td>0</td>\n",
       "    </tr>\n",
       "    <tr>\n",
       "      <th>12349.0</th>\n",
       "      <td>0</td>\n",
       "      <td>0</td>\n",
       "      <td>0</td>\n",
       "      <td>0</td>\n",
       "      <td>0</td>\n",
       "      <td>0</td>\n",
       "      <td>0</td>\n",
       "      <td>0</td>\n",
       "      <td>0</td>\n",
       "      <td>0</td>\n",
       "      <td>0</td>\n",
       "      <td>73</td>\n",
       "      <td>0</td>\n",
       "    </tr>\n",
       "    <tr>\n",
       "      <th>12350.0</th>\n",
       "      <td>0</td>\n",
       "      <td>0</td>\n",
       "      <td>17</td>\n",
       "      <td>0</td>\n",
       "      <td>0</td>\n",
       "      <td>0</td>\n",
       "      <td>0</td>\n",
       "      <td>0</td>\n",
       "      <td>0</td>\n",
       "      <td>0</td>\n",
       "      <td>0</td>\n",
       "      <td>0</td>\n",
       "      <td>0</td>\n",
       "    </tr>\n",
       "  </tbody>\n",
       "</table>\n",
       "</div>"
      ],
      "text/plain": [
       "              InvoiceNo                                              \\\n",
       "InvoiceMonth 2010-12-01 2011-01-01 2011-02-01 2011-03-01 2011-04-01   \n",
       "CustomerID                                                            \n",
       "12346.0               0          2          0          0          0   \n",
       "12347.0              31         29          0          0         24   \n",
       "12348.0              17          6          0          0          5   \n",
       "12349.0               0          0          0          0          0   \n",
       "12350.0               0          0         17          0          0   \n",
       "\n",
       "                                                                     \\\n",
       "InvoiceMonth 2011-05-01 2011-06-01 2011-07-01 2011-08-01 2011-09-01   \n",
       "CustomerID                                                            \n",
       "12346.0               0          0          0          0          0   \n",
       "12347.0               0         18          0         22          0   \n",
       "12348.0               0          0          0          0          3   \n",
       "12349.0               0          0          0          0          0   \n",
       "12350.0               0          0          0          0          0   \n",
       "\n",
       "                                               \n",
       "InvoiceMonth 2011-10-01 2011-11-01 2011-12-01  \n",
       "CustomerID                                     \n",
       "12346.0               0          0          0  \n",
       "12347.0              47          0         11  \n",
       "12348.0               0          0          0  \n",
       "12349.0               0         73          0  \n",
       "12350.0               0          0          0  "
      ]
     },
     "execution_count": 56,
     "metadata": {},
     "output_type": "execute_result"
    }
   ],
   "source": [
    "# Calculate the number of new users, inactive users, return users and active users in each month\n",
    "# Definition:\n",
    "# New users: those who made their first purchase in the current month\n",
    "# Active users: those who made purchases in the previous month and in the current month\n",
    "# Inactive users: those who made purchases in previous months, but not in the current month\n",
    "# Return users: those who made purchases before the previous month, not in the previous month and made purchases agian in the current month\n",
    "data[\"InvoiceMonth\"] = data[\"InvoiceDate\"].apply(lambda x: x.replace(day=1))\n",
    "data[\"InvoiceMonth\"] = data[\"InvoiceMonth\"].apply(lambda x: x.strftime(\"%Y-%m-%d\"))\n",
    "user_month_pivot = data.pivot_table(index=[\"CustomerID\"], \n",
    "                                    columns=[\"InvoiceMonth\"], \n",
    "                                    values=[\"InvoiceNo\"], \n",
    "                                    aggfunc=\"count\", \n",
    "                                    fill_value=0)\n",
    "user_month_pivot.head()"
   ]
  },
  {
   "cell_type": "code",
   "execution_count": 57,
   "id": "wicked-acrylic",
   "metadata": {
    "execution": {
     "iopub.execute_input": "2021-04-22T20:02:40.299388Z",
     "iopub.status.busy": "2021-04-22T20:02:40.285366Z",
     "iopub.status.idle": "2021-04-22T20:02:40.303490Z",
     "shell.execute_reply": "2021-04-22T20:02:40.304022Z"
    },
    "papermill": {
     "duration": 0.152366,
     "end_time": "2021-04-22T20:02:40.304196",
     "exception": false,
     "start_time": "2021-04-22T20:02:40.151830",
     "status": "completed"
    },
    "tags": []
   },
   "outputs": [
    {
     "data": {
      "text/html": [
       "<div>\n",
       "<style scoped>\n",
       "    .dataframe tbody tr th:only-of-type {\n",
       "        vertical-align: middle;\n",
       "    }\n",
       "\n",
       "    .dataframe tbody tr th {\n",
       "        vertical-align: top;\n",
       "    }\n",
       "\n",
       "    .dataframe thead tr th {\n",
       "        text-align: left;\n",
       "    }\n",
       "\n",
       "    .dataframe thead tr:last-of-type th {\n",
       "        text-align: right;\n",
       "    }\n",
       "</style>\n",
       "<table border=\"1\" class=\"dataframe\">\n",
       "  <thead>\n",
       "    <tr>\n",
       "      <th></th>\n",
       "      <th colspan=\"13\" halign=\"left\">InvoiceNo</th>\n",
       "    </tr>\n",
       "    <tr>\n",
       "      <th>InvoiceMonth</th>\n",
       "      <th>2010-12-01</th>\n",
       "      <th>2011-01-01</th>\n",
       "      <th>2011-02-01</th>\n",
       "      <th>2011-03-01</th>\n",
       "      <th>2011-04-01</th>\n",
       "      <th>2011-05-01</th>\n",
       "      <th>2011-06-01</th>\n",
       "      <th>2011-07-01</th>\n",
       "      <th>2011-08-01</th>\n",
       "      <th>2011-09-01</th>\n",
       "      <th>2011-10-01</th>\n",
       "      <th>2011-11-01</th>\n",
       "      <th>2011-12-01</th>\n",
       "    </tr>\n",
       "    <tr>\n",
       "      <th>CustomerID</th>\n",
       "      <th></th>\n",
       "      <th></th>\n",
       "      <th></th>\n",
       "      <th></th>\n",
       "      <th></th>\n",
       "      <th></th>\n",
       "      <th></th>\n",
       "      <th></th>\n",
       "      <th></th>\n",
       "      <th></th>\n",
       "      <th></th>\n",
       "      <th></th>\n",
       "      <th></th>\n",
       "    </tr>\n",
       "  </thead>\n",
       "  <tbody>\n",
       "    <tr>\n",
       "      <th>12346.0</th>\n",
       "      <td>0</td>\n",
       "      <td>1</td>\n",
       "      <td>0</td>\n",
       "      <td>0</td>\n",
       "      <td>0</td>\n",
       "      <td>0</td>\n",
       "      <td>0</td>\n",
       "      <td>0</td>\n",
       "      <td>0</td>\n",
       "      <td>0</td>\n",
       "      <td>0</td>\n",
       "      <td>0</td>\n",
       "      <td>0</td>\n",
       "    </tr>\n",
       "    <tr>\n",
       "      <th>12347.0</th>\n",
       "      <td>1</td>\n",
       "      <td>1</td>\n",
       "      <td>0</td>\n",
       "      <td>0</td>\n",
       "      <td>1</td>\n",
       "      <td>0</td>\n",
       "      <td>1</td>\n",
       "      <td>0</td>\n",
       "      <td>1</td>\n",
       "      <td>0</td>\n",
       "      <td>1</td>\n",
       "      <td>0</td>\n",
       "      <td>1</td>\n",
       "    </tr>\n",
       "    <tr>\n",
       "      <th>12348.0</th>\n",
       "      <td>1</td>\n",
       "      <td>1</td>\n",
       "      <td>0</td>\n",
       "      <td>0</td>\n",
       "      <td>1</td>\n",
       "      <td>0</td>\n",
       "      <td>0</td>\n",
       "      <td>0</td>\n",
       "      <td>0</td>\n",
       "      <td>1</td>\n",
       "      <td>0</td>\n",
       "      <td>0</td>\n",
       "      <td>0</td>\n",
       "    </tr>\n",
       "    <tr>\n",
       "      <th>12349.0</th>\n",
       "      <td>0</td>\n",
       "      <td>0</td>\n",
       "      <td>0</td>\n",
       "      <td>0</td>\n",
       "      <td>0</td>\n",
       "      <td>0</td>\n",
       "      <td>0</td>\n",
       "      <td>0</td>\n",
       "      <td>0</td>\n",
       "      <td>0</td>\n",
       "      <td>0</td>\n",
       "      <td>1</td>\n",
       "      <td>0</td>\n",
       "    </tr>\n",
       "    <tr>\n",
       "      <th>12350.0</th>\n",
       "      <td>0</td>\n",
       "      <td>0</td>\n",
       "      <td>1</td>\n",
       "      <td>0</td>\n",
       "      <td>0</td>\n",
       "      <td>0</td>\n",
       "      <td>0</td>\n",
       "      <td>0</td>\n",
       "      <td>0</td>\n",
       "      <td>0</td>\n",
       "      <td>0</td>\n",
       "      <td>0</td>\n",
       "      <td>0</td>\n",
       "    </tr>\n",
       "  </tbody>\n",
       "</table>\n",
       "</div>"
      ],
      "text/plain": [
       "              InvoiceNo                                              \\\n",
       "InvoiceMonth 2010-12-01 2011-01-01 2011-02-01 2011-03-01 2011-04-01   \n",
       "CustomerID                                                            \n",
       "12346.0               0          1          0          0          0   \n",
       "12347.0               1          1          0          0          1   \n",
       "12348.0               1          1          0          0          1   \n",
       "12349.0               0          0          0          0          0   \n",
       "12350.0               0          0          1          0          0   \n",
       "\n",
       "                                                                     \\\n",
       "InvoiceMonth 2011-05-01 2011-06-01 2011-07-01 2011-08-01 2011-09-01   \n",
       "CustomerID                                                            \n",
       "12346.0               0          0          0          0          0   \n",
       "12347.0               0          1          0          1          0   \n",
       "12348.0               0          0          0          0          1   \n",
       "12349.0               0          0          0          0          0   \n",
       "12350.0               0          0          0          0          0   \n",
       "\n",
       "                                               \n",
       "InvoiceMonth 2011-10-01 2011-11-01 2011-12-01  \n",
       "CustomerID                                     \n",
       "12346.0               0          0          0  \n",
       "12347.0               1          0          1  \n",
       "12348.0               0          0          0  \n",
       "12349.0               0          1          0  \n",
       "12350.0               0          0          0  "
      ]
     },
     "execution_count": 57,
     "metadata": {},
     "output_type": "execute_result"
    }
   ],
   "source": [
    "# Replace count of invoices with 1\n",
    "user_month_pivot = user_month_pivot.applymap(lambda x: 1 if x>0 else 0)\n",
    "user_month_pivot.head()"
   ]
  },
  {
   "cell_type": "code",
   "execution_count": 58,
   "id": "broke-administration",
   "metadata": {
    "execution": {
     "iopub.execute_input": "2021-04-22T20:02:40.480672Z",
     "iopub.status.busy": "2021-04-22T20:02:40.479657Z",
     "iopub.status.idle": "2021-04-22T20:02:40.485094Z",
     "shell.execute_reply": "2021-04-22T20:02:40.485696Z"
    },
    "papermill": {
     "duration": 0.095775,
     "end_time": "2021-04-22T20:02:40.485863",
     "exception": false,
     "start_time": "2021-04-22T20:02:40.390088",
     "status": "completed"
    },
    "tags": []
   },
   "outputs": [
    {
     "data": {
      "text/plain": [
       "13"
      ]
     },
     "execution_count": 58,
     "metadata": {},
     "output_type": "execute_result"
    }
   ],
   "source": [
    "# Get the number of columns\n",
    "len((user_month_pivot).columns)"
   ]
  },
  {
   "cell_type": "code",
   "execution_count": 59,
   "id": "manual-grave",
   "metadata": {
    "execution": {
     "iopub.execute_input": "2021-04-22T20:02:40.661903Z",
     "iopub.status.busy": "2021-04-22T20:02:40.660862Z",
     "iopub.status.idle": "2021-04-22T20:02:40.670055Z",
     "shell.execute_reply": "2021-04-22T20:02:40.669381Z"
    },
    "papermill": {
     "duration": 0.098333,
     "end_time": "2021-04-22T20:02:40.670197",
     "exception": false,
     "start_time": "2021-04-22T20:02:40.571864",
     "status": "completed"
    },
    "tags": []
   },
   "outputs": [],
   "source": [
    "# Define functions to get user status\n",
    "def user_status(data):\n",
    "    status = []\n",
    "    for i in range(13):\n",
    "    # If the user has no purchase in the current month\n",
    "        if data[i] == 0:\n",
    "            # If the user has made purchases before\n",
    "            if len(status) > 0:\n",
    "                # If the user is unregistered in the previous month\n",
    "                if status[i-1] == \"unreg\":\n",
    "                # The the user is also unregistered this month\n",
    "                    status.append(\"unreg\")\n",
    "                # Otherwise the user is an active user, i.e., he/she already registered\n",
    "                else:\n",
    "                    status.append(\"inactive\")\n",
    "            # Otherwise the user is not registered in the current month, i.e., he/she has never made any purchases\n",
    "            else:\n",
    "                status.append(\"unreg\")\n",
    "        else:\n",
    "            # This is the first purchase of the user\n",
    "            if len(status) == 0:\n",
    "                status.append(\"new\")\n",
    "            else:\n",
    "                if status[i-1] == \"inactive\":\n",
    "                    status.append(\"return\")\n",
    "                elif status[i-1] == \"unreg\":\n",
    "                    status.append(\"new\")\n",
    "                else:\n",
    "                    status.append(\"active\")\n",
    "    return status"
   ]
  },
  {
   "cell_type": "code",
   "execution_count": 60,
   "id": "running-letter",
   "metadata": {
    "execution": {
     "iopub.execute_input": "2021-04-22T20:02:40.856514Z",
     "iopub.status.busy": "2021-04-22T20:02:40.855848Z",
     "iopub.status.idle": "2021-04-22T20:02:42.271068Z",
     "shell.execute_reply": "2021-04-22T20:02:42.271553Z"
    },
    "papermill": {
     "duration": 1.515699,
     "end_time": "2021-04-22T20:02:42.271742",
     "exception": false,
     "start_time": "2021-04-22T20:02:40.756043",
     "status": "completed"
    },
    "tags": []
   },
   "outputs": [
    {
     "data": {
      "text/html": [
       "<div>\n",
       "<style scoped>\n",
       "    .dataframe tbody tr th:only-of-type {\n",
       "        vertical-align: middle;\n",
       "    }\n",
       "\n",
       "    .dataframe tbody tr th {\n",
       "        vertical-align: top;\n",
       "    }\n",
       "\n",
       "    .dataframe thead tr th {\n",
       "        text-align: left;\n",
       "    }\n",
       "\n",
       "    .dataframe thead tr:last-of-type th {\n",
       "        text-align: right;\n",
       "    }\n",
       "</style>\n",
       "<table border=\"1\" class=\"dataframe\">\n",
       "  <thead>\n",
       "    <tr>\n",
       "      <th></th>\n",
       "      <th colspan=\"13\" halign=\"left\">InvoiceNo</th>\n",
       "    </tr>\n",
       "    <tr>\n",
       "      <th>InvoiceMonth</th>\n",
       "      <th>2010-12-01</th>\n",
       "      <th>2011-01-01</th>\n",
       "      <th>2011-02-01</th>\n",
       "      <th>2011-03-01</th>\n",
       "      <th>2011-04-01</th>\n",
       "      <th>2011-05-01</th>\n",
       "      <th>2011-06-01</th>\n",
       "      <th>2011-07-01</th>\n",
       "      <th>2011-08-01</th>\n",
       "      <th>2011-09-01</th>\n",
       "      <th>2011-10-01</th>\n",
       "      <th>2011-11-01</th>\n",
       "      <th>2011-12-01</th>\n",
       "    </tr>\n",
       "    <tr>\n",
       "      <th>CustomerID</th>\n",
       "      <th></th>\n",
       "      <th></th>\n",
       "      <th></th>\n",
       "      <th></th>\n",
       "      <th></th>\n",
       "      <th></th>\n",
       "      <th></th>\n",
       "      <th></th>\n",
       "      <th></th>\n",
       "      <th></th>\n",
       "      <th></th>\n",
       "      <th></th>\n",
       "      <th></th>\n",
       "    </tr>\n",
       "  </thead>\n",
       "  <tbody>\n",
       "    <tr>\n",
       "      <th>12346.0</th>\n",
       "      <td>unreg</td>\n",
       "      <td>new</td>\n",
       "      <td>inactive</td>\n",
       "      <td>inactive</td>\n",
       "      <td>inactive</td>\n",
       "      <td>inactive</td>\n",
       "      <td>inactive</td>\n",
       "      <td>inactive</td>\n",
       "      <td>inactive</td>\n",
       "      <td>inactive</td>\n",
       "      <td>inactive</td>\n",
       "      <td>inactive</td>\n",
       "      <td>inactive</td>\n",
       "    </tr>\n",
       "    <tr>\n",
       "      <th>12347.0</th>\n",
       "      <td>new</td>\n",
       "      <td>active</td>\n",
       "      <td>inactive</td>\n",
       "      <td>inactive</td>\n",
       "      <td>return</td>\n",
       "      <td>inactive</td>\n",
       "      <td>return</td>\n",
       "      <td>inactive</td>\n",
       "      <td>return</td>\n",
       "      <td>inactive</td>\n",
       "      <td>return</td>\n",
       "      <td>inactive</td>\n",
       "      <td>return</td>\n",
       "    </tr>\n",
       "    <tr>\n",
       "      <th>12348.0</th>\n",
       "      <td>new</td>\n",
       "      <td>active</td>\n",
       "      <td>inactive</td>\n",
       "      <td>inactive</td>\n",
       "      <td>return</td>\n",
       "      <td>inactive</td>\n",
       "      <td>inactive</td>\n",
       "      <td>inactive</td>\n",
       "      <td>inactive</td>\n",
       "      <td>return</td>\n",
       "      <td>inactive</td>\n",
       "      <td>inactive</td>\n",
       "      <td>inactive</td>\n",
       "    </tr>\n",
       "    <tr>\n",
       "      <th>12349.0</th>\n",
       "      <td>unreg</td>\n",
       "      <td>unreg</td>\n",
       "      <td>unreg</td>\n",
       "      <td>unreg</td>\n",
       "      <td>unreg</td>\n",
       "      <td>unreg</td>\n",
       "      <td>unreg</td>\n",
       "      <td>unreg</td>\n",
       "      <td>unreg</td>\n",
       "      <td>unreg</td>\n",
       "      <td>unreg</td>\n",
       "      <td>new</td>\n",
       "      <td>inactive</td>\n",
       "    </tr>\n",
       "    <tr>\n",
       "      <th>12350.0</th>\n",
       "      <td>unreg</td>\n",
       "      <td>unreg</td>\n",
       "      <td>new</td>\n",
       "      <td>inactive</td>\n",
       "      <td>inactive</td>\n",
       "      <td>inactive</td>\n",
       "      <td>inactive</td>\n",
       "      <td>inactive</td>\n",
       "      <td>inactive</td>\n",
       "      <td>inactive</td>\n",
       "      <td>inactive</td>\n",
       "      <td>inactive</td>\n",
       "      <td>inactive</td>\n",
       "    </tr>\n",
       "  </tbody>\n",
       "</table>\n",
       "</div>"
      ],
      "text/plain": [
       "              InvoiceNo                                              \\\n",
       "InvoiceMonth 2010-12-01 2011-01-01 2011-02-01 2011-03-01 2011-04-01   \n",
       "CustomerID                                                            \n",
       "12346.0           unreg        new   inactive   inactive   inactive   \n",
       "12347.0             new     active   inactive   inactive     return   \n",
       "12348.0             new     active   inactive   inactive     return   \n",
       "12349.0           unreg      unreg      unreg      unreg      unreg   \n",
       "12350.0           unreg      unreg        new   inactive   inactive   \n",
       "\n",
       "                                                                     \\\n",
       "InvoiceMonth 2011-05-01 2011-06-01 2011-07-01 2011-08-01 2011-09-01   \n",
       "CustomerID                                                            \n",
       "12346.0        inactive   inactive   inactive   inactive   inactive   \n",
       "12347.0        inactive     return   inactive     return   inactive   \n",
       "12348.0        inactive   inactive   inactive   inactive     return   \n",
       "12349.0           unreg      unreg      unreg      unreg      unreg   \n",
       "12350.0        inactive   inactive   inactive   inactive   inactive   \n",
       "\n",
       "                                               \n",
       "InvoiceMonth 2011-10-01 2011-11-01 2011-12-01  \n",
       "CustomerID                                     \n",
       "12346.0        inactive   inactive   inactive  \n",
       "12347.0          return   inactive     return  \n",
       "12348.0        inactive   inactive   inactive  \n",
       "12349.0           unreg        new   inactive  \n",
       "12350.0        inactive   inactive   inactive  "
      ]
     },
     "execution_count": 60,
     "metadata": {},
     "output_type": "execute_result"
    }
   ],
   "source": [
    "user_month_status = pd.DataFrame(user_month_pivot.apply(lambda x: pd.Series(user_status(x)), axis=1))\n",
    "user_month_status.columns = user_month_pivot.columns\n",
    "user_month_status.head()"
   ]
  },
  {
   "cell_type": "code",
   "execution_count": 61,
   "id": "divine-needle",
   "metadata": {
    "execution": {
     "iopub.execute_input": "2021-04-22T20:02:42.449470Z",
     "iopub.status.busy": "2021-04-22T20:02:42.448758Z",
     "iopub.status.idle": "2021-04-22T20:02:42.495701Z",
     "shell.execute_reply": "2021-04-22T20:02:42.495134Z"
    },
    "papermill": {
     "duration": 0.137209,
     "end_time": "2021-04-22T20:02:42.495842",
     "exception": false,
     "start_time": "2021-04-22T20:02:42.358633",
     "status": "completed"
    },
    "tags": []
   },
   "outputs": [
    {
     "data": {
      "text/html": [
       "<div>\n",
       "<style scoped>\n",
       "    .dataframe tbody tr th:only-of-type {\n",
       "        vertical-align: middle;\n",
       "    }\n",
       "\n",
       "    .dataframe tbody tr th {\n",
       "        vertical-align: top;\n",
       "    }\n",
       "\n",
       "    .dataframe thead tr th {\n",
       "        text-align: left;\n",
       "    }\n",
       "</style>\n",
       "<table border=\"1\" class=\"dataframe\">\n",
       "  <thead>\n",
       "    <tr>\n",
       "      <th></th>\n",
       "      <th colspan=\"13\" halign=\"left\">InvoiceNo</th>\n",
       "    </tr>\n",
       "    <tr>\n",
       "      <th>InvoiceMonth</th>\n",
       "      <th>2010-12-01</th>\n",
       "      <th>2011-01-01</th>\n",
       "      <th>2011-02-01</th>\n",
       "      <th>2011-03-01</th>\n",
       "      <th>2011-04-01</th>\n",
       "      <th>2011-05-01</th>\n",
       "      <th>2011-06-01</th>\n",
       "      <th>2011-07-01</th>\n",
       "      <th>2011-08-01</th>\n",
       "      <th>2011-09-01</th>\n",
       "      <th>2011-10-01</th>\n",
       "      <th>2011-11-01</th>\n",
       "      <th>2011-12-01</th>\n",
       "    </tr>\n",
       "  </thead>\n",
       "  <tbody>\n",
       "    <tr>\n",
       "      <th>active</th>\n",
       "      <td>NaN</td>\n",
       "      <td>362.0</td>\n",
       "      <td>299</td>\n",
       "      <td>345</td>\n",
       "      <td>346</td>\n",
       "      <td>399</td>\n",
       "      <td>464</td>\n",
       "      <td>415</td>\n",
       "      <td>433</td>\n",
       "      <td>465</td>\n",
       "      <td>552</td>\n",
       "      <td>690</td>\n",
       "      <td>443</td>\n",
       "    </tr>\n",
       "    <tr>\n",
       "      <th>inactive</th>\n",
       "      <td>NaN</td>\n",
       "      <td>586.0</td>\n",
       "      <td>951</td>\n",
       "      <td>1169</td>\n",
       "      <td>1589</td>\n",
       "      <td>1688</td>\n",
       "      <td>1951</td>\n",
       "      <td>2200</td>\n",
       "      <td>2380</td>\n",
       "      <td>2356</td>\n",
       "      <td>2585</td>\n",
       "      <td>2620</td>\n",
       "      <td>3686</td>\n",
       "    </tr>\n",
       "    <tr>\n",
       "      <th>new</th>\n",
       "      <td>948.0</td>\n",
       "      <td>421.0</td>\n",
       "      <td>380</td>\n",
       "      <td>440</td>\n",
       "      <td>299</td>\n",
       "      <td>279</td>\n",
       "      <td>235</td>\n",
       "      <td>191</td>\n",
       "      <td>167</td>\n",
       "      <td>298</td>\n",
       "      <td>352</td>\n",
       "      <td>321</td>\n",
       "      <td>41</td>\n",
       "    </tr>\n",
       "    <tr>\n",
       "      <th>return</th>\n",
       "      <td>NaN</td>\n",
       "      <td>NaN</td>\n",
       "      <td>119</td>\n",
       "      <td>235</td>\n",
       "      <td>254</td>\n",
       "      <td>401</td>\n",
       "      <td>352</td>\n",
       "      <td>387</td>\n",
       "      <td>380</td>\n",
       "      <td>539</td>\n",
       "      <td>521</td>\n",
       "      <td>700</td>\n",
       "      <td>202</td>\n",
       "    </tr>\n",
       "  </tbody>\n",
       "</table>\n",
       "</div>"
      ],
      "text/plain": [
       "              InvoiceNo                                              \\\n",
       "InvoiceMonth 2010-12-01 2011-01-01 2011-02-01 2011-03-01 2011-04-01   \n",
       "active              NaN      362.0        299        345        346   \n",
       "inactive            NaN      586.0        951       1169       1589   \n",
       "new               948.0      421.0        380        440        299   \n",
       "return              NaN        NaN        119        235        254   \n",
       "\n",
       "                                                                     \\\n",
       "InvoiceMonth 2011-05-01 2011-06-01 2011-07-01 2011-08-01 2011-09-01   \n",
       "active              399        464        415        433        465   \n",
       "inactive           1688       1951       2200       2380       2356   \n",
       "new                 279        235        191        167        298   \n",
       "return              401        352        387        380        539   \n",
       "\n",
       "                                               \n",
       "InvoiceMonth 2011-10-01 2011-11-01 2011-12-01  \n",
       "active              552        690        443  \n",
       "inactive           2585       2620       3686  \n",
       "new                 352        321         41  \n",
       "return              521        700        202  "
      ]
     },
     "execution_count": 61,
     "metadata": {},
     "output_type": "execute_result"
    }
   ],
   "source": [
    "month_status_pivot = pd.DataFrame(user_month_status.replace(\"unreg\", np.NaN).apply(lambda x: pd.value_counts(x)))\n",
    "month_status_pivot.head()"
   ]
  },
  {
   "cell_type": "code",
   "execution_count": 62,
   "id": "plain-sailing",
   "metadata": {
    "execution": {
     "iopub.execute_input": "2021-04-22T20:02:42.679083Z",
     "iopub.status.busy": "2021-04-22T20:02:42.678274Z",
     "iopub.status.idle": "2021-04-22T20:02:42.682461Z",
     "shell.execute_reply": "2021-04-22T20:02:42.681870Z"
    },
    "papermill": {
     "duration": 0.1,
     "end_time": "2021-04-22T20:02:42.682609",
     "exception": false,
     "start_time": "2021-04-22T20:02:42.582609",
     "status": "completed"
    },
    "tags": []
   },
   "outputs": [],
   "source": [
    "month_status_pivot = month_status_pivot.fillna(0).T\n",
    "month_status_pivot.reset_index(inplace=True)\n",
    "month_status_pivot.set_index(\"InvoiceMonth\", inplace=True)"
   ]
  },
  {
   "cell_type": "code",
   "execution_count": 63,
   "id": "military-teach",
   "metadata": {
    "execution": {
     "iopub.execute_input": "2021-04-22T20:02:42.888724Z",
     "iopub.status.busy": "2021-04-22T20:02:42.880275Z",
     "iopub.status.idle": "2021-04-22T20:02:43.065524Z",
     "shell.execute_reply": "2021-04-22T20:02:43.065984Z"
    },
    "papermill": {
     "duration": 0.296036,
     "end_time": "2021-04-22T20:02:43.066201",
     "exception": false,
     "start_time": "2021-04-22T20:02:42.770165",
     "status": "completed"
    },
    "tags": []
   },
   "outputs": [
    {
     "data": {
      "image/png": "[encoded data removed]",
      "text/plain": [
       "<Figure size 864x432 with 1 Axes>"
      ]
     },
     "metadata": {
      "needs_background": "light"
     },
     "output_type": "display_data"
    }
   ],
   "source": [
    "ax = month_status_pivot.plot.area(figsize = (12,6))\n",
    "plt.title(\"Number of Users by Status in each month\")\n",
    "plt.show()"
   ]
  }
 ],
 "metadata": {
  "kernelspec": {
   "display_name": "Python 3 (ipykernel)",
   "language": "python",
   "name": "python3"
  },
  "language_info": {
   "codemirror_mode": {
    "name": "ipython",
    "version": 3
   },
   "file_extension": ".py",
   "mimetype": "text/x-python",
   "name": "python",
   "nbconvert_exporter": "python",
   "pygments_lexer": "ipython3",
   "version": "3.9.12"
  },
  "papermill": {
   "default_parameters": {},
   "duration": 39.603688,
   "end_time": "2021-04-22T20:02:43.866787",
   "environment_variables": {},
   "exception": null,
   "input_path": "__notebook__.ipynb",
   "output_path": "__notebook__.ipynb",
   "parameters": {},
   "start_time": "2021-04-22T20:02:04.263099",
   "version": "2.3.2"
  },
  "toc": {
   "base_numbering": 1,
   "nav_menu": {},
   "number_sections": true,
   "sideBar": true,
   "skip_h1_title": false,
   "title_cell": "Table of Contents",
   "title_sidebar": "Contents",
   "toc_cell": false,
   "toc_position": {},
   "toc_section_display": true,
   "toc_window_display": true
  }
 },
 "nbformat": 4,
 "nbformat_minor": 5
}
